{
 "cells": [
  {
   "cell_type": "code",
   "execution_count": null,
   "metadata": {},
   "outputs": [],
   "source": [
    "def get_gradient(v):\n",
    "    \"\"\"편미분 함수를 구한다. 즉 시점에서의 gradient\"\"\"\n",
    "    return [2 * (v_i - 2) for v_i in v]"
   ]
  },
  {
   "cell_type": "code",
   "execution_count": null,
   "metadata": {},
   "outputs": [],
   "source": [
    "def step(v, gradient, step_size):\n",
    "    \"\"\"현재 위치에서 step_size와 gradient 이용하여 이동한다.\"\"\"\n",
    "    return [v_i - step_size * direction_i \n",
    "            for v_i, direction_i in zip(v, gradient)]"
   ]
  },
  {
   "cell_type": "code",
   "execution_count": null,
   "metadata": {},
   "outputs": [],
   "source": [
    "import numpy as np\n",
    "\n",
    "random_generator = np.random.RandomState(42)\n",
    "\n",
    "# 첫번째 시작점 x_0, y_0를 선택한다.\n",
    "v = [random_generator.randint(-10, 10) for _ in range(2)]\n",
    "v"
   ]
  },
  {
   "cell_type": "code",
   "execution_count": null,
   "metadata": {},
   "outputs": [],
   "source": [
    "alpha = 0.01"
   ]
  },
  {
   "cell_type": "code",
   "execution_count": null,
   "metadata": {},
   "outputs": [],
   "source": [
    "import math\n",
    "def distance(v, w):\n",
    "    return math.sqrt(sum([(v_i - w_i)**2 for v_i, w_i in zip(v, w)]))"
   ]
  },
  {
   "cell_type": "code",
   "execution_count": null,
   "metadata": {},
   "outputs": [],
   "source": [
    "cnt = 0  # 중간 결과값을 출력할 때 사용하기 위함\n",
    "tol = 0.00001\n",
    "gradients = []  # Gradient의 변화\n",
    "plot_points = []  # Plotting을 위한 것\n",
    "\n",
    "while True:\n",
    "    cnt += 1\n",
    "    gradient = get_gradient(v)  # 시점에서의 gradient\n",
    "    next_v = step(v, gradient, alpha)\n",
    "    if not cnt % 15:\n",
    "        plot_points.append(next_v)\n",
    "        print(next_v)  # Debugging 용\n",
    "    if distance(next_v, v) < tol:\n",
    "        break\n",
    "    gradients.append(next_v)\n",
    "    v = next_v"
   ]
  },
  {
   "cell_type": "code",
   "execution_count": null,
   "metadata": {},
   "outputs": [],
   "source": [
    "def get_gradient(v):\n",
    "    \"\"\"편미분 함수를 구한다. 즉 시점에서의 gradient\"\"\"\n",
    "    x = v[0]\n",
    "    y = v[1]\n",
    "    return [(400*(x**3)) - (400*x*y) + (2*x) - 2, (200*y) - (200*(x**2))]"
   ]
  },
  {
   "cell_type": "code",
   "execution_count": null,
   "metadata": {},
   "outputs": [],
   "source": [
    "def step(v, gradient, step_size):\n",
    "    \"\"\"현재 위치에서 step_size와 gradient 이용하여 이동한다.\"\"\"\n",
    "    return [v_i - step_size * direction_i \n",
    "            for v_i, direction_i in zip(v, gradient)]"
   ]
  },
  {
   "cell_type": "code",
   "execution_count": null,
   "metadata": {},
   "outputs": [],
   "source": [
    "import numpy as np\n",
    "\n",
    "random_generator = np.random.RandomState(6)\n",
    "\n",
    "# 첫번째 시작점 x_0, y_0를 선택한다.\n",
    "v = [random_generator.randint(-10, 10) for _ in range(2)]\n",
    "v = [-1, 0]"
   ]
  },
  {
   "cell_type": "code",
   "execution_count": null,
   "metadata": {},
   "outputs": [],
   "source": [
    "alpha = 0.0001"
   ]
  },
  {
   "cell_type": "code",
   "execution_count": null,
   "metadata": {},
   "outputs": [],
   "source": [
    "import math\n",
    "def distance(v, w):\n",
    "    return math.sqrt(sum([(v_i - w_i)**2 for v_i, w_i in zip(v, w)]))"
   ]
  },
  {
   "cell_type": "code",
   "execution_count": null,
   "metadata": {},
   "outputs": [],
   "source": [
    "cnt = 0  # 중간 결과값을 출력할 때 사용하기 위함\n",
    "tol = 0.00001\n",
    "gradients = []  # Gradient의 변화\n",
    "plot_points = []  # Plotting을 위한 것\n",
    "\n",
    "while True:\n",
    "    cnt += 1\n",
    "    gradient = get_gradient(v)  # 시점에서의 gradient\n",
    "    next_v = step(v, gradient, alpha)\n",
    "    print(next_v)\n",
    "    if not cnt % 15:\n",
    "        plot_points.append(next_v)\n",
    "        print(next_v)  # Debugging 용\n",
    "    if distance(next_v, v) < tol:\n",
    "        break\n",
    "    gradients.append(next_v)\n",
    "    v = next_v"
   ]
  },
  {
   "cell_type": "code",
   "execution_count": null,
   "metadata": {},
   "outputs": [],
   "source": [
    "# Numpy array로 변경하면 사용이 편하다.\n",
    "gradients = np.array(gradients)\n",
    "\n",
    "x = gradients[:, 0]\n",
    "y = gradients[:, 1]"
   ]
  },
  {
   "cell_type": "code",
   "execution_count": null,
   "metadata": {},
   "outputs": [],
   "source": [
    "# 등고선을 그리기 위해서는 meshgrid가 필요함\n",
    "X, Y = np.meshgrid(x, y)\n",
    "Z = ((1-X)**2) + (100*(Y-(X**2)))**2"
   ]
  },
  {
   "cell_type": "code",
   "execution_count": null,
   "metadata": {},
   "outputs": [],
   "source": []
  }
 ],
 "metadata": {
  "kernelspec": {
   "display_name": "Python 3",
   "language": "python",
   "name": "python3"
  },
  "language_info": {
   "codemirror_mode": {
    "name": "ipython",
    "version": 3
   },
   "file_extension": ".py",
   "mimetype": "text/x-python",
   "name": "python",
   "nbconvert_exporter": "python",
   "pygments_lexer": "ipython3",
   "version": "3.7.1"
  }
 },
 "nbformat": 4,
 "nbformat_minor": 2
}
