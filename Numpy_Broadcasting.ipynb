{
 "cells": [
  {
   "cell_type": "code",
   "execution_count": 1,
   "metadata": {},
   "outputs": [],
   "source": [
    "import numpy as np"
   ]
  },
  {
   "cell_type": "markdown",
   "metadata": {},
   "source": [
    "# Broadcasting"
   ]
  },
  {
   "cell_type": "markdown",
   "metadata": {},
   "source": [
    "### <span style=\"color:blue\">**1. Broadcasting Intro**</span>"
   ]
  },
  {
   "cell_type": "code",
   "execution_count": 5,
   "metadata": {},
   "outputs": [
    {
     "name": "stdout",
     "output_type": "stream",
     "text": [
      "Array a : [0 1 2]\n",
      "Array b : [5 5 5]\n",
      "Array a + b : [5 6 7]\n"
     ]
    }
   ],
   "source": [
    "#binary operation is conducted between two arrays of same size\n",
    "a = np.array([0, 1, 2])\n",
    "b = np.array([5, 5, 5])\n",
    "\n",
    "print(\"Array a : \" + str(a))\n",
    "print(\"Array b : \" + str(b))\n",
    "print(\"Array a + b : \" + str(a + b))"
   ]
  },
  {
   "cell_type": "code",
   "execution_count": 6,
   "metadata": {},
   "outputs": [
    {
     "data": {
      "text/plain": [
       "array([5, 6, 7])"
      ]
     },
     "execution_count": 6,
     "metadata": {},
     "output_type": "execute_result"
    }
   ],
   "source": [
    "#Addition between a scalar and a 1 by 3 array\n",
    "a + 5"
   ]
  },
  {
   "cell_type": "code",
   "execution_count": 8,
   "metadata": {},
   "outputs": [
    {
     "data": {
      "text/plain": [
       "array([[1., 1., 1.],\n",
       "       [1., 1., 1.],\n",
       "       [1., 1., 1.]])"
      ]
     },
     "metadata": {},
     "output_type": "display_data"
    },
    {
     "data": {
      "text/plain": [
       "array([0, 1, 2])"
      ]
     },
     "metadata": {},
     "output_type": "display_data"
    },
    {
     "data": {
      "text/plain": [
       "array([[1., 2., 3.],\n",
       "       [1., 2., 3.],\n",
       "       [1., 2., 3.]])"
      ]
     },
     "metadata": {},
     "output_type": "display_data"
    }
   ],
   "source": [
    "#addition between a (3, 3) array and a (1, 3 array)\n",
    "Mat = np.ones((3, 3))\n",
    "display(Mat)\n",
    "display(a)\n",
    "\n",
    "#the one-dimensional vector will be broadcasted to match the dimension of the two-dimensional array\n",
    "display(Mat + a)"
   ]
  },
  {
   "cell_type": "code",
   "execution_count": 9,
   "metadata": {},
   "outputs": [
    {
     "data": {
      "text/plain": [
       "array([0, 1, 2])"
      ]
     },
     "metadata": {},
     "output_type": "display_data"
    },
    {
     "data": {
      "text/plain": [
       "array([[0],\n",
       "       [1],\n",
       "       [2]])"
      ]
     },
     "metadata": {},
     "output_type": "display_data"
    },
    {
     "data": {
      "text/plain": [
       "array([[0, 1, 2],\n",
       "       [1, 2, 3],\n",
       "       [2, 3, 4]])"
      ]
     },
     "metadata": {},
     "output_type": "display_data"
    }
   ],
   "source": [
    "#addition between (1, 3) array and (3, 1) array\n",
    "a = np.arange(3)\n",
    "b = np.arange(3)[:, np.newaxis]\n",
    "\n",
    "display(a)\n",
    "display(b)\n",
    "\n",
    "display(a + b)"
   ]
  },
  {
   "cell_type": "markdown",
   "metadata": {},
   "source": [
    "### <span style=\"color:blue\">**2. Broadcasting Rules**</span>\n",
    "\n",
    "1. If the dimension of two arrays are different, the array with smaller dimension will be reshaped so that their dimensions match. If the size of the smaller array was (6,), always add 1 in the first position of the size so that the array reshapes to (1,6)\n",
    "<br>\n",
    "<br>\n",
    "2. In a given dimension, if the size of two arrays do not match, increase the size of the matrix with 1 to match the size of the other array. For example, if array A's size is (6,6) and array B's size is (1,6), reshape array B to (6,6)\n",
    "<br>\n",
    "<br>\n",
    "3. In a given dimension, if the size of the two arrays do not match, or if none of the array's size is 1, you will get an error"
   ]
  },
  {
   "cell_type": "code",
   "execution_count": 13,
   "metadata": {},
   "outputs": [
    {
     "data": {
      "text/plain": [
       "array([[1., 1., 1.],\n",
       "       [1., 1., 1.]])"
      ]
     },
     "metadata": {},
     "output_type": "display_data"
    },
    {
     "data": {
      "text/plain": [
       "array([0, 1, 2])"
      ]
     },
     "metadata": {},
     "output_type": "display_data"
    },
    {
     "name": "stdout",
     "output_type": "stream",
     "text": [
      "==== Shape ====\n",
      "(2, 3)\n",
      "(3,)\n",
      "===============\n"
     ]
    },
    {
     "data": {
      "text/plain": [
       "array([[1., 2., 3.],\n",
       "       [1., 2., 3.]])"
      ]
     },
     "metadata": {},
     "output_type": "display_data"
    }
   ],
   "source": [
    "a = np.ones((2, 3))\n",
    "b = np.arange(3)\n",
    "\n",
    "display(a)\n",
    "display(b)\n",
    "\n",
    "\"\"\"\n",
    "1. Size of each array\n",
    " - a.shape = (2,3)\n",
    " - b.shape = (3,)\n",
    "\"\"\"\n",
    "print(\"==== Shape ====\")\n",
    "print(a.shape)\n",
    "print(b.shape)\n",
    "print(\"===============\")\n",
    "\n",
    "\"\"\"\n",
    "2. follow rule number 1\n",
    " - a.shape = (2,3)\n",
    " - b.shape = (1,3)\n",
    " \n",
    "3. follow rule number 2\n",
    " - a.shape = (2,3)\n",
    " - b.shape = (2,3)\n",
    "\"\"\"\n",
    "\n",
    "display(a + b)"
   ]
  },
  {
   "cell_type": "code",
   "execution_count": 15,
   "metadata": {},
   "outputs": [
    {
     "data": {
      "text/plain": [
       "array([[0],\n",
       "       [1],\n",
       "       [2]])"
      ]
     },
     "metadata": {},
     "output_type": "display_data"
    },
    {
     "data": {
      "text/plain": [
       "array([0, 1, 2])"
      ]
     },
     "metadata": {},
     "output_type": "display_data"
    },
    {
     "name": "stdout",
     "output_type": "stream",
     "text": [
      "==== Shape ====\n",
      "(3, 1)\n",
      "(3,)\n",
      "===============\n"
     ]
    },
    {
     "data": {
      "text/plain": [
       "array([[0, 1, 2],\n",
       "       [1, 2, 3],\n",
       "       [2, 3, 4]])"
      ]
     },
     "metadata": {},
     "output_type": "display_data"
    }
   ],
   "source": [
    "vec1 = np.arange(3).reshape((3, 1))\n",
    "vec2 = np.arange(3)\n",
    "\n",
    "display(vec1)\n",
    "display(vec2)\n",
    "\n",
    "\"\"\"\n",
    "1. Size of two arrays\n",
    " - vec1.shape = (3,1)\n",
    " - vec2.shape = (3,)\n",
    "\"\"\"\n",
    "print(\"==== Shape ====\")\n",
    "print(vec1.shape)\n",
    "print(vec2.shape)\n",
    "print(\"===============\")\n",
    "\n",
    "\"\"\" \n",
    "2. follow rule number 1\n",
    " - vec1.shape = (3,1)\n",
    " - vec2.shape = (1,3)\n",
    " \n",
    "3. follow rule number 2\n",
    " - mat.shape = (3,3)\n",
    " - vec.shape = (3,3)\n",
    "\"\"\"\n",
    "\n",
    "display(vec1 + vec2)"
   ]
  },
  {
   "cell_type": "code",
   "execution_count": 17,
   "metadata": {},
   "outputs": [
    {
     "data": {
      "text/plain": [
       "array([[1., 1.],\n",
       "       [1., 1.],\n",
       "       [1., 1.]])"
      ]
     },
     "metadata": {},
     "output_type": "display_data"
    },
    {
     "data": {
      "text/plain": [
       "array([0, 1, 2])"
      ]
     },
     "metadata": {},
     "output_type": "display_data"
    },
    {
     "name": "stdout",
     "output_type": "stream",
     "text": [
      "==== Shape ====\n",
      "(3, 2)\n",
      "(3,)\n",
      "==============\n"
     ]
    },
    {
     "ename": "ValueError",
     "evalue": "operands could not be broadcast together with shapes (3,2) (3,) ",
     "output_type": "error",
     "traceback": [
      "\u001b[0;31m---------------------------------------------------------------------------\u001b[0m",
      "\u001b[0;31mValueError\u001b[0m                                Traceback (most recent call last)",
      "\u001b[0;32m<ipython-input-17-8b939b599b7a>\u001b[0m in \u001b[0;36m<module>\u001b[0;34m\u001b[0m\n\u001b[1;32m     26\u001b[0m \"\"\"\n\u001b[1;32m     27\u001b[0m \u001b[0;34m\u001b[0m\u001b[0m\n\u001b[0;32m---> 28\u001b[0;31m \u001b[0mdisplay\u001b[0m\u001b[0;34m(\u001b[0m\u001b[0mmat\u001b[0m \u001b[0;34m+\u001b[0m \u001b[0mvec\u001b[0m\u001b[0;34m)\u001b[0m\u001b[0;34m\u001b[0m\u001b[0;34m\u001b[0m\u001b[0m\n\u001b[0m",
      "\u001b[0;31mValueError\u001b[0m: operands could not be broadcast together with shapes (3,2) (3,) "
     ]
    }
   ],
   "source": [
    "mat = np.ones((3, 2))\n",
    "vec = np.arange(3)\n",
    "\n",
    "display(mat)\n",
    "display(vec)\n",
    "\n",
    "\"\"\"\n",
    "1. size of arrays\n",
    " - mat.shape = (3,2)\n",
    " - vec.shape = (3,)\n",
    "\"\"\"\n",
    "\n",
    "print(\"==== Shape ====\")\n",
    "print(mat.shape)\n",
    "print(vec.shape)\n",
    "print(\"==============\")\n",
    "\n",
    "\"\"\" \n",
    "2. follow rule number 1\n",
    " - mat.shape = (3,2)\n",
    " - vec.shape = (1,3)\n",
    " \n",
    "3. follow rule number 2\n",
    " - mat.shape = (3,2)\n",
    " - vec.shape = (3,3)\n",
    "\"\"\"\n",
    "\n",
    "display(mat + vec)"
   ]
  },
  {
   "cell_type": "markdown",
   "metadata": {},
   "source": [
    "### <span style=\"color:blue\">**3. Broadcasting Examples**</span>\n",
    "\n",
    "Normalizing array : in order to make the average of each column as 0"
   ]
  },
  {
   "cell_type": "code",
   "execution_count": 19,
   "metadata": {},
   "outputs": [
    {
     "data": {
      "text/plain": [
       "array([[0.39001248, 0.8782508 , 0.85203452],\n",
       "       [0.32846186, 0.47845973, 0.88001472],\n",
       "       [0.81966597, 0.91033275, 0.10171476],\n",
       "       [0.08771122, 0.38612884, 0.16702707],\n",
       "       [0.90742477, 0.34171885, 0.64314906],\n",
       "       [0.08647212, 0.86515529, 0.02334602],\n",
       "       [0.14749921, 0.52559116, 0.76860794],\n",
       "       [0.994018  , 0.71009453, 0.48180595],\n",
       "       [0.18535889, 0.1038172 , 0.63231199],\n",
       "       [0.95850903, 0.61302942, 0.95038178]])"
      ]
     },
     "metadata": {},
     "output_type": "display_data"
    },
    {
     "data": {
      "text/plain": [
       "array([0.49051335, 0.58125786, 0.55003938])"
      ]
     },
     "metadata": {},
     "output_type": "display_data"
    },
    {
     "data": {
      "text/plain": [
       "array([[-0.10050087,  0.29699294,  0.30199514],\n",
       "       [-0.16205149, -0.10279813,  0.32997534],\n",
       "       [ 0.32915261,  0.32907489, -0.44832463],\n",
       "       [-0.40280213, -0.19512902, -0.38301231],\n",
       "       [ 0.41691141, -0.23953901,  0.09310968],\n",
       "       [-0.40404124,  0.28389744, -0.52669336],\n",
       "       [-0.34301415, -0.05566669,  0.21856856],\n",
       "       [ 0.50350465,  0.12883667, -0.06823343],\n",
       "       [-0.30515446, -0.47744066,  0.08227261],\n",
       "       [ 0.46799567,  0.03177156,  0.4003424 ]])"
      ]
     },
     "metadata": {},
     "output_type": "display_data"
    },
    {
     "data": {
      "text/plain": [
       "array([-0.,  0.,  0.])"
      ]
     },
     "metadata": {},
     "output_type": "display_data"
    }
   ],
   "source": [
    "# (10,3) array\n",
    "x = np.random.random((10, 3))\n",
    "\n",
    "# average of each column\n",
    "x_mean = x.mean(axis=0)\n",
    "\n",
    "# normalize by broadcasting\n",
    "x_cent = x - x_mean\n",
    "\n",
    "display(x)\n",
    "display(x_mean)\n",
    "display(x_cent)\n",
    "display(np.round(x_cent.sum(axis=0), 10))"
   ]
  }
 ],
 "metadata": {
  "kernelspec": {
   "display_name": "Python 3",
   "language": "python",
   "name": "python3"
  },
  "language_info": {
   "codemirror_mode": {
    "name": "ipython",
    "version": 3
   },
   "file_extension": ".py",
   "mimetype": "text/x-python",
   "name": "python",
   "nbconvert_exporter": "python",
   "pygments_lexer": "ipython3",
   "version": "3.7.1"
  }
 },
 "nbformat": 4,
 "nbformat_minor": 2
}
