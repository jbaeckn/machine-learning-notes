{
 "cells": [
  {
   "cell_type": "code",
   "execution_count": 1,
   "metadata": {},
   "outputs": [],
   "source": [
    "import numpy as np\n",
    "import matplotlib.pyplot as plt\n",
    "import pandas as pd\n",
    "import warnings\n",
    "import seaborn as sns\n",
    "warnings.filterwarnings(\"ignore\")\n",
    "\n",
    "pd.options.display.max_columns=None\n",
    "pd.options.display.max_rows=None\n",
    "pd.options.display.max_colwidth=1000000"
   ]
  },
  {
   "cell_type": "markdown",
   "metadata": {},
   "source": [
    "# Australian Weather Prediction\n",
    "\n",
    "The purpose of this project is to predict whether it will rain tomorrow or not, given independent variables (such as location, max/min temp, windspeed, evaporation, etc.) on a specific day"
   ]
  },
  {
   "cell_type": "markdown",
   "metadata": {},
   "source": [
    "## 1. Load Data"
   ]
  },
  {
   "cell_type": "code",
   "execution_count": 2,
   "metadata": {},
   "outputs": [
    {
     "data": {
      "text/html": [
       "<div>\n",
       "<style scoped>\n",
       "    .dataframe tbody tr th:only-of-type {\n",
       "        vertical-align: middle;\n",
       "    }\n",
       "\n",
       "    .dataframe tbody tr th {\n",
       "        vertical-align: top;\n",
       "    }\n",
       "\n",
       "    .dataframe thead th {\n",
       "        text-align: right;\n",
       "    }\n",
       "</style>\n",
       "<table border=\"1\" class=\"dataframe\">\n",
       "  <thead>\n",
       "    <tr style=\"text-align: right;\">\n",
       "      <th></th>\n",
       "      <th>Date</th>\n",
       "      <th>Location</th>\n",
       "      <th>MinTemp</th>\n",
       "      <th>MaxTemp</th>\n",
       "      <th>Rainfall</th>\n",
       "      <th>Evaporation</th>\n",
       "      <th>Sunshine</th>\n",
       "      <th>WindGustDir</th>\n",
       "      <th>WindGustSpeed</th>\n",
       "      <th>WindDir9am</th>\n",
       "      <th>WindDir3pm</th>\n",
       "      <th>WindSpeed9am</th>\n",
       "      <th>WindSpeed3pm</th>\n",
       "      <th>Humidity9am</th>\n",
       "      <th>Humidity3pm</th>\n",
       "      <th>Pressure9am</th>\n",
       "      <th>Pressure3pm</th>\n",
       "      <th>Cloud9am</th>\n",
       "      <th>Cloud3pm</th>\n",
       "      <th>Temp9am</th>\n",
       "      <th>Temp3pm</th>\n",
       "      <th>RainToday</th>\n",
       "      <th>RISK_MM</th>\n",
       "      <th>RainTomorrow</th>\n",
       "    </tr>\n",
       "  </thead>\n",
       "  <tbody>\n",
       "    <tr>\n",
       "      <th>0</th>\n",
       "      <td>2008-12-01</td>\n",
       "      <td>Albury</td>\n",
       "      <td>13.4</td>\n",
       "      <td>22.9</td>\n",
       "      <td>0.6</td>\n",
       "      <td>NaN</td>\n",
       "      <td>NaN</td>\n",
       "      <td>W</td>\n",
       "      <td>44.0</td>\n",
       "      <td>W</td>\n",
       "      <td>WNW</td>\n",
       "      <td>20.0</td>\n",
       "      <td>24.0</td>\n",
       "      <td>71.0</td>\n",
       "      <td>22.0</td>\n",
       "      <td>1007.7</td>\n",
       "      <td>1007.1</td>\n",
       "      <td>8.0</td>\n",
       "      <td>NaN</td>\n",
       "      <td>16.9</td>\n",
       "      <td>21.8</td>\n",
       "      <td>No</td>\n",
       "      <td>0.0</td>\n",
       "      <td>No</td>\n",
       "    </tr>\n",
       "    <tr>\n",
       "      <th>1</th>\n",
       "      <td>2008-12-02</td>\n",
       "      <td>Albury</td>\n",
       "      <td>7.4</td>\n",
       "      <td>25.1</td>\n",
       "      <td>0.0</td>\n",
       "      <td>NaN</td>\n",
       "      <td>NaN</td>\n",
       "      <td>WNW</td>\n",
       "      <td>44.0</td>\n",
       "      <td>NNW</td>\n",
       "      <td>WSW</td>\n",
       "      <td>4.0</td>\n",
       "      <td>22.0</td>\n",
       "      <td>44.0</td>\n",
       "      <td>25.0</td>\n",
       "      <td>1010.6</td>\n",
       "      <td>1007.8</td>\n",
       "      <td>NaN</td>\n",
       "      <td>NaN</td>\n",
       "      <td>17.2</td>\n",
       "      <td>24.3</td>\n",
       "      <td>No</td>\n",
       "      <td>0.0</td>\n",
       "      <td>No</td>\n",
       "    </tr>\n",
       "    <tr>\n",
       "      <th>2</th>\n",
       "      <td>2008-12-03</td>\n",
       "      <td>Albury</td>\n",
       "      <td>12.9</td>\n",
       "      <td>25.7</td>\n",
       "      <td>0.0</td>\n",
       "      <td>NaN</td>\n",
       "      <td>NaN</td>\n",
       "      <td>WSW</td>\n",
       "      <td>46.0</td>\n",
       "      <td>W</td>\n",
       "      <td>WSW</td>\n",
       "      <td>19.0</td>\n",
       "      <td>26.0</td>\n",
       "      <td>38.0</td>\n",
       "      <td>30.0</td>\n",
       "      <td>1007.6</td>\n",
       "      <td>1008.7</td>\n",
       "      <td>NaN</td>\n",
       "      <td>2.0</td>\n",
       "      <td>21.0</td>\n",
       "      <td>23.2</td>\n",
       "      <td>No</td>\n",
       "      <td>0.0</td>\n",
       "      <td>No</td>\n",
       "    </tr>\n",
       "    <tr>\n",
       "      <th>3</th>\n",
       "      <td>2008-12-04</td>\n",
       "      <td>Albury</td>\n",
       "      <td>9.2</td>\n",
       "      <td>28.0</td>\n",
       "      <td>0.0</td>\n",
       "      <td>NaN</td>\n",
       "      <td>NaN</td>\n",
       "      <td>NE</td>\n",
       "      <td>24.0</td>\n",
       "      <td>SE</td>\n",
       "      <td>E</td>\n",
       "      <td>11.0</td>\n",
       "      <td>9.0</td>\n",
       "      <td>45.0</td>\n",
       "      <td>16.0</td>\n",
       "      <td>1017.6</td>\n",
       "      <td>1012.8</td>\n",
       "      <td>NaN</td>\n",
       "      <td>NaN</td>\n",
       "      <td>18.1</td>\n",
       "      <td>26.5</td>\n",
       "      <td>No</td>\n",
       "      <td>1.0</td>\n",
       "      <td>No</td>\n",
       "    </tr>\n",
       "    <tr>\n",
       "      <th>4</th>\n",
       "      <td>2008-12-05</td>\n",
       "      <td>Albury</td>\n",
       "      <td>17.5</td>\n",
       "      <td>32.3</td>\n",
       "      <td>1.0</td>\n",
       "      <td>NaN</td>\n",
       "      <td>NaN</td>\n",
       "      <td>W</td>\n",
       "      <td>41.0</td>\n",
       "      <td>ENE</td>\n",
       "      <td>NW</td>\n",
       "      <td>7.0</td>\n",
       "      <td>20.0</td>\n",
       "      <td>82.0</td>\n",
       "      <td>33.0</td>\n",
       "      <td>1010.8</td>\n",
       "      <td>1006.0</td>\n",
       "      <td>7.0</td>\n",
       "      <td>8.0</td>\n",
       "      <td>17.8</td>\n",
       "      <td>29.7</td>\n",
       "      <td>No</td>\n",
       "      <td>0.2</td>\n",
       "      <td>No</td>\n",
       "    </tr>\n",
       "  </tbody>\n",
       "</table>\n",
       "</div>"
      ],
      "text/plain": [
       "        Date Location  MinTemp  MaxTemp  Rainfall  Evaporation  Sunshine  \\\n",
       "0 2008-12-01   Albury     13.4     22.9       0.6          NaN       NaN   \n",
       "1 2008-12-02   Albury      7.4     25.1       0.0          NaN       NaN   \n",
       "2 2008-12-03   Albury     12.9     25.7       0.0          NaN       NaN   \n",
       "3 2008-12-04   Albury      9.2     28.0       0.0          NaN       NaN   \n",
       "4 2008-12-05   Albury     17.5     32.3       1.0          NaN       NaN   \n",
       "\n",
       "  WindGustDir  WindGustSpeed WindDir9am WindDir3pm  WindSpeed9am  \\\n",
       "0           W           44.0          W        WNW          20.0   \n",
       "1         WNW           44.0        NNW        WSW           4.0   \n",
       "2         WSW           46.0          W        WSW          19.0   \n",
       "3          NE           24.0         SE          E          11.0   \n",
       "4           W           41.0        ENE         NW           7.0   \n",
       "\n",
       "   WindSpeed3pm  Humidity9am  Humidity3pm  Pressure9am  Pressure3pm  Cloud9am  \\\n",
       "0          24.0         71.0         22.0       1007.7       1007.1       8.0   \n",
       "1          22.0         44.0         25.0       1010.6       1007.8       NaN   \n",
       "2          26.0         38.0         30.0       1007.6       1008.7       NaN   \n",
       "3           9.0         45.0         16.0       1017.6       1012.8       NaN   \n",
       "4          20.0         82.0         33.0       1010.8       1006.0       7.0   \n",
       "\n",
       "   Cloud3pm  Temp9am  Temp3pm RainToday  RISK_MM RainTomorrow  \n",
       "0       NaN     16.9     21.8        No      0.0           No  \n",
       "1       NaN     17.2     24.3        No      0.0           No  \n",
       "2       2.0     21.0     23.2        No      0.0           No  \n",
       "3       NaN     18.1     26.5        No      1.0           No  \n",
       "4       8.0     17.8     29.7        No      0.2           No  "
      ]
     },
     "execution_count": 2,
     "metadata": {},
     "output_type": "execute_result"
    }
   ],
   "source": [
    "#load dataset\n",
    "df = pd.read_csv('weatherAUS.csv', parse_dates=['Date'])\n",
    "df.head()"
   ]
  },
  {
   "cell_type": "code",
   "execution_count": 3,
   "metadata": {},
   "outputs": [
    {
     "data": {
      "text/html": [
       "<div>\n",
       "<style scoped>\n",
       "    .dataframe tbody tr th:only-of-type {\n",
       "        vertical-align: middle;\n",
       "    }\n",
       "\n",
       "    .dataframe tbody tr th {\n",
       "        vertical-align: top;\n",
       "    }\n",
       "\n",
       "    .dataframe thead th {\n",
       "        text-align: right;\n",
       "    }\n",
       "</style>\n",
       "<table border=\"1\" class=\"dataframe\">\n",
       "  <thead>\n",
       "    <tr style=\"text-align: right;\">\n",
       "      <th></th>\n",
       "      <th>Date</th>\n",
       "      <th>Location</th>\n",
       "      <th>MinTemp</th>\n",
       "      <th>MaxTemp</th>\n",
       "      <th>Rainfall</th>\n",
       "      <th>Evaporation</th>\n",
       "      <th>Sunshine</th>\n",
       "      <th>WindGustDir</th>\n",
       "      <th>WindGustSpeed</th>\n",
       "      <th>WindDir9am</th>\n",
       "      <th>WindDir3pm</th>\n",
       "      <th>WindSpeed9am</th>\n",
       "      <th>WindSpeed3pm</th>\n",
       "      <th>Humidity9am</th>\n",
       "      <th>Humidity3pm</th>\n",
       "      <th>Pressure9am</th>\n",
       "      <th>Pressure3pm</th>\n",
       "      <th>Cloud9am</th>\n",
       "      <th>Cloud3pm</th>\n",
       "      <th>Temp9am</th>\n",
       "      <th>Temp3pm</th>\n",
       "      <th>RainToday</th>\n",
       "      <th>RISK_MM</th>\n",
       "      <th>RainTomorrow</th>\n",
       "    </tr>\n",
       "  </thead>\n",
       "  <tbody>\n",
       "    <tr>\n",
       "      <th>0</th>\n",
       "      <td>2008-12-01</td>\n",
       "      <td>Albury</td>\n",
       "      <td>13.4</td>\n",
       "      <td>22.9</td>\n",
       "      <td>0.6</td>\n",
       "      <td>NaN</td>\n",
       "      <td>NaN</td>\n",
       "      <td>W</td>\n",
       "      <td>44.0</td>\n",
       "      <td>W</td>\n",
       "      <td>WNW</td>\n",
       "      <td>20.0</td>\n",
       "      <td>24.0</td>\n",
       "      <td>71.0</td>\n",
       "      <td>22.0</td>\n",
       "      <td>1007.7</td>\n",
       "      <td>1007.1</td>\n",
       "      <td>8.0</td>\n",
       "      <td>NaN</td>\n",
       "      <td>16.9</td>\n",
       "      <td>21.8</td>\n",
       "      <td>0.0</td>\n",
       "      <td>0.0</td>\n",
       "      <td>0</td>\n",
       "    </tr>\n",
       "    <tr>\n",
       "      <th>1</th>\n",
       "      <td>2008-12-02</td>\n",
       "      <td>Albury</td>\n",
       "      <td>7.4</td>\n",
       "      <td>25.1</td>\n",
       "      <td>0.0</td>\n",
       "      <td>NaN</td>\n",
       "      <td>NaN</td>\n",
       "      <td>WNW</td>\n",
       "      <td>44.0</td>\n",
       "      <td>NNW</td>\n",
       "      <td>WSW</td>\n",
       "      <td>4.0</td>\n",
       "      <td>22.0</td>\n",
       "      <td>44.0</td>\n",
       "      <td>25.0</td>\n",
       "      <td>1010.6</td>\n",
       "      <td>1007.8</td>\n",
       "      <td>NaN</td>\n",
       "      <td>NaN</td>\n",
       "      <td>17.2</td>\n",
       "      <td>24.3</td>\n",
       "      <td>0.0</td>\n",
       "      <td>0.0</td>\n",
       "      <td>0</td>\n",
       "    </tr>\n",
       "    <tr>\n",
       "      <th>2</th>\n",
       "      <td>2008-12-03</td>\n",
       "      <td>Albury</td>\n",
       "      <td>12.9</td>\n",
       "      <td>25.7</td>\n",
       "      <td>0.0</td>\n",
       "      <td>NaN</td>\n",
       "      <td>NaN</td>\n",
       "      <td>WSW</td>\n",
       "      <td>46.0</td>\n",
       "      <td>W</td>\n",
       "      <td>WSW</td>\n",
       "      <td>19.0</td>\n",
       "      <td>26.0</td>\n",
       "      <td>38.0</td>\n",
       "      <td>30.0</td>\n",
       "      <td>1007.6</td>\n",
       "      <td>1008.7</td>\n",
       "      <td>NaN</td>\n",
       "      <td>2.0</td>\n",
       "      <td>21.0</td>\n",
       "      <td>23.2</td>\n",
       "      <td>0.0</td>\n",
       "      <td>0.0</td>\n",
       "      <td>0</td>\n",
       "    </tr>\n",
       "  </tbody>\n",
       "</table>\n",
       "</div>"
      ],
      "text/plain": [
       "        Date Location  MinTemp  MaxTemp  Rainfall  Evaporation  Sunshine  \\\n",
       "0 2008-12-01   Albury     13.4     22.9       0.6          NaN       NaN   \n",
       "1 2008-12-02   Albury      7.4     25.1       0.0          NaN       NaN   \n",
       "2 2008-12-03   Albury     12.9     25.7       0.0          NaN       NaN   \n",
       "\n",
       "  WindGustDir  WindGustSpeed WindDir9am WindDir3pm  WindSpeed9am  \\\n",
       "0           W           44.0          W        WNW          20.0   \n",
       "1         WNW           44.0        NNW        WSW           4.0   \n",
       "2         WSW           46.0          W        WSW          19.0   \n",
       "\n",
       "   WindSpeed3pm  Humidity9am  Humidity3pm  Pressure9am  Pressure3pm  Cloud9am  \\\n",
       "0          24.0         71.0         22.0       1007.7       1007.1       8.0   \n",
       "1          22.0         44.0         25.0       1010.6       1007.8       NaN   \n",
       "2          26.0         38.0         30.0       1007.6       1008.7       NaN   \n",
       "\n",
       "   Cloud3pm  Temp9am  Temp3pm  RainToday  RISK_MM  RainTomorrow  \n",
       "0       NaN     16.9     21.8        0.0      0.0             0  \n",
       "1       NaN     17.2     24.3        0.0      0.0             0  \n",
       "2       2.0     21.0     23.2        0.0      0.0             0  "
      ]
     },
     "execution_count": 3,
     "metadata": {},
     "output_type": "execute_result"
    }
   ],
   "source": [
    "#replace values under 'RainTomorrow' and 'RainToday'\n",
    "#No : 0 and Yes : 1\n",
    "df['RainTomorrow'].replace({'No':0, 'Yes':1}, inplace=True)\n",
    "df['RainToday'].replace({'No':0, 'Yes':1}, inplace=True)\n",
    "df.head(3)"
   ]
  },
  {
   "cell_type": "markdown",
   "metadata": {},
   "source": [
    "## 2. Exploratory Data Analysis\n",
    "\n",
    "Process of elimination and imputation using\n",
    "1. Missing values\n",
    "2. Information Value and WOE"
   ]
  },
  {
   "cell_type": "markdown",
   "metadata": {},
   "source": [
    "### 2.1 Examine Missing Values"
   ]
  },
  {
   "cell_type": "code",
   "execution_count": 4,
   "metadata": {},
   "outputs": [
    {
     "name": "stdout",
     "output_type": "stream",
     "text": [
      "total number of data points : 142193\n"
     ]
    }
   ],
   "source": [
    "#total number of data points\n",
    "print(\"total number of data points : \" + str(len(df)))"
   ]
  },
  {
   "cell_type": "code",
   "execution_count": 5,
   "metadata": {},
   "outputs": [
    {
     "name": "stdout",
     "output_type": "stream",
     "text": [
      "no data : 110316\n",
      "yes data : 31877\n"
     ]
    }
   ],
   "source": [
    "print(\"no data : \" + str(len(df[df['RainTomorrow'] == 0])))\n",
    "print(\"yes data : \" + str(len(df[df['RainTomorrow'] == 1])))"
   ]
  },
  {
   "cell_type": "code",
   "execution_count": 6,
   "metadata": {},
   "outputs": [
    {
     "name": "stdout",
     "output_type": "stream",
     "text": [
      "percentage of 'RainTomorrow' from the whole dataset : 0.22418121848473554\n"
     ]
    }
   ],
   "source": [
    "print(\"percentage of 'RainTomorrow' from the whole dataset : \" + str(31877 / (110316 + 31877)))"
   ]
  },
  {
   "cell_type": "code",
   "execution_count": 7,
   "metadata": {},
   "outputs": [
    {
     "data": {
      "text/plain": [
       "<matplotlib.axes._subplots.AxesSubplot at 0x1a28783390>"
      ]
     },
     "execution_count": 7,
     "metadata": {},
     "output_type": "execute_result"
    },
    {
     "data": {
      "image/png": "[encoded data removed]",
      "text/plain": [
       "<Figure size 432x288 with 1 Axes>"
      ]
     },
     "metadata": {
      "needs_background": "light"
     },
     "output_type": "display_data"
    }
   ],
   "source": [
    "#distribution of months\n",
    "sns.distplot(df['Date'].dt.month, kde=False)"
   ]
  },
  {
   "cell_type": "markdown",
   "metadata": {},
   "source": [
    "* One assumption in dealing with this dataset is that **year** does not really affect whether it will rain tomorrow or not. However, we will take **month** into consideration.\n",
    "* Month seems to be distributed evenly throughout the whole dataset"
   ]
  },
  {
   "cell_type": "code",
   "execution_count": 8,
   "metadata": {},
   "outputs": [
    {
     "data": {
      "text/plain": [
       "Date                 0\n",
       "Location             0\n",
       "MinTemp            637\n",
       "MaxTemp            322\n",
       "Rainfall          1406\n",
       "Evaporation      60843\n",
       "Sunshine         67816\n",
       "WindGustDir       9330\n",
       "WindGustSpeed     9270\n",
       "WindDir9am       10013\n",
       "WindDir3pm        3778\n",
       "WindSpeed9am      1348\n",
       "WindSpeed3pm      2630\n",
       "Humidity9am       1774\n",
       "Humidity3pm       3610\n",
       "Pressure9am      14014\n",
       "Pressure3pm      13981\n",
       "Cloud9am         53657\n",
       "Cloud3pm         57094\n",
       "Temp9am            904\n",
       "Temp3pm           2726\n",
       "RainToday         1406\n",
       "RISK_MM              0\n",
       "RainTomorrow         0\n",
       "dtype: int64"
      ]
     },
     "execution_count": 8,
     "metadata": {},
     "output_type": "execute_result"
    }
   ],
   "source": [
    "#look for missing values in each column\n",
    "df.isnull().sum()"
   ]
  },
  {
   "cell_type": "markdown",
   "metadata": {},
   "source": [
    "Average **WindSpeed3pm** and **WindSpeed9am** to make filling missing value later on easier"
   ]
  },
  {
   "cell_type": "code",
   "execution_count": 9,
   "metadata": {},
   "outputs": [],
   "source": [
    "df['WindSpeedAvg'] = (df['WindSpeed3pm'] + df['WindSpeed9am']) / 2"
   ]
  },
  {
   "cell_type": "markdown",
   "metadata": {},
   "source": [
    "**Missing Value Observation**<br>\n",
    "We have a total of 142,193 observations (data points)\n",
    "\n",
    "1. **Sunshine** : 67,816 out of 142,193 missing (nearly 47%)\n",
    "2. **Evaporation** : 60,843 out of 142,193 missing missing (nearly 43%)\n",
    "3. **Cloud3pm** : 57,094 out of 142,193 missing (nearly 40%)\n",
    "4. **Cloud9am** : 53,657 out of 142,193 missing (nearly 38%)\n",
    "5. **Pressure9am** : 14,014 out of 142,193 missing (nearly 10%)\n",
    "6. **Pressure3pm** : 13,981 out of 142,193 missing (nearly 10%)\n",
    "7. **WindDir9am** : 10,013 out of 142,193 missing (nearly 7%)\n",
    "8. **WindDir3pm** : 3,778 out of 142,193 missing (nearly 2%)"
   ]
  },
  {
   "cell_type": "markdown",
   "metadata": {},
   "source": [
    "### 2.2 Information Value and WOE Calculation"
   ]
  },
  {
   "cell_type": "code",
   "execution_count": 10,
   "metadata": {},
   "outputs": [],
   "source": [
    "def calculate_iv(df, column, target, max_bin):\n",
    "    bin_df = df[df[column].notnull()][[column, target]].copy()\n",
    "    \n",
    "    #if categorical\n",
    "    if bin_df[column].dtype == 'object':\n",
    "        bin_df = bin_df.groupby(column)[target].agg(['count', 'sum'])\n",
    "    else:\n",
    "        bin_df['bin'] = pd.qcut(bin_df[column].rank(method='first'), max_bin)\n",
    "        bin_df = bin_df.groupby('bin')[target].agg(['count', 'sum'])\n",
    "    \n",
    "    bin_df.columns = ['total', 'abnormal']\n",
    "    bin_df['normal'] = bin_df['total'] - bin_df['abnormal']\n",
    "    bin_df['normal_dist'] = bin_df['normal'] / sum(bin_df['normal'])\n",
    "    bin_df['abnormal_dist'] = bin_df['abnormal'] / sum(bin_df['abnormal'])\n",
    "    bin_df['woe'] = np.log(bin_df['normal_dist'] / bin_df['abnormal_dist'])\n",
    "    bin_df['iv'] = bin_df['woe'] * (bin_df['normal_dist'] - bin_df['abnormal_dist'])\n",
    "    \n",
    "    bin_df.replace([np.inf, -np.inf], 0, inplace=True)\n",
    "    bin_df = bin_df[bin_df['total'] > 0]\n",
    "    iv_val = sum(filter(lambda x: x != float('inf'), bin_df['iv']))\n",
    "    \n",
    "    return bin_df, column, iv_val"
   ]
  },
  {
   "cell_type": "code",
   "execution_count": 11,
   "metadata": {},
   "outputs": [
    {
     "data": {
      "text/plain": [
       "[('Sunshine', 1.3871867704518155),\n",
       " ('Cloud3pm', 0.9887073944152036),\n",
       " ('Cloud9am', 0.7121731751430987),\n",
       " ('RainToday', 0.4484383409870246),\n",
       " ('Pressure9am', 0.3465155263274764),\n",
       " ('WindGustSpeed', 0.29924903014217763),\n",
       " ('Pressure3pm', 0.2902225770540065),\n",
       " ('Location', 0.16210687977366678),\n",
       " ('MaxTemp', 0.15449355911735585),\n",
       " ('Evaporation', 0.11802518509918378),\n",
       " ('WindDir9am', 0.09801435562479796),\n",
       " ('WindGustDir', 0.0676479681745555),\n",
       " ('WindSpeedAvg', 0.0631002673547728),\n",
       " ('MinTemp', 0.05821765217612655),\n",
       " ('WindDir3pm', 0.05313562297763486),\n",
       " ('WindSpeed3pm', 0.05037603834863204),\n",
       " ('WindSpeed9am', 0.041675841616190965),\n",
       " ('RISK_MM', 0.0009978822699295321)]"
      ]
     },
     "metadata": {},
     "output_type": "display_data"
    }
   ],
   "source": [
    "#calculate IV for the given features\n",
    "columns = ['Sunshine', 'Evaporation', 'Cloud3pm', 'Cloud9am', 'Pressure9am', 'Pressure3pm', 'WindDir9am'\n",
    "          , 'WindDir3pm', 'Location', 'WindGustDir', 'MaxTemp', 'MinTemp', 'RISK_MM', 'RainToday', \n",
    "          'WindSpeed9am', 'WindSpeed3pm', 'WindSpeedAvg', 'WindGustSpeed']\n",
    "iv_record = {}\n",
    "\n",
    "for col in columns:\n",
    "    bin_df, column, iv_val = calculate_iv(df, col, 'RainTomorrow', 10)\n",
    "    iv_record[col] = iv_val\n",
    "\n",
    "import operator\n",
    "candidates = sorted(iv_record.items(), key=operator.itemgetter(1), reverse=True)\n",
    "display(candidates)"
   ]
  },
  {
   "cell_type": "markdown",
   "metadata": {},
   "source": [
    "* **Sunshine**, **Cloud3pm**, **Cloud9am** have very high Information Value and number of missing values, so we will get rid of these columns\n",
    "* **WindDir9am**, **WindDir3pm**, **WindGustDir** have low Information Value and large missing values so we will get rid of these columns\n",
    "* **Evaporation** also has high number of missing values, but its Information Value seems significant. Let's look into **Evaporation** later"
   ]
  },
  {
   "cell_type": "code",
   "execution_count": 12,
   "metadata": {},
   "outputs": [],
   "source": [
    "#delete irrelevent columns\n",
    "del df['Sunshine']\n",
    "del df['Cloud3pm']\n",
    "del df['Cloud9am']\n",
    "del df['WindDir9am']\n",
    "del df['WindDir3pm']\n",
    "del df['WindGustDir']\n",
    "del df['RISK_MM']\n",
    "del df['WindSpeed3pm']\n",
    "del df['WindSpeed9am']\n",
    "del df['Evaporation']"
   ]
  },
  {
   "cell_type": "markdown",
   "metadata": {},
   "source": [
    "* Whether it rained today or not has significant WOE, so we will discard any data points where **RainToday** is null"
   ]
  },
  {
   "cell_type": "code",
   "execution_count": 13,
   "metadata": {},
   "outputs": [],
   "source": [
    "# drop null RainToday rows\n",
    "df = df[~df['RainToday'].isnull()]"
   ]
  },
  {
   "cell_type": "markdown",
   "metadata": {},
   "source": [
    "### 2.3 Split Training/Test Dataset"
   ]
  },
  {
   "cell_type": "code",
   "execution_count": 14,
   "metadata": {},
   "outputs": [],
   "source": [
    "#parse year and month\n",
    "df['year'] = df['Date'].dt.year\n",
    "df['month'] = df['Date'].dt.month\n",
    "\n",
    "#delete Date and Year column\n",
    "del df['Date']\n",
    "del df['year']"
   ]
  },
  {
   "cell_type": "code",
   "execution_count": 15,
   "metadata": {},
   "outputs": [
    {
     "data": {
      "text/plain": [
       "['MinTemp',\n",
       " 'MaxTemp',\n",
       " 'Rainfall',\n",
       " 'WindGustSpeed',\n",
       " 'Humidity9am',\n",
       " 'Humidity3pm',\n",
       " 'Pressure9am',\n",
       " 'Pressure3pm',\n",
       " 'Temp9am',\n",
       " 'Temp3pm',\n",
       " 'RainToday',\n",
       " 'WindSpeedAvg']"
      ]
     },
     "execution_count": 15,
     "metadata": {},
     "output_type": "execute_result"
    }
   ],
   "source": [
    "#current columns\n",
    "feature_col = list(df.columns)\n",
    "feature_col.remove('Location')\n",
    "feature_col.remove('month')\n",
    "feature_col.remove('RainTomorrow')\n",
    "\n",
    "feature_col"
   ]
  },
  {
   "cell_type": "code",
   "execution_count": 16,
   "metadata": {},
   "outputs": [],
   "source": [
    "#drop rows where there are less than 10 non-null values\n",
    "#with such large missing data in a given column, it will be very hard to impute the missing values\n",
    "df.dropna(axis=0, subset=feature_col, thresh=10, inplace=True)"
   ]
  },
  {
   "cell_type": "code",
   "execution_count": 17,
   "metadata": {},
   "outputs": [
    {
     "data": {
      "text/plain": [
       "(135760, 15)"
      ]
     },
     "execution_count": 17,
     "metadata": {},
     "output_type": "execute_result"
    }
   ],
   "source": [
    "#check shape\n",
    "df.shape"
   ]
  },
  {
   "cell_type": "markdown",
   "metadata": {},
   "source": [
    "* Lost about **2,787** data points, which we can tolerate given the large number of dataset\n"
   ]
  },
  {
   "cell_type": "code",
   "execution_count": 18,
   "metadata": {},
   "outputs": [
    {
     "data": {
      "text/plain": [
       "Location            0\n",
       "MinTemp            91\n",
       "MaxTemp            52\n",
       "Rainfall            0\n",
       "WindGustSpeed    4678\n",
       "Humidity9am       842\n",
       "Humidity3pm      1451\n",
       "Pressure9am      9644\n",
       "Pressure3pm      9579\n",
       "Temp9am            90\n",
       "Temp3pm           668\n",
       "RainToday           0\n",
       "RainTomorrow        0\n",
       "WindSpeedAvg      315\n",
       "month               0\n",
       "dtype: int64"
      ]
     },
     "execution_count": 18,
     "metadata": {},
     "output_type": "execute_result"
    }
   ],
   "source": [
    "df.isnull().sum()"
   ]
  },
  {
   "cell_type": "code",
   "execution_count": 19,
   "metadata": {},
   "outputs": [
    {
     "data": {
      "text/plain": [
       "29914"
      ]
     },
     "execution_count": 19,
     "metadata": {},
     "output_type": "execute_result"
    }
   ],
   "source": [
    "#check the number of RainTomorrow is 1\n",
    "len(df[df['RainTomorrow'] == 1])"
   ]
  },
  {
   "cell_type": "code",
   "execution_count": 20,
   "metadata": {},
   "outputs": [],
   "source": [
    "#set null and alt target values equal\n",
    "null_train = df[df['RainTomorrow'] == 0].sample(29914)\n",
    "alt_train = df[df['RainTomorrow'] == 1]"
   ]
  },
  {
   "cell_type": "code",
   "execution_count": 21,
   "metadata": {},
   "outputs": [
    {
     "name": "stdout",
     "output_type": "stream",
     "text": [
      "(29914, 15)\n",
      "(29914, 15)\n"
     ]
    }
   ],
   "source": [
    "#check shape of null and alt datasets\n",
    "print(null_train.shape)\n",
    "print(alt_train.shape)"
   ]
  },
  {
   "cell_type": "code",
   "execution_count": 22,
   "metadata": {},
   "outputs": [],
   "source": [
    "#concatenate\n",
    "df = pd.concat([null_train, alt_train], axis=0)"
   ]
  },
  {
   "cell_type": "code",
   "execution_count": 23,
   "metadata": {},
   "outputs": [
    {
     "data": {
      "text/plain": [
       "(59828, 15)"
      ]
     },
     "execution_count": 23,
     "metadata": {},
     "output_type": "execute_result"
    }
   ],
   "source": [
    "#check new dataset shape\n",
    "df.shape"
   ]
  },
  {
   "cell_type": "code",
   "execution_count": 24,
   "metadata": {},
   "outputs": [],
   "source": [
    "#change month datatype\n",
    "df['month'] = df['month'].astype('object')"
   ]
  },
  {
   "cell_type": "code",
   "execution_count": 25,
   "metadata": {},
   "outputs": [],
   "source": [
    "from sklearn.model_selection import train_test_split\n",
    "\n",
    "X_train, X_test, y_train, y_test = train_test_split(df.loc[:, df.columns != 'RainTomorrow'],\n",
    "                                                   df['RainTomorrow'], stratify=df['RainTomorrow'], test_size=0.3)"
   ]
  },
  {
   "cell_type": "code",
   "execution_count": 26,
   "metadata": {},
   "outputs": [
    {
     "name": "stdout",
     "output_type": "stream",
     "text": [
      "(41879, 14)\n",
      "(17949, 14)\n",
      "(41879,)\n",
      "(17949,)\n"
     ]
    }
   ],
   "source": [
    "#check shapes\n",
    "print(X_train.shape)\n",
    "print(X_test.shape)\n",
    "print(y_train.shape)\n",
    "print(y_test.shape)"
   ]
  },
  {
   "cell_type": "code",
   "execution_count": 27,
   "metadata": {},
   "outputs": [
    {
     "data": {
      "text/plain": [
       "0.4999880608419494"
      ]
     },
     "execution_count": 27,
     "metadata": {},
     "output_type": "execute_result"
    }
   ],
   "source": [
    "#check positive to negative ratio in training dataset\n",
    "sum(y_train) / len(y_train)"
   ]
  },
  {
   "cell_type": "code",
   "execution_count": 28,
   "metadata": {},
   "outputs": [
    {
     "data": {
      "text/plain": [
       "0.500027856705109"
      ]
     },
     "execution_count": 28,
     "metadata": {},
     "output_type": "execute_result"
    }
   ],
   "source": [
    "#check positive to negative ratio in test dataset\n",
    "sum(y_test) / len(y_test)"
   ]
  },
  {
   "cell_type": "code",
   "execution_count": 29,
   "metadata": {},
   "outputs": [
    {
     "data": {
      "text/plain": [
       "Location            0\n",
       "MinTemp            27\n",
       "MaxTemp            14\n",
       "Rainfall            0\n",
       "WindGustSpeed    1548\n",
       "Humidity9am       291\n",
       "Humidity3pm       467\n",
       "Pressure9am      2911\n",
       "Pressure3pm      2887\n",
       "Temp9am            42\n",
       "Temp3pm           202\n",
       "RainToday           0\n",
       "WindSpeedAvg      109\n",
       "month               0\n",
       "dtype: int64"
      ]
     },
     "execution_count": 29,
     "metadata": {},
     "output_type": "execute_result"
    }
   ],
   "source": [
    "X_train.isnull().sum()"
   ]
  },
  {
   "cell_type": "markdown",
   "metadata": {},
   "source": [
    "### 2.4 Data Manipulation"
   ]
  },
  {
   "cell_type": "code",
   "execution_count": 30,
   "metadata": {},
   "outputs": [
    {
     "data": {
      "text/plain": [
       "Location            0\n",
       "MinTemp            27\n",
       "MaxTemp            14\n",
       "Rainfall            0\n",
       "WindGustSpeed    1548\n",
       "Humidity9am       291\n",
       "Humidity3pm       467\n",
       "Pressure9am      2911\n",
       "Pressure3pm      2887\n",
       "Temp9am            42\n",
       "Temp3pm           202\n",
       "RainToday           0\n",
       "WindSpeedAvg      109\n",
       "month               0\n",
       "dtype: int64"
      ]
     },
     "execution_count": 30,
     "metadata": {},
     "output_type": "execute_result"
    }
   ],
   "source": [
    "X_train.isnull().sum()"
   ]
  },
  {
   "cell_type": "code",
   "execution_count": 31,
   "metadata": {},
   "outputs": [
    {
     "data": {
      "text/plain": [
       "(36826, 14)"
      ]
     },
     "execution_count": 31,
     "metadata": {},
     "output_type": "execute_result"
    }
   ],
   "source": [
    "df_eda = X_train.dropna(how='any')\n",
    "df_eda.shape"
   ]
  },
  {
   "cell_type": "code",
   "execution_count": 32,
   "metadata": {},
   "outputs": [
    {
     "data": {
      "text/plain": [
       "(array([ 0.5,  1.5,  2.5,  3.5,  4.5,  5.5,  6.5,  7.5,  8.5,  9.5, 10.5]),\n",
       " <a list of 11 Text xticklabel objects>)"
      ]
     },
     "execution_count": 32,
     "metadata": {},
     "output_type": "execute_result"
    },
    {
     "data": {
      "image/png": "[encoded data removed]",
      "text/plain": [
       "<Figure size 1800x720 with 2 Axes>"
      ]
     },
     "metadata": {
      "needs_background": "light"
     },
     "output_type": "display_data"
    }
   ],
   "source": [
    "#correlation matrix\n",
    "plt.figure(figsize = (25,10))\n",
    "eda_columns = ['MaxTemp', 'MinTemp', 'RainToday', 'Humidity9am', 'Humidity3pm', \n",
    "               'Pressure9am', 'Pressure3pm', 'Temp3pm', 'Temp9am', 'WindGustSpeed', 'WindSpeedAvg']\n",
    "\n",
    "corr_mat = np.corrcoef(df_eda[eda_columns].values.T)\n",
    "sns.set(font_scale=1)\n",
    "full_mat = sns.heatmap(corr_mat, cbar=True, annot=True, square=True,\n",
    "                       fmt='.2f', annot_kws={'size': 15},\n",
    "                       yticklabels=eda_columns, xticklabels=eda_columns)\n",
    "plt.yticks(rotation=0)\n",
    "plt.xticks(rotation=45)"
   ]
  },
  {
   "cell_type": "code",
   "execution_count": 33,
   "metadata": {},
   "outputs": [],
   "source": [
    "def fill_missing1(training_df, filling_df, group_medium1, group_medium2, group_medium3, missing_feature):\n",
    "    \"\"\"\n",
    "    Arguments:\n",
    "    1. training_df : the dataset which is used to calculate missing values\n",
    "    2. filling_df : the dataset which will be imputed using the values calculated through this function\n",
    "    3. group_medium1 : the first medium through which we want to group the values\n",
    "    4. group_medium2 : the second medium through which we want to group the values\n",
    "    5. group_medium3 : the third medium through which we want to group the values\n",
    "    5. missing_feature : the feature that we want to eventually calculate missing values on\n",
    "    \n",
    "    ex) fill_humidity_missing(X_train, X_train, 'RainToday', 'Location, 'month', 'Humidity') will do the following:\n",
    "    group by Raintoday Location, and Month, in order, and calculate median Humidity rate from X_train dataset and\n",
    "    fill missing Humidity values in X_train dataset\n",
    "    \"\"\"\n",
    "    feature_dict = training_df.groupby([group_medium1, group_medium2, group_medium3])[missing_feature].agg(['median']).to_dict()['median']\n",
    "    \n",
    "    missing_index = filling_df.index[filling_df[missing_feature].isnull()].tolist()\n",
    "    \n",
    "    for row in missing_index:\n",
    "        filling_df.loc[row, missing_feature] = feature_dict[(filling_df.loc[row, group_medium1], \n",
    "                                                             filling_df.loc[row, group_medium2],\n",
    "                                                             filling_df.loc[row, group_medium3])]"
   ]
  },
  {
   "cell_type": "code",
   "execution_count": 34,
   "metadata": {},
   "outputs": [],
   "source": [
    "fill_missing1(X_train, X_train, 'RainToday', 'Location', 'month', 'Humidity3pm')\n",
    "fill_missing1(X_train, X_train, 'RainToday', 'Location', 'month', 'Humidity9am')\n",
    "fill_missing1(X_train, X_train, 'RainToday', 'Location', 'month', 'MaxTemp')\n",
    "fill_missing1(X_train, X_train, 'RainToday', 'Location', 'month', 'MinTemp')\n",
    "fill_missing1(X_train, X_train, 'RainToday', 'Location', 'month', 'Temp9am')\n",
    "fill_missing1(X_train, X_train, 'RainToday', 'Location', 'month', 'Temp3pm')"
   ]
  },
  {
   "cell_type": "code",
   "execution_count": 35,
   "metadata": {},
   "outputs": [],
   "source": [
    "def fill_missing2(training_df, filling_df, group_medium1, group_medium2, missing_feature):\n",
    "    \"\"\"\n",
    "    Arguments:\n",
    "    1. training_df : the dataset which is used to calculate missing values\n",
    "    2. filling_df : the dataset which will be imputed using the values calculated through this function\n",
    "    3. group_medium1 : the first medium through which we want to group the values\n",
    "    4. group_medium2 : the second medium through which we want to group the values\n",
    "    5. group_medium3 : the third medium through which we want to group the values\n",
    "    5. missing_feature : the feature that we want to eventually calculate missing values on\n",
    "    \n",
    "    ex) fill_humidity_missing(X_train, X_train, 'RainToday', 'Location, 'month', 'Humidity') will do the following:\n",
    "    group by Raintoday Location, and Month, in order, and calculate median Humidity rate from X_train dataset and\n",
    "    fill missing Humidity values in X_train dataset\n",
    "    \"\"\"\n",
    "    feature_dict = training_df.groupby([group_medium1, group_medium2])[missing_feature].agg(['median']).to_dict()['median']\n",
    "    \n",
    "    missing_index = filling_df.index[filling_df[missing_feature].isnull()].tolist()\n",
    "    \n",
    "    for row in missing_index:\n",
    "        filling_df.loc[row, missing_feature] = feature_dict[(filling_df.loc[row, group_medium1], \n",
    "                                                             filling_df.loc[row, group_medium2])]"
   ]
  },
  {
   "cell_type": "code",
   "execution_count": 36,
   "metadata": {},
   "outputs": [],
   "source": [
    "fill_missing2(X_train, X_train, 'RainToday', 'month', 'Pressure3pm')\n",
    "fill_missing2(X_train, X_train, 'RainToday', 'month', 'Pressure9am')"
   ]
  },
  {
   "cell_type": "code",
   "execution_count": 37,
   "metadata": {},
   "outputs": [],
   "source": [
    "fill_missing2(X_train, X_train, 'RainToday', 'month', 'WindSpeedAvg')"
   ]
  },
  {
   "cell_type": "code",
   "execution_count": 38,
   "metadata": {},
   "outputs": [],
   "source": [
    "fill_missing2(X_train, X_train, 'RainToday', 'month', 'Temp3pm')\n",
    "fill_missing2(X_train, X_train, 'RainToday', 'month', 'Humidity3pm')"
   ]
  },
  {
   "cell_type": "code",
   "execution_count": 39,
   "metadata": {},
   "outputs": [
    {
     "data": {
      "text/plain": [
       "(41879, 14)"
      ]
     },
     "execution_count": 39,
     "metadata": {},
     "output_type": "execute_result"
    }
   ],
   "source": [
    "X_train.shape"
   ]
  },
  {
   "cell_type": "code",
   "execution_count": 40,
   "metadata": {},
   "outputs": [
    {
     "data": {
      "text/plain": [
       "Location            0\n",
       "MinTemp             0\n",
       "MaxTemp             0\n",
       "Rainfall            0\n",
       "WindGustSpeed    1548\n",
       "Humidity9am         0\n",
       "Humidity3pm         0\n",
       "Pressure9am         0\n",
       "Pressure3pm         0\n",
       "Temp9am             0\n",
       "Temp3pm             0\n",
       "RainToday           0\n",
       "WindSpeedAvg        0\n",
       "month               0\n",
       "dtype: int64"
      ]
     },
     "execution_count": 40,
     "metadata": {},
     "output_type": "execute_result"
    }
   ],
   "source": [
    "X_train.isnull().sum()"
   ]
  },
  {
   "cell_type": "code",
   "execution_count": 41,
   "metadata": {},
   "outputs": [],
   "source": [
    "def wind_gust_filling(training_df, filling_df):\n",
    "    training_df['windgustbin'] = pd.cut(training_df['WindSpeedAvg'], 10)\n",
    "    \n",
    "    bin_df = training_df.groupby(['windgustbin'])['WindGustSpeed'].agg(['median'])\n",
    "    \n",
    "    missing_index = filling_df.index[filling_df['WindGustSpeed'].isnull()].tolist()\n",
    "    \n",
    "    for index in missing_index:\n",
    "        for i in range(len(bin_df.index)):\n",
    "            if filling_df.loc[index, 'WindSpeedAvg'] in bin_df.index[i]:\n",
    "                filling_df.loc[index, 'WindGustSpeed'] = bin_df.iloc[i][0]"
   ]
  },
  {
   "cell_type": "code",
   "execution_count": 42,
   "metadata": {},
   "outputs": [],
   "source": [
    "wind_gust_filling(X_train, X_train)"
   ]
  },
  {
   "cell_type": "code",
   "execution_count": 43,
   "metadata": {},
   "outputs": [],
   "source": [
    "del X_train['windgustbin']"
   ]
  },
  {
   "cell_type": "code",
   "execution_count": 44,
   "metadata": {},
   "outputs": [
    {
     "data": {
      "text/plain": [
       "Location         0\n",
       "MinTemp          0\n",
       "MaxTemp          0\n",
       "Rainfall         0\n",
       "WindGustSpeed    0\n",
       "Humidity9am      0\n",
       "Humidity3pm      0\n",
       "Pressure9am      0\n",
       "Pressure3pm      0\n",
       "Temp9am          0\n",
       "Temp3pm          0\n",
       "RainToday        0\n",
       "WindSpeedAvg     0\n",
       "month            0\n",
       "dtype: int64"
      ]
     },
     "execution_count": 44,
     "metadata": {},
     "output_type": "execute_result"
    }
   ],
   "source": [
    "X_train.isnull().sum()"
   ]
  },
  {
   "cell_type": "markdown",
   "metadata": {},
   "source": [
    "### 2.5 Add Dummy Variables"
   ]
  },
  {
   "cell_type": "code",
   "execution_count": 45,
   "metadata": {},
   "outputs": [
    {
     "data": {
      "text/plain": [
       "Location          object\n",
       "MinTemp          float64\n",
       "MaxTemp          float64\n",
       "Rainfall         float64\n",
       "WindGustSpeed    float64\n",
       "Humidity9am      float64\n",
       "Humidity3pm      float64\n",
       "Pressure9am      float64\n",
       "Pressure3pm      float64\n",
       "Temp9am          float64\n",
       "Temp3pm          float64\n",
       "RainToday        float64\n",
       "WindSpeedAvg     float64\n",
       "month             object\n",
       "dtype: object"
      ]
     },
     "execution_count": 45,
     "metadata": {},
     "output_type": "execute_result"
    }
   ],
   "source": [
    "X_train.dtypes"
   ]
  },
  {
   "cell_type": "code",
   "execution_count": 46,
   "metadata": {},
   "outputs": [],
   "source": [
    "#divide categorical and numerical features for scaling and making dummy varibles\n",
    "num_features = []\n",
    "cate_features = []\n",
    "for feat in X_train.columns:\n",
    "    if X_train[feat].dtype == 'object':\n",
    "        cate_features.append(feat)\n",
    "    elif feat != 'Target':\n",
    "        num_features.append(feat)"
   ]
  },
  {
   "cell_type": "code",
   "execution_count": 47,
   "metadata": {},
   "outputs": [
    {
     "data": {
      "text/plain": [
       "['Location', 'month']"
      ]
     },
     "execution_count": 47,
     "metadata": {},
     "output_type": "execute_result"
    }
   ],
   "source": [
    "cate_features"
   ]
  },
  {
   "cell_type": "code",
   "execution_count": 48,
   "metadata": {},
   "outputs": [],
   "source": [
    "train_cate_features = pd.get_dummies(X_train[cate_features])"
   ]
  },
  {
   "cell_type": "code",
   "execution_count": 49,
   "metadata": {},
   "outputs": [
    {
     "data": {
      "text/html": [
       "<div>\n",
       "<style scoped>\n",
       "    .dataframe tbody tr th:only-of-type {\n",
       "        vertical-align: middle;\n",
       "    }\n",
       "\n",
       "    .dataframe tbody tr th {\n",
       "        vertical-align: top;\n",
       "    }\n",
       "\n",
       "    .dataframe thead th {\n",
       "        text-align: right;\n",
       "    }\n",
       "</style>\n",
       "<table border=\"1\" class=\"dataframe\">\n",
       "  <thead>\n",
       "    <tr style=\"text-align: right;\">\n",
       "      <th></th>\n",
       "      <th>Location_Adelaide</th>\n",
       "      <th>Location_Albany</th>\n",
       "      <th>Location_Albury</th>\n",
       "      <th>Location_AliceSprings</th>\n",
       "      <th>Location_BadgerysCreek</th>\n",
       "      <th>Location_Ballarat</th>\n",
       "      <th>Location_Bendigo</th>\n",
       "      <th>Location_Brisbane</th>\n",
       "      <th>Location_Cairns</th>\n",
       "      <th>Location_Canberra</th>\n",
       "      <th>Location_Cobar</th>\n",
       "      <th>Location_CoffsHarbour</th>\n",
       "      <th>Location_Dartmoor</th>\n",
       "      <th>Location_Darwin</th>\n",
       "      <th>Location_GoldCoast</th>\n",
       "      <th>Location_Hobart</th>\n",
       "      <th>Location_Katherine</th>\n",
       "      <th>Location_Launceston</th>\n",
       "      <th>Location_Melbourne</th>\n",
       "      <th>Location_MelbourneAirport</th>\n",
       "      <th>Location_Mildura</th>\n",
       "      <th>Location_Moree</th>\n",
       "      <th>Location_MountGambier</th>\n",
       "      <th>Location_MountGinini</th>\n",
       "      <th>Location_Nhil</th>\n",
       "      <th>Location_NorahHead</th>\n",
       "      <th>Location_NorfolkIsland</th>\n",
       "      <th>Location_Nuriootpa</th>\n",
       "      <th>Location_PearceRAAF</th>\n",
       "      <th>Location_Penrith</th>\n",
       "      <th>Location_Perth</th>\n",
       "      <th>Location_PerthAirport</th>\n",
       "      <th>Location_Portland</th>\n",
       "      <th>Location_Richmond</th>\n",
       "      <th>Location_Sale</th>\n",
       "      <th>Location_SalmonGums</th>\n",
       "      <th>Location_Sydney</th>\n",
       "      <th>Location_SydneyAirport</th>\n",
       "      <th>Location_Townsville</th>\n",
       "      <th>Location_Tuggeranong</th>\n",
       "      <th>Location_Uluru</th>\n",
       "      <th>Location_WaggaWagga</th>\n",
       "      <th>Location_Walpole</th>\n",
       "      <th>Location_Watsonia</th>\n",
       "      <th>Location_Williamtown</th>\n",
       "      <th>Location_Witchcliffe</th>\n",
       "      <th>Location_Wollongong</th>\n",
       "      <th>Location_Woomera</th>\n",
       "      <th>month_1</th>\n",
       "      <th>month_2</th>\n",
       "      <th>month_3</th>\n",
       "      <th>month_4</th>\n",
       "      <th>month_5</th>\n",
       "      <th>month_6</th>\n",
       "      <th>month_7</th>\n",
       "      <th>month_8</th>\n",
       "      <th>month_9</th>\n",
       "      <th>month_10</th>\n",
       "      <th>month_11</th>\n",
       "      <th>month_12</th>\n",
       "    </tr>\n",
       "  </thead>\n",
       "  <tbody>\n",
       "    <tr>\n",
       "      <th>103554</th>\n",
       "      <td>0</td>\n",
       "      <td>0</td>\n",
       "      <td>0</td>\n",
       "      <td>0</td>\n",
       "      <td>0</td>\n",
       "      <td>0</td>\n",
       "      <td>0</td>\n",
       "      <td>0</td>\n",
       "      <td>0</td>\n",
       "      <td>0</td>\n",
       "      <td>0</td>\n",
       "      <td>0</td>\n",
       "      <td>0</td>\n",
       "      <td>0</td>\n",
       "      <td>0</td>\n",
       "      <td>0</td>\n",
       "      <td>0</td>\n",
       "      <td>0</td>\n",
       "      <td>0</td>\n",
       "      <td>0</td>\n",
       "      <td>0</td>\n",
       "      <td>0</td>\n",
       "      <td>0</td>\n",
       "      <td>0</td>\n",
       "      <td>0</td>\n",
       "      <td>0</td>\n",
       "      <td>0</td>\n",
       "      <td>0</td>\n",
       "      <td>0</td>\n",
       "      <td>0</td>\n",
       "      <td>0</td>\n",
       "      <td>0</td>\n",
       "      <td>0</td>\n",
       "      <td>0</td>\n",
       "      <td>0</td>\n",
       "      <td>0</td>\n",
       "      <td>0</td>\n",
       "      <td>0</td>\n",
       "      <td>0</td>\n",
       "      <td>0</td>\n",
       "      <td>0</td>\n",
       "      <td>0</td>\n",
       "      <td>0</td>\n",
       "      <td>0</td>\n",
       "      <td>0</td>\n",
       "      <td>0</td>\n",
       "      <td>0</td>\n",
       "      <td>1</td>\n",
       "      <td>0</td>\n",
       "      <td>0</td>\n",
       "      <td>0</td>\n",
       "      <td>0</td>\n",
       "      <td>0</td>\n",
       "      <td>0</td>\n",
       "      <td>0</td>\n",
       "      <td>1</td>\n",
       "      <td>0</td>\n",
       "      <td>0</td>\n",
       "      <td>0</td>\n",
       "      <td>0</td>\n",
       "    </tr>\n",
       "    <tr>\n",
       "      <th>37344</th>\n",
       "      <td>0</td>\n",
       "      <td>0</td>\n",
       "      <td>0</td>\n",
       "      <td>0</td>\n",
       "      <td>0</td>\n",
       "      <td>0</td>\n",
       "      <td>0</td>\n",
       "      <td>0</td>\n",
       "      <td>0</td>\n",
       "      <td>0</td>\n",
       "      <td>0</td>\n",
       "      <td>0</td>\n",
       "      <td>0</td>\n",
       "      <td>0</td>\n",
       "      <td>0</td>\n",
       "      <td>0</td>\n",
       "      <td>0</td>\n",
       "      <td>0</td>\n",
       "      <td>0</td>\n",
       "      <td>0</td>\n",
       "      <td>0</td>\n",
       "      <td>0</td>\n",
       "      <td>0</td>\n",
       "      <td>0</td>\n",
       "      <td>0</td>\n",
       "      <td>0</td>\n",
       "      <td>0</td>\n",
       "      <td>0</td>\n",
       "      <td>0</td>\n",
       "      <td>0</td>\n",
       "      <td>0</td>\n",
       "      <td>0</td>\n",
       "      <td>0</td>\n",
       "      <td>0</td>\n",
       "      <td>0</td>\n",
       "      <td>0</td>\n",
       "      <td>0</td>\n",
       "      <td>0</td>\n",
       "      <td>0</td>\n",
       "      <td>0</td>\n",
       "      <td>0</td>\n",
       "      <td>1</td>\n",
       "      <td>0</td>\n",
       "      <td>0</td>\n",
       "      <td>0</td>\n",
       "      <td>0</td>\n",
       "      <td>0</td>\n",
       "      <td>0</td>\n",
       "      <td>0</td>\n",
       "      <td>0</td>\n",
       "      <td>0</td>\n",
       "      <td>0</td>\n",
       "      <td>1</td>\n",
       "      <td>0</td>\n",
       "      <td>0</td>\n",
       "      <td>0</td>\n",
       "      <td>0</td>\n",
       "      <td>0</td>\n",
       "      <td>0</td>\n",
       "      <td>0</td>\n",
       "    </tr>\n",
       "    <tr>\n",
       "      <th>49670</th>\n",
       "      <td>0</td>\n",
       "      <td>0</td>\n",
       "      <td>0</td>\n",
       "      <td>0</td>\n",
       "      <td>0</td>\n",
       "      <td>0</td>\n",
       "      <td>0</td>\n",
       "      <td>0</td>\n",
       "      <td>0</td>\n",
       "      <td>0</td>\n",
       "      <td>0</td>\n",
       "      <td>0</td>\n",
       "      <td>0</td>\n",
       "      <td>0</td>\n",
       "      <td>0</td>\n",
       "      <td>0</td>\n",
       "      <td>0</td>\n",
       "      <td>0</td>\n",
       "      <td>0</td>\n",
       "      <td>0</td>\n",
       "      <td>0</td>\n",
       "      <td>0</td>\n",
       "      <td>0</td>\n",
       "      <td>0</td>\n",
       "      <td>0</td>\n",
       "      <td>0</td>\n",
       "      <td>0</td>\n",
       "      <td>0</td>\n",
       "      <td>0</td>\n",
       "      <td>0</td>\n",
       "      <td>0</td>\n",
       "      <td>0</td>\n",
       "      <td>0</td>\n",
       "      <td>0</td>\n",
       "      <td>0</td>\n",
       "      <td>0</td>\n",
       "      <td>0</td>\n",
       "      <td>0</td>\n",
       "      <td>0</td>\n",
       "      <td>1</td>\n",
       "      <td>0</td>\n",
       "      <td>0</td>\n",
       "      <td>0</td>\n",
       "      <td>0</td>\n",
       "      <td>0</td>\n",
       "      <td>0</td>\n",
       "      <td>0</td>\n",
       "      <td>0</td>\n",
       "      <td>0</td>\n",
       "      <td>0</td>\n",
       "      <td>0</td>\n",
       "      <td>0</td>\n",
       "      <td>0</td>\n",
       "      <td>1</td>\n",
       "      <td>0</td>\n",
       "      <td>0</td>\n",
       "      <td>0</td>\n",
       "      <td>0</td>\n",
       "      <td>0</td>\n",
       "      <td>0</td>\n",
       "    </tr>\n",
       "    <tr>\n",
       "      <th>31201</th>\n",
       "      <td>0</td>\n",
       "      <td>0</td>\n",
       "      <td>0</td>\n",
       "      <td>0</td>\n",
       "      <td>0</td>\n",
       "      <td>0</td>\n",
       "      <td>0</td>\n",
       "      <td>0</td>\n",
       "      <td>0</td>\n",
       "      <td>0</td>\n",
       "      <td>0</td>\n",
       "      <td>0</td>\n",
       "      <td>0</td>\n",
       "      <td>0</td>\n",
       "      <td>0</td>\n",
       "      <td>0</td>\n",
       "      <td>0</td>\n",
       "      <td>0</td>\n",
       "      <td>0</td>\n",
       "      <td>0</td>\n",
       "      <td>0</td>\n",
       "      <td>0</td>\n",
       "      <td>0</td>\n",
       "      <td>0</td>\n",
       "      <td>0</td>\n",
       "      <td>0</td>\n",
       "      <td>0</td>\n",
       "      <td>0</td>\n",
       "      <td>0</td>\n",
       "      <td>0</td>\n",
       "      <td>0</td>\n",
       "      <td>0</td>\n",
       "      <td>0</td>\n",
       "      <td>0</td>\n",
       "      <td>0</td>\n",
       "      <td>0</td>\n",
       "      <td>1</td>\n",
       "      <td>0</td>\n",
       "      <td>0</td>\n",
       "      <td>0</td>\n",
       "      <td>0</td>\n",
       "      <td>0</td>\n",
       "      <td>0</td>\n",
       "      <td>0</td>\n",
       "      <td>0</td>\n",
       "      <td>0</td>\n",
       "      <td>0</td>\n",
       "      <td>0</td>\n",
       "      <td>0</td>\n",
       "      <td>0</td>\n",
       "      <td>0</td>\n",
       "      <td>0</td>\n",
       "      <td>0</td>\n",
       "      <td>0</td>\n",
       "      <td>0</td>\n",
       "      <td>0</td>\n",
       "      <td>0</td>\n",
       "      <td>0</td>\n",
       "      <td>1</td>\n",
       "      <td>0</td>\n",
       "    </tr>\n",
       "    <tr>\n",
       "      <th>122784</th>\n",
       "      <td>0</td>\n",
       "      <td>0</td>\n",
       "      <td>0</td>\n",
       "      <td>0</td>\n",
       "      <td>0</td>\n",
       "      <td>0</td>\n",
       "      <td>0</td>\n",
       "      <td>0</td>\n",
       "      <td>0</td>\n",
       "      <td>0</td>\n",
       "      <td>0</td>\n",
       "      <td>0</td>\n",
       "      <td>0</td>\n",
       "      <td>0</td>\n",
       "      <td>0</td>\n",
       "      <td>0</td>\n",
       "      <td>0</td>\n",
       "      <td>0</td>\n",
       "      <td>0</td>\n",
       "      <td>0</td>\n",
       "      <td>0</td>\n",
       "      <td>0</td>\n",
       "      <td>0</td>\n",
       "      <td>0</td>\n",
       "      <td>0</td>\n",
       "      <td>0</td>\n",
       "      <td>0</td>\n",
       "      <td>0</td>\n",
       "      <td>0</td>\n",
       "      <td>0</td>\n",
       "      <td>0</td>\n",
       "      <td>0</td>\n",
       "      <td>0</td>\n",
       "      <td>0</td>\n",
       "      <td>0</td>\n",
       "      <td>1</td>\n",
       "      <td>0</td>\n",
       "      <td>0</td>\n",
       "      <td>0</td>\n",
       "      <td>0</td>\n",
       "      <td>0</td>\n",
       "      <td>0</td>\n",
       "      <td>0</td>\n",
       "      <td>0</td>\n",
       "      <td>0</td>\n",
       "      <td>0</td>\n",
       "      <td>0</td>\n",
       "      <td>0</td>\n",
       "      <td>0</td>\n",
       "      <td>0</td>\n",
       "      <td>0</td>\n",
       "      <td>0</td>\n",
       "      <td>0</td>\n",
       "      <td>0</td>\n",
       "      <td>1</td>\n",
       "      <td>0</td>\n",
       "      <td>0</td>\n",
       "      <td>0</td>\n",
       "      <td>0</td>\n",
       "      <td>0</td>\n",
       "    </tr>\n",
       "  </tbody>\n",
       "</table>\n",
       "</div>"
      ],
      "text/plain": [
       "        Location_Adelaide  Location_Albany  Location_Albury  \\\n",
       "103554                  0                0                0   \n",
       "37344                   0                0                0   \n",
       "49670                   0                0                0   \n",
       "31201                   0                0                0   \n",
       "122784                  0                0                0   \n",
       "\n",
       "        Location_AliceSprings  Location_BadgerysCreek  Location_Ballarat  \\\n",
       "103554                      0                       0                  0   \n",
       "37344                       0                       0                  0   \n",
       "49670                       0                       0                  0   \n",
       "31201                       0                       0                  0   \n",
       "122784                      0                       0                  0   \n",
       "\n",
       "        Location_Bendigo  Location_Brisbane  Location_Cairns  \\\n",
       "103554                 0                  0                0   \n",
       "37344                  0                  0                0   \n",
       "49670                  0                  0                0   \n",
       "31201                  0                  0                0   \n",
       "122784                 0                  0                0   \n",
       "\n",
       "        Location_Canberra  Location_Cobar  Location_CoffsHarbour  \\\n",
       "103554                  0               0                      0   \n",
       "37344                   0               0                      0   \n",
       "49670                   0               0                      0   \n",
       "31201                   0               0                      0   \n",
       "122784                  0               0                      0   \n",
       "\n",
       "        Location_Dartmoor  Location_Darwin  Location_GoldCoast  \\\n",
       "103554                  0                0                   0   \n",
       "37344                   0                0                   0   \n",
       "49670                   0                0                   0   \n",
       "31201                   0                0                   0   \n",
       "122784                  0                0                   0   \n",
       "\n",
       "        Location_Hobart  Location_Katherine  Location_Launceston  \\\n",
       "103554                0                   0                    0   \n",
       "37344                 0                   0                    0   \n",
       "49670                 0                   0                    0   \n",
       "31201                 0                   0                    0   \n",
       "122784                0                   0                    0   \n",
       "\n",
       "        Location_Melbourne  Location_MelbourneAirport  Location_Mildura  \\\n",
       "103554                   0                          0                 0   \n",
       "37344                    0                          0                 0   \n",
       "49670                    0                          0                 0   \n",
       "31201                    0                          0                 0   \n",
       "122784                   0                          0                 0   \n",
       "\n",
       "        Location_Moree  Location_MountGambier  Location_MountGinini  \\\n",
       "103554               0                      0                     0   \n",
       "37344                0                      0                     0   \n",
       "49670                0                      0                     0   \n",
       "31201                0                      0                     0   \n",
       "122784               0                      0                     0   \n",
       "\n",
       "        Location_Nhil  Location_NorahHead  Location_NorfolkIsland  \\\n",
       "103554              0                   0                       0   \n",
       "37344               0                   0                       0   \n",
       "49670               0                   0                       0   \n",
       "31201               0                   0                       0   \n",
       "122784              0                   0                       0   \n",
       "\n",
       "        Location_Nuriootpa  Location_PearceRAAF  Location_Penrith  \\\n",
       "103554                   0                    0                 0   \n",
       "37344                    0                    0                 0   \n",
       "49670                    0                    0                 0   \n",
       "31201                    0                    0                 0   \n",
       "122784                   0                    0                 0   \n",
       "\n",
       "        Location_Perth  Location_PerthAirport  Location_Portland  \\\n",
       "103554               0                      0                  0   \n",
       "37344                0                      0                  0   \n",
       "49670                0                      0                  0   \n",
       "31201                0                      0                  0   \n",
       "122784               0                      0                  0   \n",
       "\n",
       "        Location_Richmond  Location_Sale  Location_SalmonGums  \\\n",
       "103554                  0              0                    0   \n",
       "37344                   0              0                    0   \n",
       "49670                   0              0                    0   \n",
       "31201                   0              0                    0   \n",
       "122784                  0              0                    1   \n",
       "\n",
       "        Location_Sydney  Location_SydneyAirport  Location_Townsville  \\\n",
       "103554                0                       0                    0   \n",
       "37344                 0                       0                    0   \n",
       "49670                 0                       0                    0   \n",
       "31201                 1                       0                    0   \n",
       "122784                0                       0                    0   \n",
       "\n",
       "        Location_Tuggeranong  Location_Uluru  Location_WaggaWagga  \\\n",
       "103554                     0               0                    0   \n",
       "37344                      0               0                    1   \n",
       "49670                      1               0                    0   \n",
       "31201                      0               0                    0   \n",
       "122784                     0               0                    0   \n",
       "\n",
       "        Location_Walpole  Location_Watsonia  Location_Williamtown  \\\n",
       "103554                 0                  0                     0   \n",
       "37344                  0                  0                     0   \n",
       "49670                  0                  0                     0   \n",
       "31201                  0                  0                     0   \n",
       "122784                 0                  0                     0   \n",
       "\n",
       "        Location_Witchcliffe  Location_Wollongong  Location_Woomera  month_1  \\\n",
       "103554                     0                    0                 1        0   \n",
       "37344                      0                    0                 0        0   \n",
       "49670                      0                    0                 0        0   \n",
       "31201                      0                    0                 0        0   \n",
       "122784                     0                    0                 0        0   \n",
       "\n",
       "        month_2  month_3  month_4  month_5  month_6  month_7  month_8  \\\n",
       "103554        0        0        0        0        0        0        1   \n",
       "37344         0        0        0        1        0        0        0   \n",
       "49670         0        0        0        0        1        0        0   \n",
       "31201         0        0        0        0        0        0        0   \n",
       "122784        0        0        0        0        0        1        0   \n",
       "\n",
       "        month_9  month_10  month_11  month_12  \n",
       "103554        0         0         0         0  \n",
       "37344         0         0         0         0  \n",
       "49670         0         0         0         0  \n",
       "31201         0         0         1         0  \n",
       "122784        0         0         0         0  "
      ]
     },
     "execution_count": 49,
     "metadata": {},
     "output_type": "execute_result"
    }
   ],
   "source": [
    "train_cate_features.head()"
   ]
  },
  {
   "cell_type": "markdown",
   "metadata": {},
   "source": [
    "### 2.6 Feature Scaling"
   ]
  },
  {
   "cell_type": "code",
   "execution_count": 50,
   "metadata": {},
   "outputs": [],
   "source": [
    "from sklearn.preprocessing import MinMaxScaler"
   ]
  },
  {
   "cell_type": "code",
   "execution_count": 51,
   "metadata": {},
   "outputs": [
    {
     "data": {
      "text/plain": [
       "MinMaxScaler(copy=True, feature_range=(0, 1))"
      ]
     },
     "execution_count": 51,
     "metadata": {},
     "output_type": "execute_result"
    }
   ],
   "source": [
    "scaler = MinMaxScaler()\n",
    "scaler.fit(X_train[num_features])"
   ]
  },
  {
   "cell_type": "code",
   "execution_count": 52,
   "metadata": {},
   "outputs": [],
   "source": [
    "train_scaled_num_features = scaler.transform(X_train[num_features])"
   ]
  },
  {
   "cell_type": "code",
   "execution_count": 53,
   "metadata": {},
   "outputs": [],
   "source": [
    "#combine categorical and numberical features\n",
    "train_x = np.c_[train_scaled_num_features, train_cate_features]"
   ]
  },
  {
   "cell_type": "code",
   "execution_count": 54,
   "metadata": {},
   "outputs": [
    {
     "name": "stdout",
     "output_type": "stream",
     "text": [
      "(41879, 72)\n",
      "(41879,)\n"
     ]
    }
   ],
   "source": [
    "print(train_x.shape)\n",
    "print(y_train.shape)"
   ]
  },
  {
   "cell_type": "markdown",
   "metadata": {},
   "source": [
    "## 3. Modeling"
   ]
  },
  {
   "cell_type": "code",
   "execution_count": 55,
   "metadata": {},
   "outputs": [],
   "source": [
    "from sklearn.linear_model import LogisticRegression"
   ]
  },
  {
   "cell_type": "code",
   "execution_count": 56,
   "metadata": {},
   "outputs": [],
   "source": [
    "logistic = LogisticRegression(random_state=42)"
   ]
  },
  {
   "cell_type": "code",
   "execution_count": 57,
   "metadata": {},
   "outputs": [
    {
     "data": {
      "text/plain": [
       "array([0.79040115, 0.78230659, 0.77827925])"
      ]
     },
     "execution_count": 57,
     "metadata": {},
     "output_type": "execute_result"
    }
   ],
   "source": [
    "from sklearn.model_selection import cross_val_score\n",
    "cross_val_score(logistic, train_x, y_train, cv=3, scoring='accuracy')"
   ]
  },
  {
   "cell_type": "code",
   "execution_count": 58,
   "metadata": {},
   "outputs": [
    {
     "data": {
      "text/plain": [
       "LogisticRegression(C=1.0, class_weight=None, dual=False, fit_intercept=True,\n",
       "          intercept_scaling=1, max_iter=100, multi_class='warn',\n",
       "          n_jobs=None, penalty='l2', random_state=42, solver='warn',\n",
       "          tol=0.0001, verbose=0, warm_start=False)"
      ]
     },
     "execution_count": 58,
     "metadata": {},
     "output_type": "execute_result"
    }
   ],
   "source": [
    "logistic.fit(train_x, y_train)"
   ]
  },
  {
   "cell_type": "markdown",
   "metadata": {},
   "source": [
    "### 4. Test Dataset"
   ]
  },
  {
   "cell_type": "code",
   "execution_count": 59,
   "metadata": {},
   "outputs": [
    {
     "data": {
      "text/plain": [
       "Location            0\n",
       "MinTemp            11\n",
       "MaxTemp             7\n",
       "Rainfall            0\n",
       "WindGustSpeed     718\n",
       "Humidity9am       142\n",
       "Humidity3pm       202\n",
       "Pressure9am      1239\n",
       "Pressure3pm      1240\n",
       "Temp9am            11\n",
       "Temp3pm            75\n",
       "RainToday           0\n",
       "WindSpeedAvg       49\n",
       "month               0\n",
       "dtype: int64"
      ]
     },
     "execution_count": 59,
     "metadata": {},
     "output_type": "execute_result"
    }
   ],
   "source": [
    "X_test.isnull().sum()"
   ]
  },
  {
   "cell_type": "code",
   "execution_count": 60,
   "metadata": {},
   "outputs": [],
   "source": [
    "fill_missing1(X_train, X_test, 'RainToday', 'Location', 'month', 'Humidity3pm')\n",
    "fill_missing1(X_train, X_test, 'RainToday', 'Location', 'month', 'Humidity9am')\n",
    "fill_missing1(X_train, X_test, 'RainToday', 'Location', 'month', 'MaxTemp')\n",
    "fill_missing1(X_train, X_test, 'RainToday', 'Location', 'month', 'MinTemp')\n",
    "fill_missing1(X_train, X_test, 'RainToday', 'Location', 'month', 'Temp9am')\n",
    "fill_missing1(X_train, X_test, 'RainToday', 'Location', 'month', 'Temp3pm')"
   ]
  },
  {
   "cell_type": "code",
   "execution_count": 61,
   "metadata": {},
   "outputs": [],
   "source": [
    "fill_missing2(X_train, X_test, 'RainToday', 'month', 'Pressure3pm')\n",
    "fill_missing2(X_train, X_test, 'RainToday', 'month', 'Pressure9am')"
   ]
  },
  {
   "cell_type": "code",
   "execution_count": 62,
   "metadata": {},
   "outputs": [],
   "source": [
    "fill_missing2(X_train, X_test, 'RainToday', 'month', 'WindSpeedAvg')"
   ]
  },
  {
   "cell_type": "code",
   "execution_count": 65,
   "metadata": {},
   "outputs": [],
   "source": [
    "wind_gust_filling(X_train, X_test)"
   ]
  },
  {
   "cell_type": "code",
   "execution_count": 67,
   "metadata": {},
   "outputs": [
    {
     "data": {
      "text/plain": [
       "Location         0\n",
       "MinTemp          0\n",
       "MaxTemp          0\n",
       "Rainfall         0\n",
       "WindGustSpeed    0\n",
       "Humidity9am      0\n",
       "Humidity3pm      0\n",
       "Pressure9am      0\n",
       "Pressure3pm      0\n",
       "Temp9am          0\n",
       "Temp3pm          0\n",
       "RainToday        0\n",
       "WindSpeedAvg     0\n",
       "month            0\n",
       "dtype: int64"
      ]
     },
     "execution_count": 67,
     "metadata": {},
     "output_type": "execute_result"
    }
   ],
   "source": [
    "X_test.isnull().sum()"
   ]
  },
  {
   "cell_type": "code",
   "execution_count": 68,
   "metadata": {},
   "outputs": [
    {
     "data": {
      "text/plain": [
       "Location          object\n",
       "MinTemp          float64\n",
       "MaxTemp          float64\n",
       "Rainfall         float64\n",
       "WindGustSpeed    float64\n",
       "Humidity9am      float64\n",
       "Humidity3pm      float64\n",
       "Pressure9am      float64\n",
       "Pressure3pm      float64\n",
       "Temp9am          float64\n",
       "Temp3pm          float64\n",
       "RainToday        float64\n",
       "WindSpeedAvg     float64\n",
       "month             object\n",
       "dtype: object"
      ]
     },
     "execution_count": 68,
     "metadata": {},
     "output_type": "execute_result"
    }
   ],
   "source": [
    "X_test.dtypes"
   ]
  },
  {
   "cell_type": "code",
   "execution_count": 71,
   "metadata": {},
   "outputs": [],
   "source": [
    "#divide categorical and numerical features for scaling and making dummy varibles\n",
    "num_features_test = []\n",
    "cate_features_test = []\n",
    "for feat in X_test.columns:\n",
    "    if X_test[feat].dtype == 'object':\n",
    "        cate_features_test.append(feat)\n",
    "    elif feat != 'Target':\n",
    "        num_features_test.append(feat)"
   ]
  },
  {
   "cell_type": "code",
   "execution_count": 72,
   "metadata": {},
   "outputs": [
    {
     "data": {
      "text/plain": [
       "['Location', 'month']"
      ]
     },
     "execution_count": 72,
     "metadata": {},
     "output_type": "execute_result"
    }
   ],
   "source": [
    "cate_features_test"
   ]
  },
  {
   "cell_type": "code",
   "execution_count": 73,
   "metadata": {},
   "outputs": [],
   "source": [
    "test_cate_features = pd.get_dummies(X_test[cate_features_test])"
   ]
  },
  {
   "cell_type": "code",
   "execution_count": 74,
   "metadata": {},
   "outputs": [
    {
     "data": {
      "text/html": [
       "<div>\n",
       "<style scoped>\n",
       "    .dataframe tbody tr th:only-of-type {\n",
       "        vertical-align: middle;\n",
       "    }\n",
       "\n",
       "    .dataframe tbody tr th {\n",
       "        vertical-align: top;\n",
       "    }\n",
       "\n",
       "    .dataframe thead th {\n",
       "        text-align: right;\n",
       "    }\n",
       "</style>\n",
       "<table border=\"1\" class=\"dataframe\">\n",
       "  <thead>\n",
       "    <tr style=\"text-align: right;\">\n",
       "      <th></th>\n",
       "      <th>Location_Adelaide</th>\n",
       "      <th>Location_Albany</th>\n",
       "      <th>Location_Albury</th>\n",
       "      <th>Location_AliceSprings</th>\n",
       "      <th>Location_BadgerysCreek</th>\n",
       "      <th>Location_Ballarat</th>\n",
       "      <th>Location_Bendigo</th>\n",
       "      <th>Location_Brisbane</th>\n",
       "      <th>Location_Cairns</th>\n",
       "      <th>Location_Canberra</th>\n",
       "      <th>Location_Cobar</th>\n",
       "      <th>Location_CoffsHarbour</th>\n",
       "      <th>Location_Dartmoor</th>\n",
       "      <th>Location_Darwin</th>\n",
       "      <th>Location_GoldCoast</th>\n",
       "      <th>Location_Hobart</th>\n",
       "      <th>Location_Katherine</th>\n",
       "      <th>Location_Launceston</th>\n",
       "      <th>Location_Melbourne</th>\n",
       "      <th>Location_MelbourneAirport</th>\n",
       "      <th>Location_Mildura</th>\n",
       "      <th>Location_Moree</th>\n",
       "      <th>Location_MountGambier</th>\n",
       "      <th>Location_MountGinini</th>\n",
       "      <th>Location_Nhil</th>\n",
       "      <th>Location_NorahHead</th>\n",
       "      <th>Location_NorfolkIsland</th>\n",
       "      <th>Location_Nuriootpa</th>\n",
       "      <th>Location_PearceRAAF</th>\n",
       "      <th>Location_Penrith</th>\n",
       "      <th>Location_Perth</th>\n",
       "      <th>Location_PerthAirport</th>\n",
       "      <th>Location_Portland</th>\n",
       "      <th>Location_Richmond</th>\n",
       "      <th>Location_Sale</th>\n",
       "      <th>Location_SalmonGums</th>\n",
       "      <th>Location_Sydney</th>\n",
       "      <th>Location_SydneyAirport</th>\n",
       "      <th>Location_Townsville</th>\n",
       "      <th>Location_Tuggeranong</th>\n",
       "      <th>Location_Uluru</th>\n",
       "      <th>Location_WaggaWagga</th>\n",
       "      <th>Location_Walpole</th>\n",
       "      <th>Location_Watsonia</th>\n",
       "      <th>Location_Williamtown</th>\n",
       "      <th>Location_Witchcliffe</th>\n",
       "      <th>Location_Wollongong</th>\n",
       "      <th>Location_Woomera</th>\n",
       "      <th>month_1</th>\n",
       "      <th>month_2</th>\n",
       "      <th>month_3</th>\n",
       "      <th>month_4</th>\n",
       "      <th>month_5</th>\n",
       "      <th>month_6</th>\n",
       "      <th>month_7</th>\n",
       "      <th>month_8</th>\n",
       "      <th>month_9</th>\n",
       "      <th>month_10</th>\n",
       "      <th>month_11</th>\n",
       "      <th>month_12</th>\n",
       "    </tr>\n",
       "  </thead>\n",
       "  <tbody>\n",
       "    <tr>\n",
       "      <th>102560</th>\n",
       "      <td>0</td>\n",
       "      <td>0</td>\n",
       "      <td>0</td>\n",
       "      <td>0</td>\n",
       "      <td>0</td>\n",
       "      <td>0</td>\n",
       "      <td>0</td>\n",
       "      <td>0</td>\n",
       "      <td>0</td>\n",
       "      <td>0</td>\n",
       "      <td>0</td>\n",
       "      <td>0</td>\n",
       "      <td>0</td>\n",
       "      <td>0</td>\n",
       "      <td>0</td>\n",
       "      <td>0</td>\n",
       "      <td>0</td>\n",
       "      <td>0</td>\n",
       "      <td>0</td>\n",
       "      <td>0</td>\n",
       "      <td>0</td>\n",
       "      <td>0</td>\n",
       "      <td>0</td>\n",
       "      <td>0</td>\n",
       "      <td>0</td>\n",
       "      <td>0</td>\n",
       "      <td>0</td>\n",
       "      <td>1</td>\n",
       "      <td>0</td>\n",
       "      <td>0</td>\n",
       "      <td>0</td>\n",
       "      <td>0</td>\n",
       "      <td>0</td>\n",
       "      <td>0</td>\n",
       "      <td>0</td>\n",
       "      <td>0</td>\n",
       "      <td>0</td>\n",
       "      <td>0</td>\n",
       "      <td>0</td>\n",
       "      <td>0</td>\n",
       "      <td>0</td>\n",
       "      <td>0</td>\n",
       "      <td>0</td>\n",
       "      <td>0</td>\n",
       "      <td>0</td>\n",
       "      <td>0</td>\n",
       "      <td>0</td>\n",
       "      <td>0</td>\n",
       "      <td>0</td>\n",
       "      <td>0</td>\n",
       "      <td>0</td>\n",
       "      <td>0</td>\n",
       "      <td>1</td>\n",
       "      <td>0</td>\n",
       "      <td>0</td>\n",
       "      <td>0</td>\n",
       "      <td>0</td>\n",
       "      <td>0</td>\n",
       "      <td>0</td>\n",
       "      <td>0</td>\n",
       "    </tr>\n",
       "    <tr>\n",
       "      <th>35156</th>\n",
       "      <td>0</td>\n",
       "      <td>0</td>\n",
       "      <td>0</td>\n",
       "      <td>0</td>\n",
       "      <td>0</td>\n",
       "      <td>0</td>\n",
       "      <td>0</td>\n",
       "      <td>0</td>\n",
       "      <td>0</td>\n",
       "      <td>0</td>\n",
       "      <td>0</td>\n",
       "      <td>0</td>\n",
       "      <td>0</td>\n",
       "      <td>0</td>\n",
       "      <td>0</td>\n",
       "      <td>0</td>\n",
       "      <td>0</td>\n",
       "      <td>0</td>\n",
       "      <td>0</td>\n",
       "      <td>0</td>\n",
       "      <td>0</td>\n",
       "      <td>0</td>\n",
       "      <td>0</td>\n",
       "      <td>0</td>\n",
       "      <td>0</td>\n",
       "      <td>0</td>\n",
       "      <td>0</td>\n",
       "      <td>0</td>\n",
       "      <td>0</td>\n",
       "      <td>0</td>\n",
       "      <td>0</td>\n",
       "      <td>0</td>\n",
       "      <td>0</td>\n",
       "      <td>0</td>\n",
       "      <td>0</td>\n",
       "      <td>0</td>\n",
       "      <td>0</td>\n",
       "      <td>1</td>\n",
       "      <td>0</td>\n",
       "      <td>0</td>\n",
       "      <td>0</td>\n",
       "      <td>0</td>\n",
       "      <td>0</td>\n",
       "      <td>0</td>\n",
       "      <td>0</td>\n",
       "      <td>0</td>\n",
       "      <td>0</td>\n",
       "      <td>0</td>\n",
       "      <td>0</td>\n",
       "      <td>0</td>\n",
       "      <td>0</td>\n",
       "      <td>0</td>\n",
       "      <td>0</td>\n",
       "      <td>0</td>\n",
       "      <td>0</td>\n",
       "      <td>1</td>\n",
       "      <td>0</td>\n",
       "      <td>0</td>\n",
       "      <td>0</td>\n",
       "      <td>0</td>\n",
       "    </tr>\n",
       "    <tr>\n",
       "      <th>136201</th>\n",
       "      <td>0</td>\n",
       "      <td>0</td>\n",
       "      <td>0</td>\n",
       "      <td>0</td>\n",
       "      <td>0</td>\n",
       "      <td>0</td>\n",
       "      <td>0</td>\n",
       "      <td>0</td>\n",
       "      <td>0</td>\n",
       "      <td>0</td>\n",
       "      <td>0</td>\n",
       "      <td>0</td>\n",
       "      <td>0</td>\n",
       "      <td>1</td>\n",
       "      <td>0</td>\n",
       "      <td>0</td>\n",
       "      <td>0</td>\n",
       "      <td>0</td>\n",
       "      <td>0</td>\n",
       "      <td>0</td>\n",
       "      <td>0</td>\n",
       "      <td>0</td>\n",
       "      <td>0</td>\n",
       "      <td>0</td>\n",
       "      <td>0</td>\n",
       "      <td>0</td>\n",
       "      <td>0</td>\n",
       "      <td>0</td>\n",
       "      <td>0</td>\n",
       "      <td>0</td>\n",
       "      <td>0</td>\n",
       "      <td>0</td>\n",
       "      <td>0</td>\n",
       "      <td>0</td>\n",
       "      <td>0</td>\n",
       "      <td>0</td>\n",
       "      <td>0</td>\n",
       "      <td>0</td>\n",
       "      <td>0</td>\n",
       "      <td>0</td>\n",
       "      <td>0</td>\n",
       "      <td>0</td>\n",
       "      <td>0</td>\n",
       "      <td>0</td>\n",
       "      <td>0</td>\n",
       "      <td>0</td>\n",
       "      <td>0</td>\n",
       "      <td>0</td>\n",
       "      <td>0</td>\n",
       "      <td>0</td>\n",
       "      <td>0</td>\n",
       "      <td>1</td>\n",
       "      <td>0</td>\n",
       "      <td>0</td>\n",
       "      <td>0</td>\n",
       "      <td>0</td>\n",
       "      <td>0</td>\n",
       "      <td>0</td>\n",
       "      <td>0</td>\n",
       "      <td>0</td>\n",
       "    </tr>\n",
       "    <tr>\n",
       "      <th>10295</th>\n",
       "      <td>0</td>\n",
       "      <td>0</td>\n",
       "      <td>0</td>\n",
       "      <td>0</td>\n",
       "      <td>0</td>\n",
       "      <td>0</td>\n",
       "      <td>0</td>\n",
       "      <td>0</td>\n",
       "      <td>0</td>\n",
       "      <td>0</td>\n",
       "      <td>0</td>\n",
       "      <td>1</td>\n",
       "      <td>0</td>\n",
       "      <td>0</td>\n",
       "      <td>0</td>\n",
       "      <td>0</td>\n",
       "      <td>0</td>\n",
       "      <td>0</td>\n",
       "      <td>0</td>\n",
       "      <td>0</td>\n",
       "      <td>0</td>\n",
       "      <td>0</td>\n",
       "      <td>0</td>\n",
       "      <td>0</td>\n",
       "      <td>0</td>\n",
       "      <td>0</td>\n",
       "      <td>0</td>\n",
       "      <td>0</td>\n",
       "      <td>0</td>\n",
       "      <td>0</td>\n",
       "      <td>0</td>\n",
       "      <td>0</td>\n",
       "      <td>0</td>\n",
       "      <td>0</td>\n",
       "      <td>0</td>\n",
       "      <td>0</td>\n",
       "      <td>0</td>\n",
       "      <td>0</td>\n",
       "      <td>0</td>\n",
       "      <td>0</td>\n",
       "      <td>0</td>\n",
       "      <td>0</td>\n",
       "      <td>0</td>\n",
       "      <td>0</td>\n",
       "      <td>0</td>\n",
       "      <td>0</td>\n",
       "      <td>0</td>\n",
       "      <td>0</td>\n",
       "      <td>0</td>\n",
       "      <td>0</td>\n",
       "      <td>0</td>\n",
       "      <td>0</td>\n",
       "      <td>0</td>\n",
       "      <td>0</td>\n",
       "      <td>0</td>\n",
       "      <td>0</td>\n",
       "      <td>0</td>\n",
       "      <td>0</td>\n",
       "      <td>1</td>\n",
       "      <td>0</td>\n",
       "    </tr>\n",
       "    <tr>\n",
       "      <th>52301</th>\n",
       "      <td>0</td>\n",
       "      <td>0</td>\n",
       "      <td>0</td>\n",
       "      <td>0</td>\n",
       "      <td>0</td>\n",
       "      <td>0</td>\n",
       "      <td>0</td>\n",
       "      <td>0</td>\n",
       "      <td>0</td>\n",
       "      <td>0</td>\n",
       "      <td>0</td>\n",
       "      <td>0</td>\n",
       "      <td>0</td>\n",
       "      <td>0</td>\n",
       "      <td>0</td>\n",
       "      <td>0</td>\n",
       "      <td>0</td>\n",
       "      <td>0</td>\n",
       "      <td>0</td>\n",
       "      <td>0</td>\n",
       "      <td>0</td>\n",
       "      <td>0</td>\n",
       "      <td>0</td>\n",
       "      <td>1</td>\n",
       "      <td>0</td>\n",
       "      <td>0</td>\n",
       "      <td>0</td>\n",
       "      <td>0</td>\n",
       "      <td>0</td>\n",
       "      <td>0</td>\n",
       "      <td>0</td>\n",
       "      <td>0</td>\n",
       "      <td>0</td>\n",
       "      <td>0</td>\n",
       "      <td>0</td>\n",
       "      <td>0</td>\n",
       "      <td>0</td>\n",
       "      <td>0</td>\n",
       "      <td>0</td>\n",
       "      <td>0</td>\n",
       "      <td>0</td>\n",
       "      <td>0</td>\n",
       "      <td>0</td>\n",
       "      <td>0</td>\n",
       "      <td>0</td>\n",
       "      <td>0</td>\n",
       "      <td>0</td>\n",
       "      <td>0</td>\n",
       "      <td>0</td>\n",
       "      <td>0</td>\n",
       "      <td>0</td>\n",
       "      <td>0</td>\n",
       "      <td>0</td>\n",
       "      <td>0</td>\n",
       "      <td>0</td>\n",
       "      <td>0</td>\n",
       "      <td>1</td>\n",
       "      <td>0</td>\n",
       "      <td>0</td>\n",
       "      <td>0</td>\n",
       "    </tr>\n",
       "  </tbody>\n",
       "</table>\n",
       "</div>"
      ],
      "text/plain": [
       "        Location_Adelaide  Location_Albany  Location_Albury  \\\n",
       "102560                  0                0                0   \n",
       "35156                   0                0                0   \n",
       "136201                  0                0                0   \n",
       "10295                   0                0                0   \n",
       "52301                   0                0                0   \n",
       "\n",
       "        Location_AliceSprings  Location_BadgerysCreek  Location_Ballarat  \\\n",
       "102560                      0                       0                  0   \n",
       "35156                       0                       0                  0   \n",
       "136201                      0                       0                  0   \n",
       "10295                       0                       0                  0   \n",
       "52301                       0                       0                  0   \n",
       "\n",
       "        Location_Bendigo  Location_Brisbane  Location_Cairns  \\\n",
       "102560                 0                  0                0   \n",
       "35156                  0                  0                0   \n",
       "136201                 0                  0                0   \n",
       "10295                  0                  0                0   \n",
       "52301                  0                  0                0   \n",
       "\n",
       "        Location_Canberra  Location_Cobar  Location_CoffsHarbour  \\\n",
       "102560                  0               0                      0   \n",
       "35156                   0               0                      0   \n",
       "136201                  0               0                      0   \n",
       "10295                   0               0                      1   \n",
       "52301                   0               0                      0   \n",
       "\n",
       "        Location_Dartmoor  Location_Darwin  Location_GoldCoast  \\\n",
       "102560                  0                0                   0   \n",
       "35156                   0                0                   0   \n",
       "136201                  0                1                   0   \n",
       "10295                   0                0                   0   \n",
       "52301                   0                0                   0   \n",
       "\n",
       "        Location_Hobart  Location_Katherine  Location_Launceston  \\\n",
       "102560                0                   0                    0   \n",
       "35156                 0                   0                    0   \n",
       "136201                0                   0                    0   \n",
       "10295                 0                   0                    0   \n",
       "52301                 0                   0                    0   \n",
       "\n",
       "        Location_Melbourne  Location_MelbourneAirport  Location_Mildura  \\\n",
       "102560                   0                          0                 0   \n",
       "35156                    0                          0                 0   \n",
       "136201                   0                          0                 0   \n",
       "10295                    0                          0                 0   \n",
       "52301                    0                          0                 0   \n",
       "\n",
       "        Location_Moree  Location_MountGambier  Location_MountGinini  \\\n",
       "102560               0                      0                     0   \n",
       "35156                0                      0                     0   \n",
       "136201               0                      0                     0   \n",
       "10295                0                      0                     0   \n",
       "52301                0                      0                     1   \n",
       "\n",
       "        Location_Nhil  Location_NorahHead  Location_NorfolkIsland  \\\n",
       "102560              0                   0                       0   \n",
       "35156               0                   0                       0   \n",
       "136201              0                   0                       0   \n",
       "10295               0                   0                       0   \n",
       "52301               0                   0                       0   \n",
       "\n",
       "        Location_Nuriootpa  Location_PearceRAAF  Location_Penrith  \\\n",
       "102560                   1                    0                 0   \n",
       "35156                    0                    0                 0   \n",
       "136201                   0                    0                 0   \n",
       "10295                    0                    0                 0   \n",
       "52301                    0                    0                 0   \n",
       "\n",
       "        Location_Perth  Location_PerthAirport  Location_Portland  \\\n",
       "102560               0                      0                  0   \n",
       "35156                0                      0                  0   \n",
       "136201               0                      0                  0   \n",
       "10295                0                      0                  0   \n",
       "52301                0                      0                  0   \n",
       "\n",
       "        Location_Richmond  Location_Sale  Location_SalmonGums  \\\n",
       "102560                  0              0                    0   \n",
       "35156                   0              0                    0   \n",
       "136201                  0              0                    0   \n",
       "10295                   0              0                    0   \n",
       "52301                   0              0                    0   \n",
       "\n",
       "        Location_Sydney  Location_SydneyAirport  Location_Townsville  \\\n",
       "102560                0                       0                    0   \n",
       "35156                 0                       1                    0   \n",
       "136201                0                       0                    0   \n",
       "10295                 0                       0                    0   \n",
       "52301                 0                       0                    0   \n",
       "\n",
       "        Location_Tuggeranong  Location_Uluru  Location_WaggaWagga  \\\n",
       "102560                     0               0                    0   \n",
       "35156                      0               0                    0   \n",
       "136201                     0               0                    0   \n",
       "10295                      0               0                    0   \n",
       "52301                      0               0                    0   \n",
       "\n",
       "        Location_Walpole  Location_Watsonia  Location_Williamtown  \\\n",
       "102560                 0                  0                     0   \n",
       "35156                  0                  0                     0   \n",
       "136201                 0                  0                     0   \n",
       "10295                  0                  0                     0   \n",
       "52301                  0                  0                     0   \n",
       "\n",
       "        Location_Witchcliffe  Location_Wollongong  Location_Woomera  month_1  \\\n",
       "102560                     0                    0                 0        0   \n",
       "35156                      0                    0                 0        0   \n",
       "136201                     0                    0                 0        0   \n",
       "10295                      0                    0                 0        0   \n",
       "52301                      0                    0                 0        0   \n",
       "\n",
       "        month_2  month_3  month_4  month_5  month_6  month_7  month_8  \\\n",
       "102560        0        0        0        1        0        0        0   \n",
       "35156         0        0        0        0        0        0        1   \n",
       "136201        0        0        1        0        0        0        0   \n",
       "10295         0        0        0        0        0        0        0   \n",
       "52301         0        0        0        0        0        0        0   \n",
       "\n",
       "        month_9  month_10  month_11  month_12  \n",
       "102560        0         0         0         0  \n",
       "35156         0         0         0         0  \n",
       "136201        0         0         0         0  \n",
       "10295         0         0         1         0  \n",
       "52301         1         0         0         0  "
      ]
     },
     "execution_count": 74,
     "metadata": {},
     "output_type": "execute_result"
    }
   ],
   "source": [
    "test_cate_features.head()"
   ]
  },
  {
   "cell_type": "code",
   "execution_count": 75,
   "metadata": {},
   "outputs": [],
   "source": [
    "test_scaled_num_features = scaler.transform(X_test[num_features_test])"
   ]
  },
  {
   "cell_type": "code",
   "execution_count": 78,
   "metadata": {},
   "outputs": [],
   "source": [
    "test_x = np.c_[test_scaled_num_features, test_cate_features]"
   ]
  },
  {
   "cell_type": "code",
   "execution_count": 79,
   "metadata": {},
   "outputs": [
    {
     "name": "stdout",
     "output_type": "stream",
     "text": [
      "(17949, 72)\n",
      "(17949,)\n"
     ]
    }
   ],
   "source": [
    "print(test_x.shape)\n",
    "print(y_test.shape)"
   ]
  },
  {
   "cell_type": "code",
   "execution_count": 80,
   "metadata": {},
   "outputs": [],
   "source": [
    "from sklearn.metrics import accuracy_score, classification_report, confusion_matrix"
   ]
  },
  {
   "cell_type": "code",
   "execution_count": 81,
   "metadata": {},
   "outputs": [
    {
     "name": "stdout",
     "output_type": "stream",
     "text": [
      "Accuracy : 0.7884561814028637\n"
     ]
    }
   ],
   "source": [
    "accuracy = accuracy_score(logistic.predict(test_x), y_test)\n",
    "print('Accuracy :', accuracy)"
   ]
  },
  {
   "cell_type": "code",
   "execution_count": 83,
   "metadata": {},
   "outputs": [
    {
     "name": "stdout",
     "output_type": "stream",
     "text": [
      "              precision    recall  f1-score   support\n",
      "\n",
      "           0       0.78      0.81      0.79      8974\n",
      "           1       0.80      0.77      0.78      8975\n",
      "\n",
      "   micro avg       0.79      0.79      0.79     17949\n",
      "   macro avg       0.79      0.79      0.79     17949\n",
      "weighted avg       0.79      0.79      0.79     17949\n",
      "\n"
     ]
    }
   ],
   "source": [
    "print(classification_report(y_test, logistic.predict(test_x)))"
   ]
  },
  {
   "cell_type": "code",
   "execution_count": 84,
   "metadata": {},
   "outputs": [
    {
     "data": {
      "text/html": [
       "<div>\n",
       "<style scoped>\n",
       "    .dataframe tbody tr th:only-of-type {\n",
       "        vertical-align: middle;\n",
       "    }\n",
       "\n",
       "    .dataframe tbody tr th {\n",
       "        vertical-align: top;\n",
       "    }\n",
       "\n",
       "    .dataframe thead th {\n",
       "        text-align: right;\n",
       "    }\n",
       "</style>\n",
       "<table border=\"1\" class=\"dataframe\">\n",
       "  <thead>\n",
       "    <tr style=\"text-align: right;\">\n",
       "      <th>Actual</th>\n",
       "      <th>0</th>\n",
       "      <th>1</th>\n",
       "      <th>All</th>\n",
       "    </tr>\n",
       "    <tr>\n",
       "      <th>Predict</th>\n",
       "      <th></th>\n",
       "      <th></th>\n",
       "      <th></th>\n",
       "    </tr>\n",
       "  </thead>\n",
       "  <tbody>\n",
       "    <tr>\n",
       "      <th>0</th>\n",
       "      <td>7233</td>\n",
       "      <td>2056</td>\n",
       "      <td>9289</td>\n",
       "    </tr>\n",
       "    <tr>\n",
       "      <th>1</th>\n",
       "      <td>1741</td>\n",
       "      <td>6919</td>\n",
       "      <td>8660</td>\n",
       "    </tr>\n",
       "    <tr>\n",
       "      <th>All</th>\n",
       "      <td>8974</td>\n",
       "      <td>8975</td>\n",
       "      <td>17949</td>\n",
       "    </tr>\n",
       "  </tbody>\n",
       "</table>\n",
       "</div>"
      ],
      "text/plain": [
       "Actual      0     1    All\n",
       "Predict                   \n",
       "0        7233  2056   9289\n",
       "1        1741  6919   8660\n",
       "All      8974  8975  17949"
      ]
     },
     "execution_count": 84,
     "metadata": {},
     "output_type": "execute_result"
    }
   ],
   "source": [
    "pd.crosstab(logistic.predict(test_x), y_test, \n",
    "            rownames=['Predict'], colnames=['Actual'], margins=True)"
   ]
  }
 ],
 "metadata": {
  "kernelspec": {
   "display_name": "Python 3",
   "language": "python",
   "name": "python3"
  },
  "language_info": {
   "codemirror_mode": {
    "name": "ipython",
    "version": 3
   },
   "file_extension": ".py",
   "mimetype": "text/x-python",
   "name": "python",
   "nbconvert_exporter": "python",
   "pygments_lexer": "ipython3",
   "version": "3.7.1"
  }
 },
 "nbformat": 4,
 "nbformat_minor": 2
}
