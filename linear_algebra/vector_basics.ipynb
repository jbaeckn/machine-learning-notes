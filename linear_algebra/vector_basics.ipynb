{
 "cells": [
  {
   "cell_type": "markdown",
   "metadata": {},
   "source": [
    "# Vector"
   ]
  },
  {
   "cell_type": "markdown",
   "metadata": {},
   "source": [
    "## What is Vector\n",
    "1. Vector is comprised of both magnitude and direction\n",
    "    * An object is moving at 5mph -> This is not a vector, because it only specifies the magnitude (speed)\n",
    "    * An object is moving at 5mph due east -> This is a vector\n",
    "<br>\n",
    "<br>\n",
    "2. Vector notation: $\\vec{v}$\n",
    "    * $\\vec{v}$ = (5, 0)\n",
    "<br>\n",
    "<br>\n",
    "3. Unit vector is a vector that points to a particular direction with magnitude of 1 (in 2-dimensional space)\n",
    "    * $\\vec{i}$ = (1, 0)\n",
    "    * $\\vec{j}$ = (0, 1)\n",
    "    * **Importance**: In the given dimensional space, any vector can be represented as a scaled version of $\\vec{i}$ and $\\vec{j}$\n",
    "    * _Example_.: Given $\\vec{v}$ = (2,3), this can be represented as 2$\\vec{i}$ + 3$\\vec{j}$"
   ]
  },
  {
   "cell_type": "markdown",
   "metadata": {},
   "source": [
    "## Linear Combination\n",
    "\n",
    "You are given the following: <br>\n",
    "1. $\\vec{w}$\n",
    "2. $\\vec{v_1}$, $\\vec{v_2}$, ..., $\\vec{v_k}$ $\\epsilon$ $R^k$\n",
    "3. $c_1$, $c_2$, ..., $c_k$\n",
    "If $\\vec{w}$ can be represented as $\\vec{w}$ = $c_1$$\\vec{v_1}$ + $c_2$$\\vec{v_2}$ + ... $c_k$$\\vec{v_k}$, we can say that $\\vec{w}$ is a linear combination of $\\vec{v_1}$, $\\vec{v_2}$, ..., $\\vec{v_k}$\n",
    "<br>\n",
    "<br>\n",
    "\n",
    "**Importance**: In a given space (2-dimensional), you can represent any vector with a linear combination of two non-colinear and non-zero vectors"
   ]
  },
  {
   "cell_type": "markdown",
   "metadata": {},
   "source": [
    "## Magnitude\n",
    "\n",
    "* If vector $\\vec{v_1}$ = ($v_1$, $v_2$,...,$v_n$) $\\epsilon$ $R^n$, the length or magnitude of $\\vec{v_1}$ is represented as below:<br><br>\n",
    "$\\Vert \\vec{v} \\Vert$ = $\\sqrt{v_1^2 + v_2^2 + ... v_n^2}$"
   ]
  },
  {
   "cell_type": "markdown",
   "metadata": {},
   "source": [
    "## Unit Vector\n",
    "\n",
    "* Vector whose length is 1<br>\n",
    "* Unit vector of a non-zero vector $\\vec{v}$ $\\epsilon$ $R^n$ can be calculated as $\\frac{1}{\\Vert {v} \\Vert}$ $\\vec{v}$ <br>\n",
    "* We call this process normalizing<br>\n",
    "* In $R^2$, $\\vec{i}$ = (1, 0) and $\\vec{j}$ = (0, 1)<br>\n",
    "* In $R^3$, $\\vec{i}$ = (1, 0, 0), $\\vec{j}$ = (0, 1, 0), and $\\vec{k}$ = (0, 0, 1)\n",
    "* In $R^n$, $\\vec{e_1}$ = (1, 0, ..., 0), $\\vec{e_2}$ = (0, 1, ..., 0), and $\\vec{e_n}$ = (0, 0, ..., 1)\n",
    "    * $\\vec{v}$ = (${v_1}$, .... ${v_n}$) = ${v_1}$${e_1}$ + ${v_2}$${e_2}$ + ${v_n}$${e_n}$\n",
    "    * A vector in space can therefore be described as a combination of its unit vectors"
   ]
  },
  {
   "cell_type": "markdown",
   "metadata": {},
   "source": [
    "## Inner Product\n",
    "\n",
    "* Inner product is helpful in figuring out the angle between two vectors\n",
    "$\\vec{u}$ $\\cdot$ $\\vec{v}$ = ${u_1}$${v_1}$ + ${u_2}$${v_2}$ + ... + ${u_n}$${v_n}$"
   ]
  },
  {
   "cell_type": "markdown",
   "metadata": {},
   "source": [
    "## Angle Between Vectors\n",
    "\n",
    "* If $\\vec{u}$ and $\\vec{v}$ are elements of $R^2$ and $R^3$, and $\\theta$ is the angle between the vectors, <br>\n",
    "    * $\\cos\\theta$ = $\\frac{\\vec{u} \\cdot\\ \\vec{v}}{\\Vert {u} \\Vert \\Vert {v} \\Vert}$<br>\n",
    "    * $\\vec{u} \\cdot \\vec{v}$ = $\\Vert {u} \\Vert \\Vert {v} \\Vert \\cos\\theta$\n",
    "    * In order for $\\vec{u}$ and $\\vec{v}$ to be perpendicular, their inner product has to be 0. We call this **orthogonal**\n",
    "    * Two vectors are **orthonormal** if they are penpendicular (inner product is 0) and if their magnitude is both 0 "
   ]
  },
  {
   "cell_type": "markdown",
   "metadata": {},
   "source": [
    "## Linear Dependence\n",
    "1. One of the vectors in the set can be represented by some combination of a different member of the set (linearly dependent vector does not add a new directionality)\n",
    "2. $\\vec{x}$ = (7, 0) and $\\vec{y}$ = (0, -1). These vectors are linearly independent because none of these vectors can be represented as a combination of the other.\n",
    "3. Two linearly independent vectors create a span. In order for the third vector to be linearly independent, it will have to be in a direction such that a new dimension is created"
   ]
  },
  {
   "cell_type": "markdown",
   "metadata": {},
   "source": [
    "## Vector Transformation\n",
    "\n",
    "* Definition: A transformation is a function that maps (or associates) vectors from one vector space to vectors in another space\n",
    "    * Vectors could be mapped to and from the same/different vector space<br>\n",
    "<br>\n",
    "* Example 1: Let T be a transformation that maps a $R^2$ vector $\\vec{x}$ = ($x_1$, $x_2$) to a $R^2$ vector $\\vec{2x}$ = ($2x_1$, $2x_2$)\n",
    "    * If $\\vec{x}$ = (-1, 3), then $T(\\vec{x})$ = $2\\vec{x}$ = (-2, 6)\n",
    "<br><br>\n",
    "* Example 2: Let T be a transformation that maps a $R^3$ vector $\\vec{x}$ = ($x_1$, $x_2$, $x_3$) to a $R^2$ vector ($x_1 + 2x_2$, $3x_3$)\n",
    "    * If $\\vec{x}$ = (1, 1, 1), then $T(\\vec{x})$ = (3, 3)"
   ]
  },
  {
   "cell_type": "markdown",
   "metadata": {},
   "source": [
    "## Linear Transformation\n",
    "* For all $\\vec{u}$ and $\\vec{v}$ in $R^n$, $T$: $R^n$ $\\rightarrow$ $R^m$ is a linear transformation if and only if the following are true: <br>\n",
    "    * $T$($c$$\\vec{u}$) = $c$$T$($\\vec{u}$) <br><br>\n",
    "    * $T$($\\vec{u} + \\vec{v}$) = $T$($\\vec{u}$) + $T$($\\vec{v}$)"
   ]
  },
  {
   "cell_type": "markdown",
   "metadata": {},
   "source": [
    "## Linear Subspace\n",
    "* $V$ is a subspace of $R^n$ is the following are true:\n",
    "    * $V$ contains zero vector\n",
    "    * Scalar multiple of $\\vec{x}$ in $V$ is also in $V$\n",
    "    * If $\\vec{a}$, $\\vec{b}$ in $V$, then $\\vec{a}$ + $\\vec{b}$ is also in $V$"
   ]
  },
  {
   "cell_type": "markdown",
   "metadata": {},
   "source": [
    "## Basis and Dimension\n",
    "* Basis: The minimum set of vectors needed to span the subspace, which alternatively means that the set of vectors in subspace $V$ are linearly independent\n",
    "* Dimension, denoted as dim($V$): for a nonzero V $\\epsilon$ $R^n$, $V$'s dimension is the number of vector in basis of $V$"
   ]
  },
  {
   "cell_type": "markdown",
   "metadata": {},
   "source": [
    "# Practice with Code\n",
    "* v = (2, 0, 3, 9, 0, 1, 0, -5, 8, 7, 1, 7)\n",
    "* w = (8, 3, 1, 1, 0, 4, -1, 0, 1, 0, 1, 11)\n",
    "\n",
    "Goal: Calculate euclidean distance between the vectors"
   ]
  },
  {
   "cell_type": "code",
   "execution_count": 2,
   "metadata": {},
   "outputs": [
    {
     "name": "stdout",
     "output_type": "stream",
     "text": [
      "vector v : (2, 0, 3, 9, 0, 1, 0, -5, 8, 7, 1, 7)\n",
      "vector w : (8, 3, 1, 1, 0, 4, -1, 0, 1, 0, 1, 11)\n"
     ]
    }
   ],
   "source": [
    "from IPython.display import display\n",
    "\n",
    "v = (2, 0, 3, 9, 0, 1, 0, -5, 8, 7, 1, 7)\n",
    "w = (8, 3, 1, 1, 0, 4, -1, 0, 1, 0, 1, 11)\n",
    "\n",
    "print(\"vector v : \" + str(v))\n",
    "print(\"vector w : \" + str(w))"
   ]
  },
  {
   "cell_type": "markdown",
   "metadata": {},
   "source": [
    "### Vector Addition"
   ]
  },
  {
   "cell_type": "code",
   "execution_count": 3,
   "metadata": {},
   "outputs": [
    {
     "data": {
      "text/plain": [
       "[10, 3, 4, 10, 0, 5, -1, -5, 9, 7, 2, 18]"
      ]
     },
     "execution_count": 3,
     "metadata": {},
     "output_type": "execute_result"
    }
   ],
   "source": [
    "vector_addition = [v_i + w_i for v_i, w_i in zip(v, w)]\n",
    "vector_addition"
   ]
  },
  {
   "cell_type": "markdown",
   "metadata": {},
   "source": [
    "### Vector Subtraction"
   ]
  },
  {
   "cell_type": "code",
   "execution_count": 4,
   "metadata": {},
   "outputs": [
    {
     "data": {
      "text/plain": [
       "[-6, -3, 2, 8, 0, -3, 1, -5, 7, 7, 0, -4]"
      ]
     },
     "execution_count": 4,
     "metadata": {},
     "output_type": "execute_result"
    }
   ],
   "source": [
    "vector_subtract = [v_i - w_i for v_i, w_i in zip(v, w)]\n",
    "vector_subtract"
   ]
  },
  {
   "cell_type": "markdown",
   "metadata": {},
   "source": [
    "### Scalar Multiplication"
   ]
  },
  {
   "cell_type": "code",
   "execution_count": 14,
   "metadata": {},
   "outputs": [
    {
     "name": "stdout",
     "output_type": "stream",
     "text": [
      "Scalar multiplcation of vector v: [4, 0, 6, 18, 0, 2, 0, -10, 16, 14, 2, 14]\n",
      "Scalar multiplcation of vector w: [16, 6, 2, 2, 0, 8, -2, 0, 2, 0, 2, 22]\n"
     ]
    }
   ],
   "source": [
    "scalar = 2\n",
    "v_scalar = [v_i * scalar for v_i in v]\n",
    "w_scalar = [w_i * scalar for w_i in w]\n",
    "\n",
    "print(\"Scalar multiplcation of vector v: \" + str(v_scalar))\n",
    "print(\"Scalar multiplcation of vector w: \" + str(w_scalar))"
   ]
  },
  {
   "cell_type": "markdown",
   "metadata": {},
   "source": [
    "### Dot Product"
   ]
  },
  {
   "cell_type": "code",
   "execution_count": 16,
   "metadata": {},
   "outputs": [
    {
     "data": {
      "text/plain": [
       "118"
      ]
     },
     "execution_count": 16,
     "metadata": {},
     "output_type": "execute_result"
    }
   ],
   "source": [
    "dot = sum([v_i * w_i for v_i, w_i in zip(v, w)])\n",
    "dot"
   ]
  },
  {
   "cell_type": "markdown",
   "metadata": {},
   "source": [
    "### Distance Between Vectors\n",
    "\n",
    "_Reminder_\n",
    "* v = (2, 0, 3, 9, 0, 1, 0, -5, 8, 7, 1, 7)\n",
    "* w = (8, 3, 1, 1, 0, 4, -1, 0, 1, 0, 1, 11)"
   ]
  },
  {
   "cell_type": "code",
   "execution_count": 18,
   "metadata": {},
   "outputs": [
    {
     "name": "stdout",
     "output_type": "stream",
     "text": [
      "Vector subtraction: [-6, -3, 2, 8, 0, -3, 1, -5, 7, 7, 0, -4]\n",
      "Squared vector: [36, 9, 4, 64, 0, 9, 1, 25, 49, 49, 0, 16]\n",
      "Squared sum: 262\n",
      "Distance: 16.186414056238647\n"
     ]
    }
   ],
   "source": [
    "import math\n",
    "\n",
    "vector_subtract = [v_i - w_i for v_i, w_i in zip(v, w)]\n",
    "print(\"Vector subtraction: \" + str(vector_subtract))\n",
    "\n",
    "vector_squared = [element**2 for element in vector_subtract]\n",
    "print(\"Squared vector: \" + str(vector_squared))\n",
    "\n",
    "squared_sum = sum(vector_squared)\n",
    "print(\"Squared sum: \" + str(squared_sum))\n",
    "\n",
    "distance = math.sqrt(squared_sum)\n",
    "print(\"Distance: \" + str(distance))"
   ]
  }
 ],
 "metadata": {
  "kernelspec": {
   "display_name": "Python 3",
   "language": "python",
   "name": "python3"
  },
  "language_info": {
   "codemirror_mode": {
    "name": "ipython",
    "version": 3
   },
   "file_extension": ".py",
   "mimetype": "text/x-python",
   "name": "python",
   "nbconvert_exporter": "python",
   "pygments_lexer": "ipython3",
   "version": "3.7.1"
  }
 },
 "nbformat": 4,
 "nbformat_minor": 2
}
