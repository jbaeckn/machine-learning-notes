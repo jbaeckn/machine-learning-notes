{
 "cells": [
  {
   "cell_type": "markdown",
   "metadata": {},
   "source": [
    "# Vector"
   ]
  },
  {
   "cell_type": "markdown",
   "metadata": {},
   "source": [
    "### What is Vector\n",
    "1. Vector is comprised of both magnitude and direction\n",
    "    * An object is moving at 5mph -> This is not a vector, because it only specifies the magnitude (speed)\n",
    "    * An object is moving at 5mph due east -> This is a vector\n",
    "<br>\n",
    "<br>\n",
    "2. Vector notation: $\\vec{v}$\n",
    "    * $\\vec{v}$ = (5, 0)\n",
    "<br>\n",
    "<br>\n",
    "3. Unit vector is a vector that points to a particular direction with magnitude of 1 (in 2-dimensional space)\n",
    "    * $\\vec{i}$ = (1, 0)\n",
    "    * $\\vec{j}$ = (0, 1)\n",
    "    * **Importance**: In the given dimensional space, any vector can be represented as a scaled version of $\\vec{i}$ and $\\vec{j}$\n",
    "    * _Example_.: Given $\\vec{v}$ = (2,3), this can be represented as 2$\\vec{i}$ + 3$\\vec{j}$\n",
    "\n",
    "### Linear Combination\n",
    "1. **Importance**: In a given space (2-dimensional), you can represent any vector with a linear combination of two non-colinear and non-zero vectors\n",
    "\n",
    "### Linear Dependence\n",
    "1. One of the vectors in the set can be represented by some combination of a different member of the set (linearly dependent vector does not add a new directionality)\n",
    "2. $\\vec{x}$ = (7, 0) and $\\vec{y}$ = (0, -1). These vectors are linearly independent because none of these vectors can be represented as a combination of the other.\n",
    "3. Two linearly independent vectors create a span. In order for the third vector to be linearly independent, it will have to be in a direction such that a new dimension is created"
   ]
  },
  {
   "cell_type": "markdown",
   "metadata": {},
   "source": [
    "# Practice with Code\n",
    "* v = (2, 0, 3, 9, 0, 1, 0, -5, 8, 7, 1, 7)\n",
    "* w = (8, 3, 1, 1, 0, 4, -1, 0, 1, 0, 1, 11)\n",
    "\n",
    "Goal: Calculate euclidean distance between the vectors"
   ]
  },
  {
   "cell_type": "code",
   "execution_count": 7,
   "metadata": {},
   "outputs": [],
   "source": [
    "from IPython.display import display\n",
    "\n",
    "v = (2, 0, 3, 9, 0, 1, 0, -5, 8, 7, 1, 7)\n",
    "w = (8, 3, 1, 1, 0, 4, -1, 0, 1, 0, 1, 11)"
   ]
  },
  {
   "cell_type": "markdown",
   "metadata": {},
   "source": [
    "### Vector Addition"
   ]
  },
  {
   "cell_type": "code",
   "execution_count": 3,
   "metadata": {},
   "outputs": [
    {
     "data": {
      "text/plain": [
       "[10, 3, 4, 10, 0, 5, -1, -5, 9, 7, 2, 18]"
      ]
     },
     "execution_count": 3,
     "metadata": {},
     "output_type": "execute_result"
    }
   ],
   "source": [
    "vector_addition = [v_i + w_i for v_i, w_i in zip(v, w)]\n",
    "vector_addition"
   ]
  },
  {
   "cell_type": "markdown",
   "metadata": {},
   "source": [
    "### Vector Subtraction"
   ]
  },
  {
   "cell_type": "code",
   "execution_count": 4,
   "metadata": {},
   "outputs": [
    {
     "data": {
      "text/plain": [
       "[-6, -3, 2, 8, 0, -3, 1, -5, 7, 7, 0, -4]"
      ]
     },
     "execution_count": 4,
     "metadata": {},
     "output_type": "execute_result"
    }
   ],
   "source": [
    "vector_subtract = [v_i - w_i for v_i, w_i in zip(v, w)]\n",
    "vector_subtract"
   ]
  },
  {
   "cell_type": "markdown",
   "metadata": {},
   "source": [
    "### Scalar Multiplication"
   ]
  },
  {
   "cell_type": "code",
   "execution_count": 14,
   "metadata": {},
   "outputs": [
    {
     "name": "stdout",
     "output_type": "stream",
     "text": [
      "Scalar multiplcation of vector v: [4, 0, 6, 18, 0, 2, 0, -10, 16, 14, 2, 14]\n",
      "Scalar multiplcation of vector w: [16, 6, 2, 2, 0, 8, -2, 0, 2, 0, 2, 22]\n"
     ]
    }
   ],
   "source": [
    "scalar = 2\n",
    "v_scalar = [v_i * scalar for v_i in v]\n",
    "w_scalar = [w_i * scalar for w_i in w]\n",
    "\n",
    "print(\"Scalar multiplcation of vector v: \" + str(v_scalar))\n",
    "print(\"Scalar multiplcation of vector w: \" + str(w_scalar))"
   ]
  },
  {
   "cell_type": "markdown",
   "metadata": {},
   "source": [
    "### Dot Product"
   ]
  },
  {
   "cell_type": "code",
   "execution_count": 16,
   "metadata": {},
   "outputs": [
    {
     "data": {
      "text/plain": [
       "118"
      ]
     },
     "execution_count": 16,
     "metadata": {},
     "output_type": "execute_result"
    }
   ],
   "source": [
    "dot = sum([v_i * w_i for v_i, w_i in zip(v, w)])\n",
    "dot"
   ]
  },
  {
   "cell_type": "markdown",
   "metadata": {},
   "source": [
    "### Distance Between Vectors\n",
    "\n",
    "_Reminder_\n",
    "* v = (2, 0, 3, 9, 0, 1, 0, -5, 8, 7, 1, 7)\n",
    "* w = (8, 3, 1, 1, 0, 4, -1, 0, 1, 0, 1, 11)"
   ]
  },
  {
   "cell_type": "code",
   "execution_count": 18,
   "metadata": {},
   "outputs": [
    {
     "name": "stdout",
     "output_type": "stream",
     "text": [
      "Vector subtraction: [-6, -3, 2, 8, 0, -3, 1, -5, 7, 7, 0, -4]\n",
      "Squared vector: [36, 9, 4, 64, 0, 9, 1, 25, 49, 49, 0, 16]\n",
      "Squared sum: 262\n",
      "Distance: 16.186414056238647\n"
     ]
    }
   ],
   "source": [
    "import math\n",
    "\n",
    "vector_subtract = [v_i - w_i for v_i, w_i in zip(v, w)]\n",
    "print(\"Vector subtraction: \" + str(vector_subtract))\n",
    "\n",
    "vector_squared = [element**2 for element in vector_subtract]\n",
    "print(\"Squared vector: \" + str(vector_squared))\n",
    "\n",
    "squared_sum = sum(vector_squared)\n",
    "print(\"Squared sum: \" + str(squared_sum))\n",
    "\n",
    "distance = math.sqrt(squared_sum)\n",
    "print(\"Distance: \" + str(distance))"
   ]
  }
 ],
 "metadata": {
  "kernelspec": {
   "display_name": "Python 3",
   "language": "python",
   "name": "python3"
  },
  "language_info": {
   "codemirror_mode": {
    "name": "ipython",
    "version": 3
   },
   "file_extension": ".py",
   "mimetype": "text/x-python",
   "name": "python",
   "nbconvert_exporter": "python",
   "pygments_lexer": "ipython3",
   "version": "3.7.1"
  }
 },
 "nbformat": 4,
 "nbformat_minor": 2
}
