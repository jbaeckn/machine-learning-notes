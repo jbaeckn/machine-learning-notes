{
 "cells": [
  {
   "cell_type": "code",
   "execution_count": 2,
   "metadata": {},
   "outputs": [],
   "source": [
    "import numpy as np"
   ]
  },
  {
   "cell_type": "markdown",
   "metadata": {},
   "source": [
    "## Matrix Basics\n",
    "\n",
    "* This is how a m x n matrix A looks like: <br><br>\n",
    "A = $\n",
    "\\begin{bmatrix}\n",
    "\\ a_{11} & a_{12} & \\cdots & \\ a_{1n} \\\\\n",
    "\\ a_{21} & a_{22} & \\cdots & \\ a_{2n} \\\\\n",
    "\\vdots & \\vdots & \\vdots &\\vdots \\\\\n",
    "\\ a_{m1} & a_{m2} & \\cdots & \\ a_{mn} \\\\\n",
    "\\end{bmatrix}$"
   ]
  },
  {
   "cell_type": "markdown",
   "metadata": {},
   "source": [
    "## Transpose Matrix\n",
    "\n",
    "* If A is a m x n matrix, its transpose $A^{T}$ is a n x m mattrix <br><br>\n",
    "A = $\n",
    "\\begin{bmatrix}\n",
    "\\ 2 & 3 \\\\\n",
    "\\ 1 & 4 \\\\\n",
    "\\ 5 & 6 \\\\\n",
    "\\end{bmatrix}$ &ensp; &ensp; &ensp; $A^{T}$ = $\n",
    "\\begin{bmatrix}\n",
    "\\ 2 & 1 & 5 \\\\\n",
    "\\ 3 & 4 & 6\\\\\n",
    "\\end{bmatrix}$"
   ]
  },
  {
   "cell_type": "markdown",
   "metadata": {},
   "source": [
    "## Zero Matrix\n",
    "\n",
    "* A matrix where all its elements are 0 <br><br>\n",
    "A = $\n",
    "\\begin{bmatrix}\n",
    "\\ 0 & 0 \\\\\n",
    "\\ 0 & 0 \\\\\n",
    "\\ 50 & 0 \\\\\n",
    "\\end{bmatrix}$"
   ]
  },
  {
   "cell_type": "markdown",
   "metadata": {},
   "source": [
    "## Identity Matrix\n",
    "* A matrix where its diagonal is 1 and all the other elements are 0<br><br>\n",
    "\n",
    "I = $\n",
    "\\begin{bmatrix}\n",
    "\\ 1 & 0 & 0 \\\\\n",
    "\\ 0 & 1 & 0 \\\\\n",
    "\\ 0 & 0 & 1 \\\\\n",
    "\\end{bmatrix}$"
   ]
  },
  {
   "cell_type": "markdown",
   "metadata": {},
   "source": [
    "## Inverse Matrix\n",
    "* If there exists matrix A and B such that AB = BA = I, A is an **invertible matrix** or **nonsingular matrix**, and B is A's **inverse matrix** <br><br>\n",
    "\n",
    "A = $\n",
    "\\begin{bmatrix}\n",
    "\\ a & b \\\\\n",
    "\\ c & d \\\\\n",
    "\\end{bmatrix}$ &ensp; &ensp; &ensp; $A^{-1}$ = \n",
    "$\\frac{1}{ad - bc}$\n",
    "$\n",
    "\\begin{bmatrix}\n",
    "\\ d & -b \\\\\n",
    "\\ -c & a \\\\\n",
    "\\end{bmatrix}$<br><br>\n",
    "\n",
    "* $ad - bc$ is called the determinant"
   ]
  },
  {
   "cell_type": "markdown",
   "metadata": {},
   "source": [
    "## Matrix Transformation\n",
    "* If A is a $m$ x $n$ matrix and $\\vec{x}$ is a $R^n$ column vector, the product of A$\\vec{x}$ is a $R^m$ column vector\n",
    "<br><br>\n",
    "* Example 1: Let A = $\n",
    "\\begin{bmatrix}\n",
    "\\ 1 & -1 \\\\\n",
    "\\ 2 & 5 \\\\\n",
    "\\ 3 & 4 \\\\\n",
    "\\end{bmatrix}$, &ensp; and $T_A$ is a transformation that maps $R^2$ 2x1 vector to a $R^3$ 3x1 vector\n",
    "<br><br>\n",
    "    * $A\\vec{x}$ = $\\begin{bmatrix}\n",
    "\\ 1 & -1 \\\\\n",
    "\\ 2 & 5 \\\\\n",
    "\\ 3 & 4 \\\\\n",
    "\\end{bmatrix}$ &ensp; $\n",
    "\\begin{bmatrix}\n",
    "\\ x_1 \\\\\n",
    "\\ x_2 \\\\\n",
    "\\end{bmatrix}$ = $\\begin{bmatrix}\n",
    "\\ x_1 - x_2 \\\\\n",
    "\\ 2x_1 + 5x_2 \\\\\n",
    "\\ 3x_1 + 4x_2 \\\\\n",
    "\\end{bmatrix}$\n",
    "<br><br>\n",
    "    * $T_A$($x_1$, $x_2$) = ($x_1 - x_2$, $2x_1 + 5x_2$, $3x_1 + 4x_2$)\n",
    "<br><br>\n",
    "    * $T_A$($\n",
    "\\begin{bmatrix}\n",
    "\\ -1 \\\\\n",
    "\\ 3 \\\\\n",
    "\\end{bmatrix}$) = $\n",
    "\\begin{bmatrix}\n",
    "\\ -4 \\\\\n",
    "\\ 13 \\\\\n",
    "\\ 9 \\\\\n",
    "\\end{bmatrix}$"
   ]
  },
  {
   "cell_type": "markdown",
   "metadata": {},
   "source": [
    "## Eigenvalue and Eigenvectors\n",
    "\n",
    "* For a n by n matrix, if there exists a scala $\\lambda$ and a non-zero vector $\\vec{v}$ such at $A\\vec{x}$ = $\\lambda\\vec{x}$, then $\\lambda$ is $A$'s eigenvalue and $\\vec{v}$ is the corresponding eigenvectors\n",
    "* If $\\lambda$ is $A$'s eigenvalue, then there are infinitely many eigenvectors"
   ]
  },
  {
   "cell_type": "markdown",
   "metadata": {},
   "source": [
    "## Calculating Eigenvalue\n",
    "\n",
    "* For a 2 by 2 matrix, det($A$ - $\\lambda{I_2}$) = 0\n",
    "* det($A$ - $\\lambda{I_2}$) = $\\lambda^2$ - $tr(A)\\lambda$ + $det(A)$ = 0"
   ]
  },
  {
   "cell_type": "markdown",
   "metadata": {},
   "source": [
    "## Similar Matrices\n",
    "\n",
    "* For an invertible matrix $S$, if $S^{-1} A S$ = $B$, then square matrices A and B are called **similar**\n",
    "* Similar matrices share same eigenvalues"
   ]
  },
  {
   "cell_type": "markdown",
   "metadata": {},
   "source": [
    "## Matrix Diagonalization\n",
    "\n",
    "* If a square matrix $A$ is similar to a diagonal matrix $D$, which means $S^{-1} A S$ = $D$, then $A$ is said to be **diagonalizable**\n",
    "* This means that a n by n matrix $A$ has to have n linearly independent eigenvectors in order to be diagonalizable\n",
    "* Diagonalizing a n by n matrix $A$ with n linearly independent eigenvectors:\n",
    "    * Find $A$'s n linearly independent eigenvectors $\\vec{s_1}$, $\\vec{s_2}$, ..., $\\vec{s_n}$\n",
    "    * Form matrix $S$ = [$\\vec{s_1}$,, $\\vec{s_2}$, ..., $\\vec{s_n}$]\n",
    "    * The resulting matrix of $S^{-1} A S$ will be a diagonal matrix whose diagonal elements will be the corresponding eigenvalues"
   ]
  },
  {
   "cell_type": "markdown",
   "metadata": {},
   "source": [
    "## Practice with Codes\n",
    "\n",
    "Use Python's NumPy to find the followings:<br>\n",
    "1. Handle numpy.linalg library \n",
    "2. Find eigenvectors"
   ]
  },
  {
   "cell_type": "markdown",
   "metadata": {},
   "source": [
    "### 1. Finding Eigenvector\n",
    "\n",
    "This is also refered to as **eigen decomposition**, which is the process of finding eigenvalues and eigenvectors"
   ]
  },
  {
   "cell_type": "code",
   "execution_count": 3,
   "metadata": {},
   "outputs": [
    {
     "data": {
      "text/plain": [
       "array([[1, 2, 3],\n",
       "       [4, 5, 6],\n",
       "       [7, 8, 9]])"
      ]
     },
     "execution_count": 3,
     "metadata": {},
     "output_type": "execute_result"
    }
   ],
   "source": [
    "#create a 3x3 array\n",
    "A = np.array([[1,2,3], [4,5,6], [7,8,9]])\n",
    "A"
   ]
  },
  {
   "cell_type": "code",
   "execution_count": 4,
   "metadata": {},
   "outputs": [
    {
     "data": {
      "text/plain": [
       "(array([ 1.61168440e+01, -1.11684397e+00, -1.30367773e-15]),\n",
       " array([[-0.23197069, -0.78583024,  0.40824829],\n",
       "        [-0.52532209, -0.08675134, -0.81649658],\n",
       "        [-0.8186735 ,  0.61232756,  0.40824829]]))"
      ]
     },
     "execution_count": 4,
     "metadata": {},
     "output_type": "execute_result"
    }
   ],
   "source": [
    "np.linalg.eig(A)"
   ]
  },
  {
   "cell_type": "markdown",
   "metadata": {},
   "source": [
    "In ndarray, the columns are eigenvectors, not the rows. For example column (-0.23197069, -0.52532209, -0.8186735) is one eigenvector"
   ]
  },
  {
   "cell_type": "markdown",
   "metadata": {},
   "source": [
    "### 2. Eigenvectors Are Unit Vectors (Size is 1)"
   ]
  },
  {
   "cell_type": "code",
   "execution_count": 10,
   "metadata": {},
   "outputs": [
    {
     "data": {
      "text/plain": [
       "array([ 1.61168440e+01, -1.11684397e+00, -1.30367773e-15])"
      ]
     },
     "metadata": {},
     "output_type": "display_data"
    },
    {
     "data": {
      "text/plain": [
       "array([[-0.23197069, -0.78583024,  0.40824829],\n",
       "       [-0.52532209, -0.08675134, -0.81649658],\n",
       "       [-0.8186735 ,  0.61232756,  0.40824829]])"
      ]
     },
     "metadata": {},
     "output_type": "display_data"
    }
   ],
   "source": [
    "eigen_val, eigen_vec = np.linalg.eig(A)\n",
    "display(eigen_val)\n",
    "display(eigen_vec)"
   ]
  },
  {
   "cell_type": "code",
   "execution_count": 11,
   "metadata": {},
   "outputs": [
    {
     "data": {
      "text/plain": [
       "array([1., 1., 1.])"
      ]
     },
     "execution_count": 11,
     "metadata": {},
     "output_type": "execute_result"
    }
   ],
   "source": [
    "#each eigenvectors length is 1\n",
    "np.sum(eigen_vec ** 2, axis=0)"
   ]
  },
  {
   "cell_type": "markdown",
   "metadata": {},
   "source": [
    "### 3. Eigenvectors Are Orthogonal ONLY for Symmetric Matrix"
   ]
  },
  {
   "cell_type": "code",
   "execution_count": 12,
   "metadata": {},
   "outputs": [
    {
     "data": {
      "text/plain": [
       "array([[1, 2, 3],\n",
       "       [4, 5, 6],\n",
       "       [7, 8, 9]])"
      ]
     },
     "metadata": {},
     "output_type": "display_data"
    }
   ],
   "source": [
    "#A is not a symmetric matrix\n",
    "display(A)"
   ]
  },
  {
   "cell_type": "markdown",
   "metadata": {},
   "source": [
    "Eigenvectors of A are therefore **not** orthogonal"
   ]
  },
  {
   "cell_type": "code",
   "execution_count": 14,
   "metadata": {},
   "outputs": [
    {
     "data": {
      "text/plain": [
       "-0.27343437080986494"
      ]
     },
     "metadata": {},
     "output_type": "display_data"
    },
    {
     "data": {
      "text/plain": [
       "5.551115123125783e-17"
      ]
     },
     "metadata": {},
     "output_type": "display_data"
    },
    {
     "data": {
      "text/plain": [
       "-9.992007221626409e-16"
      ]
     },
     "metadata": {},
     "output_type": "display_data"
    }
   ],
   "source": [
    "display(np.dot(eigen_vec[:,0], eigen_vec[:,1]))\n",
    "display(np.dot(eigen_vec[:,0], eigen_vec[:,2]))\n",
    "display(np.dot(eigen_vec[:,1], eigen_vec[:,2]))"
   ]
  },
  {
   "cell_type": "code",
   "execution_count": 15,
   "metadata": {},
   "outputs": [
    {
     "data": {
      "text/plain": [
       "array([[ 1, -2],\n",
       "       [-2,  1]])"
      ]
     },
     "metadata": {},
     "output_type": "display_data"
    }
   ],
   "source": [
    "#B is a symmetric maxtix\n",
    "B = np.array([[1,-2], [-2,1]])\n",
    "display(B)"
   ]
  },
  {
   "cell_type": "code",
   "execution_count": 17,
   "metadata": {},
   "outputs": [
    {
     "data": {
      "text/plain": [
       "array([ 3., -1.])"
      ]
     },
     "metadata": {},
     "output_type": "display_data"
    },
    {
     "data": {
      "text/plain": [
       "array([[ 0.70710678,  0.70710678],\n",
       "       [-0.70710678,  0.70710678]])"
      ]
     },
     "metadata": {},
     "output_type": "display_data"
    }
   ],
   "source": [
    "b_eigen_val, b_eigen_vec = np.linalg.eig(B)\n",
    "display(b_eigen_val)\n",
    "display(b_eigen_vec)"
   ]
  },
  {
   "cell_type": "markdown",
   "metadata": {},
   "source": [
    "B is a symmetric matrix, therefore, its eigenvectors are orthogonal"
   ]
  },
  {
   "cell_type": "code",
   "execution_count": 20,
   "metadata": {},
   "outputs": [
    {
     "data": {
      "text/plain": [
       "0.0"
      ]
     },
     "execution_count": 20,
     "metadata": {},
     "output_type": "execute_result"
    }
   ],
   "source": [
    "np.dot(b_eigen_vec[:, 0], b_eigen_vec[:, 1])"
   ]
  },
  {
   "cell_type": "markdown",
   "metadata": {},
   "source": [
    "### 4. Diagonalization\n",
    "\n",
    "* If a square matrix $A$ and a diagonal matrix $D$ are similar matrices such that $S^{-1}AS = D$, then $A$ is said to be **diagonalizable**.\n",
    "* Requirement is that a n by n matrix must have n linearly independent eigenvectors\n",
    "* How to diagonalize a n by n matrix with n linearly independent eigenvectors:<br>\n",
    "    1. Find $A$'s $n$ linearly independent eigenvectors $\\vec{s_1}, \\vec{s_2}, ..., \\vec{s_n}$\n",
    "    2. Matrix $S$ = [$\\vec{s_1} \\dots \\vec{s_n}$]\n",
    "    3. The product matrix of $S^{-1}AS$ will a diagonal matrix whose diagonal elements are corresponding eigenvalues of $\\vec{s_1} \\dots \\vec{s_n}$\n",
    "\n",
    "\n",
    "* Because this is so important, **remember**\n",
    "    1. Diagonalization only exists for square matrices\n",
    "    2. Eigenvectors must be linearly independent in order for the matrix to be diagonalized\n",
    "    3. **Symmetric matrices** are diagonalizable\n",
    "\n"
   ]
  },
  {
   "cell_type": "code",
   "execution_count": 33,
   "metadata": {},
   "outputs": [
    {
     "data": {
      "text/plain": [
       "array([[1, 2, 3],\n",
       "       [2, 4, 5],\n",
       "       [3, 5, 6]])"
      ]
     },
     "execution_count": 33,
     "metadata": {},
     "output_type": "execute_result"
    }
   ],
   "source": [
    "c = np.array([[1, 2, 3], [2, 4, 5], [3, 5, 6]])\n",
    "c"
   ]
  },
  {
   "cell_type": "code",
   "execution_count": 34,
   "metadata": {},
   "outputs": [
    {
     "data": {
      "text/plain": [
       "array([11.34481428, -0.51572947,  0.17091519])"
      ]
     },
     "metadata": {},
     "output_type": "display_data"
    },
    {
     "data": {
      "text/plain": [
       "array([[-0.32798528, -0.73697623,  0.59100905],\n",
       "       [-0.59100905, -0.32798528, -0.73697623],\n",
       "       [-0.73697623,  0.59100905,  0.32798528]])"
      ]
     },
     "metadata": {},
     "output_type": "display_data"
    }
   ],
   "source": [
    "eigen_val, eigen_vec = np.linalg.eig(c)\n",
    "display(eigen_val)\n",
    "display(eigen_vec)"
   ]
  },
  {
   "cell_type": "code",
   "execution_count": 35,
   "metadata": {},
   "outputs": [
    {
     "data": {
      "text/plain": [
       "array([[11.34481428,  0.        ,  0.        ],\n",
       "       [ 0.        , -0.51572947,  0.        ],\n",
       "       [ 0.        ,  0.        ,  0.17091519]])"
      ]
     },
     "execution_count": 35,
     "metadata": {},
     "output_type": "execute_result"
    }
   ],
   "source": [
    "np.diag(eigen_val)"
   ]
  },
  {
   "cell_type": "code",
   "execution_count": 36,
   "metadata": {},
   "outputs": [
    {
     "data": {
      "text/plain": [
       "array([[ 1.13448143e+01,  6.93889390e-16,  4.09394740e-16],\n",
       "       [ 1.77635684e-15, -5.15729472e-01,  8.04911693e-16],\n",
       "       [ 3.55271368e-15,  4.30211422e-16,  1.70915189e-01]])"
      ]
     },
     "execution_count": 36,
     "metadata": {},
     "output_type": "execute_result"
    }
   ],
   "source": [
    "np.linalg.inv(eigen_vec).dot(c.dot(eigen_vec))"
   ]
  },
  {
   "cell_type": "code",
   "execution_count": 37,
   "metadata": {},
   "outputs": [
    {
     "data": {
      "text/plain": [
       "array([[1., 2., 3.],\n",
       "       [2., 4., 5.],\n",
       "       [3., 5., 6.]])"
      ]
     },
     "execution_count": 37,
     "metadata": {},
     "output_type": "execute_result"
    }
   ],
   "source": [
    "eigen_vec.dot(np.diag(eigen_val)).dot(np.linalg.inv(eigen_vec))"
   ]
  },
  {
   "cell_type": "code",
   "execution_count": null,
   "metadata": {},
   "outputs": [],
   "source": []
  }
 ],
 "metadata": {
  "kernelspec": {
   "display_name": "Python 3",
   "language": "python",
   "name": "python3"
  },
  "language_info": {
   "codemirror_mode": {
    "name": "ipython",
    "version": 3
   },
   "file_extension": ".py",
   "mimetype": "text/x-python",
   "name": "python",
   "nbconvert_exporter": "python",
   "pygments_lexer": "ipython3",
   "version": "3.7.1"
  }
 },
 "nbformat": 4,
 "nbformat_minor": 2
}
