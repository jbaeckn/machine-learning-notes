{
 "cells": [
  {
   "cell_type": "code",
   "execution_count": 2,
   "metadata": {},
   "outputs": [],
   "source": [
    "import numpy as np"
   ]
  },
  {
   "cell_type": "markdown",
   "metadata": {},
   "source": [
    "## Matrix Basics\n",
    "\n",
    "* This is how a m x n matrix A looks like: <br><br>\n",
    "A = $\n",
    "\\begin{bmatrix}\n",
    "\\ a_{11} & a_{12} & \\cdots & \\ a_{1n} \\\\\n",
    "\\ a_{21} & a_{22} & \\cdots & \\ a_{2n} \\\\\n",
    "\\vdots & \\vdots & \\vdots &\\vdots \\\\\n",
    "\\ a_{m1} & a_{m2} & \\cdots & \\ a_{mn} \\\\\n",
    "\\end{bmatrix}$"
   ]
  },
  {
   "cell_type": "markdown",
   "metadata": {},
   "source": [
    "## Transpose Matrix\n",
    "\n",
    "* If A is a m x n matrix, its transpose $A^{T}$ is a n x m mattrix <br><br>\n",
    "A = $\n",
    "\\begin{bmatrix}\n",
    "\\ 2 & 3 \\\\\n",
    "\\ 1 & 4 \\\\\n",
    "\\ 5 & 6 \\\\\n",
    "\\end{bmatrix}$ &ensp; &ensp; &ensp; $A^{T}$ = $\n",
    "\\begin{bmatrix}\n",
    "\\ 2 & 1 & 5 \\\\\n",
    "\\ 3 & 4 & 6\\\\\n",
    "\\end{bmatrix}$"
   ]
  },
  {
   "cell_type": "markdown",
   "metadata": {},
   "source": [
    "## Zero Matrix\n",
    "\n",
    "* A matrix where all its elements are 0 <br><br>\n",
    "A = $\n",
    "\\begin{bmatrix}\n",
    "\\ 0 & 0 \\\\\n",
    "\\ 0 & 0 \\\\\n",
    "\\ 50 & 0 \\\\\n",
    "\\end{bmatrix}$"
   ]
  },
  {
   "cell_type": "markdown",
   "metadata": {},
   "source": [
    "## Identity Matrix\n",
    "* A matrix where its diagonal is 1 and all the other elements are 0<br><br>\n",
    "\n",
    "I = $\n",
    "\\begin{bmatrix}\n",
    "\\ 1 & 0 & 0 \\\\\n",
    "\\ 0 & 1 & 0 \\\\\n",
    "\\ 0 & 0 & 1 \\\\\n",
    "\\end{bmatrix}$"
   ]
  },
  {
   "cell_type": "markdown",
   "metadata": {},
   "source": [
    "## Inverse Matrix\n",
    "* If there exists matrix A and B such that AB = BA = I, A is an **invertible matrix** or **nonsingular matrix**, and B is A's **inverse matrix** <br><br>\n",
    "\n",
    "A = $\n",
    "\\begin{bmatrix}\n",
    "\\ a & b \\\\\n",
    "\\ c & d \\\\\n",
    "\\end{bmatrix}$ &ensp; &ensp; &ensp; $A^{-1}$ = \n",
    "$\\frac{1}{ad - bc}$\n",
    "$\n",
    "\\begin{bmatrix}\n",
    "\\ d & -b \\\\\n",
    "\\ -c & a \\\\\n",
    "\\end{bmatrix}$<br><br>\n",
    "\n",
    "* $ad - bc$ is called the determinant"
   ]
  },
  {
   "cell_type": "markdown",
   "metadata": {},
   "source": [
    "## Matrix Transformation\n",
    "* If A is a $m$ x $n$ matrix and $\\vec{x}$ is a $R^n$ column vector, the product of A$\\vec{x}$ is a $R^m$ column vector\n",
    "<br><br>\n",
    "* Example 1: Let A = $\n",
    "\\begin{bmatrix}\n",
    "\\ 1 & -1 \\\\\n",
    "\\ 2 & 5 \\\\\n",
    "\\ 3 & 4 \\\\\n",
    "\\end{bmatrix}$, &ensp; and $T_A$ is a transformation that maps $R^2$ 2x1 vector to a $R^3$ 3x1 vector\n",
    "<br><br>\n",
    "    * $A\\vec{x}$ = $\\begin{bmatrix}\n",
    "\\ 1 & -1 \\\\\n",
    "\\ 2 & 5 \\\\\n",
    "\\ 3 & 4 \\\\\n",
    "\\end{bmatrix}$ &ensp; $\n",
    "\\begin{bmatrix}\n",
    "\\ x_1 \\\\\n",
    "\\ x_2 \\\\\n",
    "\\end{bmatrix}$ = $\\begin{bmatrix}\n",
    "\\ x_1 - x_2 \\\\\n",
    "\\ 2x_1 + 5x_2 \\\\\n",
    "\\ 3x_1 + 4x_2 \\\\\n",
    "\\end{bmatrix}$\n",
    "<br><br>\n",
    "    * $T_A$($x_1$, $x_2$) = ($x_1 - x_2$, $2x_1 + 5x_2$, $3x_1 + 4x_2$)\n",
    "<br><br>\n",
    "    * $T_A$($\n",
    "\\begin{bmatrix}\n",
    "\\ -1 \\\\\n",
    "\\ 3 \\\\\n",
    "\\end{bmatrix}$) = $\n",
    "\\begin{bmatrix}\n",
    "\\ -4 \\\\\n",
    "\\ 13 \\\\\n",
    "\\ 9 \\\\\n",
    "\\end{bmatrix}$"
   ]
  },
  {
   "cell_type": "code",
   "execution_count": null,
   "metadata": {},
   "outputs": [],
   "source": []
  }
 ],
 "metadata": {
  "kernelspec": {
   "display_name": "Python 3",
   "language": "python",
   "name": "python3"
  },
  "language_info": {
   "codemirror_mode": {
    "name": "ipython",
    "version": 3
   },
   "file_extension": ".py",
   "mimetype": "text/x-python",
   "name": "python",
   "nbconvert_exporter": "python",
   "pygments_lexer": "ipython3",
   "version": "3.7.1"
  }
 },
 "nbformat": 4,
 "nbformat_minor": 2
}
