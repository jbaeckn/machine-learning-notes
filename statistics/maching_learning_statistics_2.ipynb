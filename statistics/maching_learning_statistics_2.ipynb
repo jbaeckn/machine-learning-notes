{
 "cells": [
  {
   "cell_type": "markdown",
   "metadata": {},
   "source": [
    "# 1. Statistics"
   ]
  },
  {
   "cell_type": "markdown",
   "metadata": {},
   "source": [
    "### 1.1 What is Statistics?\n",
    "\n",
    "There are two types of statistics:<br>\n",
    "1. Descriptive : Describing collected data\n",
    "2. Inferential : Makes inferences about population as whole\n",
    "\n",
    "### 1.2 Descriptive Statistics\n",
    "\n",
    "Numbers that are most indicative of a set of numbers\n",
    "1. Average : Population mean $\\mu = \\frac{\\sum_{i=1}^{n} x_{i}}{n}$\n",
    "2. Median\n",
    "3. Mode\n",
    "\n",
    "### 1.3 Population Data Variability\n",
    "\n",
    "Most commonly used are:<br>\n",
    "1. Average : Population mean $\\mu = \\frac{\\sum_{i=1}^{n} x_{i}}{n}$\n",
    "2. Variance : $\\sigma^{2}$ = $\\frac{\\sum_{i=1}^{n} (x_{i} - \\mu)^{2}}{n}$\n",
    "3. Standard variation : $\\sqrt{variance}$ = $\\sqrt{\\sigma^{2}}$ = $\\sigma$\n",
    "    * Because we take square root, we are able to get a scale of comparison in the same unit\n",
    "4. Z-score : $\\frac{x - \\bar{x}}{\\sigma}$, which tells how far away the observed value is from the mean. **Note that z-score is not necessarily restricted to a normal distribution**\n",
    "    \n",
    "### 1.4 Sample Data Variability\n",
    "\n",
    "1. Average : Population mean $\\bar{x} = \\frac{\\sum_{i=1}^{n} x_{i}}{n}$\n",
    "2. Variance : $s^{2}$ = $\\frac{\\sum_{i=1}^{n} (x_{i} - \\mu)^{2}}{n-1}$\n",
    "3. Standard variation : $\\sqrt{variance}$ = $\\sqrt{s^{2}}$ = $s$\n",
    "\n",
    "### 1.5 Normal Distribution\n",
    "\n",
    "**Empirical Rule** : In a normal distribution <br>\n",
    "1. the probability of finding a result **one standard deviation above and below the mean** is **68%**\n",
    "2. the probability of finding a result **two standard deviation above and below the mean** is **95%**\n",
    "3. the probability of finding a result **three standard deviation above and below the mean** is **99.7%**\n",
    "\n",
    "### 1.6 Standard Normal Distribution\n",
    "\n",
    "* $\\mu = 0$ and $\\sigma = 1$\n",
    "* Mean is **0** and standard deviation is **1**\n",
    "* The empirical rule of normal distribution still holds true\n",
    "\n",
    "### 1.7 Sampling Distribution and Standard Error\n",
    "\n",
    "* Statistics distribution of n samples of population\n",
    "* Standard error is a statistics used to represent sampling distribution's variability<br>\n",
    "* **The standard error of the mean (SEM)** can be expressed as: $\\sigma_{\\bar{x}} = \\frac{\\sigma}{\\sqrt{n}}$, where n is equal to the size of samples and $\\sigma$ is the standard deviation of the population (if it is known)\n",
    "* However, the standard deviation of the population is seldom known. In such case, we use $\\sigma_{\\bar{x}} = \\frac{s}{\\sqrt{n}}$, where s is the sample standard deviation and n is the size of the sample"
   ]
  },
  {
   "cell_type": "markdown",
   "metadata": {},
   "source": [
    "# 2. Practice Statistics with Data"
   ]
  },
  {
   "cell_type": "code",
   "execution_count": 3,
   "metadata": {},
   "outputs": [],
   "source": [
    "import pandas as pd\n",
    "import numpy as np\n",
    "import seaborn as sns\n",
    "import matplotlib.pyplot as plt\n",
    "import warnings\n",
    "warnings.filterwarnings('ignore')\n",
    "\n",
    "pd.options.display.max_columns=None"
   ]
  },
  {
   "cell_type": "markdown",
   "metadata": {},
   "source": [
    "### 2.1 Load Dataset"
   ]
  },
  {
   "cell_type": "code",
   "execution_count": 8,
   "metadata": {},
   "outputs": [
    {
     "data": {
      "text/html": [
       "<div>\n",
       "<style scoped>\n",
       "    .dataframe tbody tr th:only-of-type {\n",
       "        vertical-align: middle;\n",
       "    }\n",
       "\n",
       "    .dataframe tbody tr th {\n",
       "        vertical-align: top;\n",
       "    }\n",
       "\n",
       "    .dataframe thead th {\n",
       "        text-align: right;\n",
       "    }\n",
       "</style>\n",
       "<table border=\"1\" class=\"dataframe\">\n",
       "  <thead>\n",
       "    <tr style=\"text-align: right;\">\n",
       "      <th></th>\n",
       "      <th>state/region</th>\n",
       "      <th>ages</th>\n",
       "      <th>year</th>\n",
       "      <th>population</th>\n",
       "    </tr>\n",
       "  </thead>\n",
       "  <tbody>\n",
       "    <tr>\n",
       "      <th>0</th>\n",
       "      <td>AL</td>\n",
       "      <td>under18</td>\n",
       "      <td>2012</td>\n",
       "      <td>1117489.0</td>\n",
       "    </tr>\n",
       "    <tr>\n",
       "      <th>1</th>\n",
       "      <td>AL</td>\n",
       "      <td>total</td>\n",
       "      <td>2012</td>\n",
       "      <td>4817528.0</td>\n",
       "    </tr>\n",
       "    <tr>\n",
       "      <th>2</th>\n",
       "      <td>AL</td>\n",
       "      <td>under18</td>\n",
       "      <td>2010</td>\n",
       "      <td>1130966.0</td>\n",
       "    </tr>\n",
       "    <tr>\n",
       "      <th>3</th>\n",
       "      <td>AL</td>\n",
       "      <td>total</td>\n",
       "      <td>2010</td>\n",
       "      <td>4785570.0</td>\n",
       "    </tr>\n",
       "    <tr>\n",
       "      <th>4</th>\n",
       "      <td>AL</td>\n",
       "      <td>under18</td>\n",
       "      <td>2011</td>\n",
       "      <td>1125763.0</td>\n",
       "    </tr>\n",
       "  </tbody>\n",
       "</table>\n",
       "</div>"
      ],
      "text/plain": [
       "  state/region     ages  year  population\n",
       "0           AL  under18  2012   1117489.0\n",
       "1           AL    total  2012   4817528.0\n",
       "2           AL  under18  2010   1130966.0\n",
       "3           AL    total  2010   4785570.0\n",
       "4           AL  under18  2011   1125763.0"
      ]
     },
     "execution_count": 8,
     "metadata": {},
     "output_type": "execute_result"
    }
   ],
   "source": [
    "#dataset containing information about state population\n",
    "state_pop_dataset = pd.read_csv('state-population.csv')\n",
    "state_pop_dataset.head()"
   ]
  },
  {
   "cell_type": "code",
   "execution_count": 4,
   "metadata": {},
   "outputs": [
    {
     "data": {
      "text/html": [
       "<div>\n",
       "<style scoped>\n",
       "    .dataframe tbody tr th:only-of-type {\n",
       "        vertical-align: middle;\n",
       "    }\n",
       "\n",
       "    .dataframe tbody tr th {\n",
       "        vertical-align: top;\n",
       "    }\n",
       "\n",
       "    .dataframe thead th {\n",
       "        text-align: right;\n",
       "    }\n",
       "</style>\n",
       "<table border=\"1\" class=\"dataframe\">\n",
       "  <thead>\n",
       "    <tr style=\"text-align: right;\">\n",
       "      <th></th>\n",
       "      <th>state</th>\n",
       "      <th>abb</th>\n",
       "      <th>region</th>\n",
       "      <th>population</th>\n",
       "      <th>total</th>\n",
       "    </tr>\n",
       "  </thead>\n",
       "  <tbody>\n",
       "    <tr>\n",
       "      <th>0</th>\n",
       "      <td>Alabama</td>\n",
       "      <td>AL</td>\n",
       "      <td>South</td>\n",
       "      <td>4779736</td>\n",
       "      <td>135</td>\n",
       "    </tr>\n",
       "    <tr>\n",
       "      <th>1</th>\n",
       "      <td>Alaska</td>\n",
       "      <td>AK</td>\n",
       "      <td>West</td>\n",
       "      <td>710231</td>\n",
       "      <td>19</td>\n",
       "    </tr>\n",
       "    <tr>\n",
       "      <th>2</th>\n",
       "      <td>Arizona</td>\n",
       "      <td>AZ</td>\n",
       "      <td>West</td>\n",
       "      <td>6392017</td>\n",
       "      <td>232</td>\n",
       "    </tr>\n",
       "    <tr>\n",
       "      <th>3</th>\n",
       "      <td>Arkansas</td>\n",
       "      <td>AR</td>\n",
       "      <td>South</td>\n",
       "      <td>2915918</td>\n",
       "      <td>93</td>\n",
       "    </tr>\n",
       "    <tr>\n",
       "      <th>4</th>\n",
       "      <td>California</td>\n",
       "      <td>CA</td>\n",
       "      <td>West</td>\n",
       "      <td>37253956</td>\n",
       "      <td>1257</td>\n",
       "    </tr>\n",
       "  </tbody>\n",
       "</table>\n",
       "</div>"
      ],
      "text/plain": [
       "        state abb region  population  total\n",
       "0     Alabama  AL  South     4779736    135\n",
       "1      Alaska  AK   West      710231     19\n",
       "2     Arizona  AZ   West     6392017    232\n",
       "3    Arkansas  AR  South     2915918     93\n",
       "4  California  CA   West    37253956   1257"
      ]
     },
     "execution_count": 4,
     "metadata": {},
     "output_type": "execute_result"
    }
   ],
   "source": [
    "#dataset containing information regarding murder cases by state\n",
    "dataset = pd.read_csv('murders.csv')\n",
    "dataset.head()"
   ]
  },
  {
   "cell_type": "code",
   "execution_count": 5,
   "metadata": {},
   "outputs": [
    {
     "data": {
      "text/html": [
       "<div>\n",
       "<style scoped>\n",
       "    .dataframe tbody tr th:only-of-type {\n",
       "        vertical-align: middle;\n",
       "    }\n",
       "\n",
       "    .dataframe tbody tr th {\n",
       "        vertical-align: top;\n",
       "    }\n",
       "\n",
       "    .dataframe thead th {\n",
       "        text-align: right;\n",
       "    }\n",
       "</style>\n",
       "<table border=\"1\" class=\"dataframe\">\n",
       "  <thead>\n",
       "    <tr style=\"text-align: right;\">\n",
       "      <th></th>\n",
       "      <th>Age</th>\n",
       "      <th>Sex</th>\n",
       "      <th>Job</th>\n",
       "      <th>Housing</th>\n",
       "      <th>Saving accounts</th>\n",
       "      <th>Checking account</th>\n",
       "      <th>Credit amount</th>\n",
       "      <th>Duration</th>\n",
       "      <th>Purpose</th>\n",
       "      <th>Risk</th>\n",
       "    </tr>\n",
       "  </thead>\n",
       "  <tbody>\n",
       "    <tr>\n",
       "      <th>0</th>\n",
       "      <td>67</td>\n",
       "      <td>male</td>\n",
       "      <td>2</td>\n",
       "      <td>own</td>\n",
       "      <td>NaN</td>\n",
       "      <td>little</td>\n",
       "      <td>1169</td>\n",
       "      <td>6</td>\n",
       "      <td>radio/TV</td>\n",
       "      <td>0</td>\n",
       "    </tr>\n",
       "    <tr>\n",
       "      <th>1</th>\n",
       "      <td>22</td>\n",
       "      <td>female</td>\n",
       "      <td>2</td>\n",
       "      <td>own</td>\n",
       "      <td>little</td>\n",
       "      <td>moderate</td>\n",
       "      <td>5951</td>\n",
       "      <td>48</td>\n",
       "      <td>radio/TV</td>\n",
       "      <td>1</td>\n",
       "    </tr>\n",
       "    <tr>\n",
       "      <th>2</th>\n",
       "      <td>49</td>\n",
       "      <td>male</td>\n",
       "      <td>1</td>\n",
       "      <td>own</td>\n",
       "      <td>little</td>\n",
       "      <td>NaN</td>\n",
       "      <td>2096</td>\n",
       "      <td>12</td>\n",
       "      <td>education</td>\n",
       "      <td>0</td>\n",
       "    </tr>\n",
       "    <tr>\n",
       "      <th>3</th>\n",
       "      <td>45</td>\n",
       "      <td>male</td>\n",
       "      <td>2</td>\n",
       "      <td>free</td>\n",
       "      <td>little</td>\n",
       "      <td>little</td>\n",
       "      <td>7882</td>\n",
       "      <td>42</td>\n",
       "      <td>furniture/equipment</td>\n",
       "      <td>0</td>\n",
       "    </tr>\n",
       "    <tr>\n",
       "      <th>4</th>\n",
       "      <td>53</td>\n",
       "      <td>male</td>\n",
       "      <td>2</td>\n",
       "      <td>free</td>\n",
       "      <td>little</td>\n",
       "      <td>little</td>\n",
       "      <td>4870</td>\n",
       "      <td>24</td>\n",
       "      <td>car</td>\n",
       "      <td>1</td>\n",
       "    </tr>\n",
       "  </tbody>\n",
       "</table>\n",
       "</div>"
      ],
      "text/plain": [
       "   Age     Sex  Job Housing Saving accounts Checking account  Credit amount  \\\n",
       "0   67    male    2     own             NaN           little           1169   \n",
       "1   22  female    2     own          little         moderate           5951   \n",
       "2   49    male    1     own          little              NaN           2096   \n",
       "3   45    male    2    free          little           little           7882   \n",
       "4   53    male    2    free          little           little           4870   \n",
       "\n",
       "   Duration              Purpose  Risk  \n",
       "0         6             radio/TV     0  \n",
       "1        48             radio/TV     1  \n",
       "2        12            education     0  \n",
       "3        42  furniture/equipment     0  \n",
       "4        24                  car     1  "
      ]
     },
     "execution_count": 5,
     "metadata": {},
     "output_type": "execute_result"
    }
   ],
   "source": [
    "#dataset of credentials\n",
    "german_dataset = pd.read_csv('german_dataset.csv',  index_col=0)\n",
    "german_dataset.head()"
   ]
  },
  {
   "cell_type": "code",
   "execution_count": 6,
   "metadata": {},
   "outputs": [
    {
     "data": {
      "text/html": [
       "<div>\n",
       "<style scoped>\n",
       "    .dataframe tbody tr th:only-of-type {\n",
       "        vertical-align: middle;\n",
       "    }\n",
       "\n",
       "    .dataframe tbody tr th {\n",
       "        vertical-align: top;\n",
       "    }\n",
       "\n",
       "    .dataframe thead th {\n",
       "        text-align: right;\n",
       "    }\n",
       "</style>\n",
       "<table border=\"1\" class=\"dataframe\">\n",
       "  <thead>\n",
       "    <tr style=\"text-align: right;\">\n",
       "      <th></th>\n",
       "      <th>longitude</th>\n",
       "      <th>latitude</th>\n",
       "      <th>housing_median_age</th>\n",
       "      <th>total_rooms</th>\n",
       "      <th>total_bedrooms</th>\n",
       "      <th>population</th>\n",
       "      <th>households</th>\n",
       "      <th>median_income</th>\n",
       "      <th>median_house_value</th>\n",
       "      <th>ocean_proximity</th>\n",
       "    </tr>\n",
       "  </thead>\n",
       "  <tbody>\n",
       "    <tr>\n",
       "      <th>0</th>\n",
       "      <td>-122.23</td>\n",
       "      <td>37.88</td>\n",
       "      <td>41.0</td>\n",
       "      <td>880.0</td>\n",
       "      <td>129.0</td>\n",
       "      <td>322.0</td>\n",
       "      <td>126.0</td>\n",
       "      <td>8.3252</td>\n",
       "      <td>452600.0</td>\n",
       "      <td>NEAR BAY</td>\n",
       "    </tr>\n",
       "    <tr>\n",
       "      <th>1</th>\n",
       "      <td>-122.22</td>\n",
       "      <td>37.86</td>\n",
       "      <td>21.0</td>\n",
       "      <td>7099.0</td>\n",
       "      <td>1106.0</td>\n",
       "      <td>2401.0</td>\n",
       "      <td>1138.0</td>\n",
       "      <td>8.3014</td>\n",
       "      <td>358500.0</td>\n",
       "      <td>NEAR BAY</td>\n",
       "    </tr>\n",
       "    <tr>\n",
       "      <th>2</th>\n",
       "      <td>-122.24</td>\n",
       "      <td>37.85</td>\n",
       "      <td>52.0</td>\n",
       "      <td>1467.0</td>\n",
       "      <td>190.0</td>\n",
       "      <td>496.0</td>\n",
       "      <td>177.0</td>\n",
       "      <td>7.2574</td>\n",
       "      <td>352100.0</td>\n",
       "      <td>NEAR BAY</td>\n",
       "    </tr>\n",
       "    <tr>\n",
       "      <th>3</th>\n",
       "      <td>-122.25</td>\n",
       "      <td>37.85</td>\n",
       "      <td>52.0</td>\n",
       "      <td>1274.0</td>\n",
       "      <td>235.0</td>\n",
       "      <td>558.0</td>\n",
       "      <td>219.0</td>\n",
       "      <td>5.6431</td>\n",
       "      <td>341300.0</td>\n",
       "      <td>NEAR BAY</td>\n",
       "    </tr>\n",
       "    <tr>\n",
       "      <th>4</th>\n",
       "      <td>-122.25</td>\n",
       "      <td>37.85</td>\n",
       "      <td>52.0</td>\n",
       "      <td>1627.0</td>\n",
       "      <td>280.0</td>\n",
       "      <td>565.0</td>\n",
       "      <td>259.0</td>\n",
       "      <td>3.8462</td>\n",
       "      <td>342200.0</td>\n",
       "      <td>NEAR BAY</td>\n",
       "    </tr>\n",
       "  </tbody>\n",
       "</table>\n",
       "</div>"
      ],
      "text/plain": [
       "   longitude  latitude  housing_median_age  total_rooms  total_bedrooms  \\\n",
       "0    -122.23     37.88                41.0        880.0           129.0   \n",
       "1    -122.22     37.86                21.0       7099.0          1106.0   \n",
       "2    -122.24     37.85                52.0       1467.0           190.0   \n",
       "3    -122.25     37.85                52.0       1274.0           235.0   \n",
       "4    -122.25     37.85                52.0       1627.0           280.0   \n",
       "\n",
       "   population  households  median_income  median_house_value ocean_proximity  \n",
       "0       322.0       126.0         8.3252            452600.0        NEAR BAY  \n",
       "1      2401.0      1138.0         8.3014            358500.0        NEAR BAY  \n",
       "2       496.0       177.0         7.2574            352100.0        NEAR BAY  \n",
       "3       558.0       219.0         5.6431            341300.0        NEAR BAY  \n",
       "4       565.0       259.0         3.8462            342200.0        NEAR BAY  "
      ]
     },
     "execution_count": 6,
     "metadata": {},
     "output_type": "execute_result"
    }
   ],
   "source": [
    "#dataset containing housing information\n",
    "housing_data = pd.read_csv('housing.csv')\n",
    "housing_data.head()"
   ]
  },
  {
   "cell_type": "markdown",
   "metadata": {},
   "source": [
    "### 2.2 Central Limit Theorem\n",
    "\n",
    "**The Central Limit Theorem (CLT)** is a statistical theory states that given a sufficiently large sample size from a population with a finite level of variance, the mean of all samples from the same population will be approximately equal to the mean of the population."
   ]
  },
  {
   "cell_type": "code",
   "execution_count": 7,
   "metadata": {},
   "outputs": [],
   "source": [
    "import matplotlib as mpl\n",
    "plt.rcParams[\"figure.figsize\"] = (10,20)"
   ]
  },
  {
   "cell_type": "code",
   "execution_count": 8,
   "metadata": {},
   "outputs": [
    {
     "data": {
      "text/plain": [
       "Text(0.5, 1.0, 'Sample mean of 100 data points : 1000 samples')"
      ]
     },
     "execution_count": 8,
     "metadata": {},
     "output_type": "execute_result"
    },
    {
     "data": {
      "image/png": "[encoded data removed]",
      "text/plain": [
       "<Figure size 720x1440 with 4 Axes>"
      ]
     },
     "metadata": {
      "needs_background": "light"
     },
     "output_type": "display_data"
    }
   ],
   "source": [
    "ax1 = plt.subplot(411) #create a plot field of one column and four rows\n",
    "sns.distplot(housing_data['median_house_value'])\n",
    "plt.title('Dataset')\n",
    "\n",
    "sample_5 = []\n",
    "for _ in range(1000):\n",
    "    sample_5.append(housing_data.median_house_value.sample(5).mean()) #use sample function (this is random)\n",
    "ax2 = plt.subplot(412, sharex= ax1)\n",
    "sns.distplot(sample_5)\n",
    "plt.title('Sample mean of 5 data points : 1000 samples')\n",
    "\n",
    "sample_20 = []\n",
    "for _ in range(1000):\n",
    "    sample_20.append(housing_data.median_house_value.sample(20).mean())\n",
    "ax3 = plt.subplot(413, sharex = ax1)\n",
    "sns.distplot(sample_20)\n",
    "plt.title('Sample mean of 20 data points : 1000 samples')\n",
    "\n",
    "\n",
    "sample_100 = []\n",
    "for _ in range(1000):\n",
    "    sample_100.append(housing_data.median_house_value.sample(100).mean())\n",
    "ax4 = plt.subplot(414, sharex = ax1)\n",
    "sns.distplot(sample_100)\n",
    "plt.title('Sample mean of 100 data points : 1000 samples')"
   ]
  },
  {
   "cell_type": "markdown",
   "metadata": {},
   "source": [
    "variance of sample mean is important -> standard error<br>\n",
    "calculate sample mean and its variance"
   ]
  },
  {
   "cell_type": "code",
   "execution_count": 9,
   "metadata": {},
   "outputs": [
    {
     "name": "stdout",
     "output_type": "stream",
     "text": [
      "dataset median : 1597005.0\n"
     ]
    }
   ],
   "source": [
    "print('dataset median :', state_pop_dataset.population.median())"
   ]
  },
  {
   "cell_type": "markdown",
   "metadata": {},
   "source": [
    "### 2.3 Boostrap Algorithm\n",
    "\n",
    "1. Take a bootstrap sample\n",
    "2. Resample from the bootstrap sample n-times, and record resampled means\n",
    "3. Repeat step 1~2 R times"
   ]
  },
  {
   "cell_type": "code",
   "execution_count": 11,
   "metadata": {},
   "outputs": [
    {
     "name": "stdout",
     "output_type": "stream",
     "text": [
      "dataset median : 1597005.0\n"
     ]
    }
   ],
   "source": [
    "print('dataset median :', state_pop_dataset.population.median())"
   ]
  },
  {
   "cell_type": "code",
   "execution_count": 12,
   "metadata": {},
   "outputs": [],
   "source": [
    "state_pop_sample_meds = []\n",
    "\n",
    "for _ in range(500):\n",
    "    samp_med = state_pop_dataset.population.sample(100, replace=True).median()\n",
    "    state_pop_sample_meds.append(samp_med)"
   ]
  },
  {
   "cell_type": "code",
   "execution_count": 16,
   "metadata": {},
   "outputs": [
    {
     "name": "stdout",
     "output_type": "stream",
     "text": [
      "bootstrap median : 1665413.254\n",
      "bootstrap median standard error : 315401.27369201044\n"
     ]
    }
   ],
   "source": [
    "print('bootstrap median :', np.mean(state_pop_sample_meds))\n",
    "print('bootstrap median standard error :', np.std(state_pop_sample_meds))"
   ]
  },
  {
   "cell_type": "markdown",
   "metadata": {},
   "source": [
    "## Confidence Interval"
   ]
  },
  {
   "cell_type": "markdown",
   "metadata": {},
   "source": [
    "**(예제) 캘리포니아 지역의 평균 집 값에 대한 90% 신뢰구간을 부트스트랩을 이용하여 구하라.**"
   ]
  },
  {
   "cell_type": "code",
   "execution_count": 19,
   "metadata": {},
   "outputs": [
    {
     "data": {
      "text/plain": [
       "[203966.06,\n",
       " 194312.08,\n",
       " 206852.08,\n",
       " 204062.02,\n",
       " 210928.06,\n",
       " 206650.0,\n",
       " 197150.02,\n",
       " 195362.0,\n",
       " 201396.04,\n",
       " 200272.06,\n",
       " 246754.12,\n",
       " 188270.04,\n",
       " 223724.08,\n",
       " 188676.02,\n",
       " 214488.08,\n",
       " 202716.02,\n",
       " 197172.04,\n",
       " 187170.02,\n",
       " 213790.02,\n",
       " 209322.08,\n",
       " 200260.04,\n",
       " 205136.06,\n",
       " 205710.06,\n",
       " 226522.02,\n",
       " 215444.06,\n",
       " 194462.0,\n",
       " 225564.04,\n",
       " 240500.16,\n",
       " 205958.06,\n",
       " 216094.1,\n",
       " 205690.06,\n",
       " 199090.04,\n",
       " 204500.04,\n",
       " 209412.06,\n",
       " 229804.08,\n",
       " 206730.04,\n",
       " 189196.0,\n",
       " 218348.06,\n",
       " 230850.08,\n",
       " 197088.04,\n",
       " 226784.04,\n",
       " 206484.04,\n",
       " 194988.02,\n",
       " 243252.06,\n",
       " 211028.04,\n",
       " 221130.06,\n",
       " 218212.06,\n",
       " 196036.04,\n",
       " 192878.06,\n",
       " 186346.04,\n",
       " 214312.1,\n",
       " 249004.12,\n",
       " 196138.08,\n",
       " 223400.08,\n",
       " 232186.04,\n",
       " 219410.06,\n",
       " 209694.06,\n",
       " 203342.04,\n",
       " 191210.04,\n",
       " 240290.1,\n",
       " 188858.02,\n",
       " 201826.02,\n",
       " 204388.0,\n",
       " 204518.04,\n",
       " 180008.0,\n",
       " 206020.02,\n",
       " 179670.04,\n",
       " 207468.04,\n",
       " 216868.06,\n",
       " 187270.02,\n",
       " 177614.02,\n",
       " 230530.06,\n",
       " 188852.08,\n",
       " 196678.08,\n",
       " 200252.04,\n",
       " 220754.04,\n",
       " 194094.04,\n",
       " 212684.04,\n",
       " 228546.06,\n",
       " 193898.04,\n",
       " 237454.08,\n",
       " 194110.02,\n",
       " 190686.04,\n",
       " 200030.0,\n",
       " 213338.08,\n",
       " 229216.12,\n",
       " 226248.04,\n",
       " 214940.02,\n",
       " 203310.02,\n",
       " 191716.08,\n",
       " 215978.06,\n",
       " 217126.1,\n",
       " 217918.02,\n",
       " 189564.04,\n",
       " 220288.06,\n",
       " 197586.0,\n",
       " 200702.06,\n",
       " 212118.04,\n",
       " 236504.04,\n",
       " 222762.06,\n",
       " 220286.08,\n",
       " 214260.04,\n",
       " 187194.02,\n",
       " 217286.06,\n",
       " 182866.0,\n",
       " 189240.04,\n",
       " 213710.02,\n",
       " 193974.08,\n",
       " 217336.06,\n",
       " 223944.08,\n",
       " 224900.08,\n",
       " 184604.02,\n",
       " 211936.1,\n",
       " 234668.02,\n",
       " 177298.0,\n",
       " 190250.06,\n",
       " 194322.02,\n",
       " 198040.02,\n",
       " 203958.02,\n",
       " 218986.02,\n",
       " 198768.06,\n",
       " 196726.04,\n",
       " 204432.06,\n",
       " 218300.06,\n",
       " 197788.06,\n",
       " 211358.02,\n",
       " 195074.06,\n",
       " 229714.06,\n",
       " 215362.02,\n",
       " 194638.04,\n",
       " 217032.02,\n",
       " 210158.08,\n",
       " 209884.06,\n",
       " 203524.0,\n",
       " 186118.08,\n",
       " 183130.04,\n",
       " 189330.02,\n",
       " 199616.04,\n",
       " 203676.06,\n",
       " 202512.02,\n",
       " 213056.02,\n",
       " 191724.02,\n",
       " 180478.02,\n",
       " 202086.06,\n",
       " 194006.02,\n",
       " 202822.04,\n",
       " 211106.04,\n",
       " 200006.0,\n",
       " 198074.02,\n",
       " 187452.04,\n",
       " 207254.08,\n",
       " 225974.06,\n",
       " 226198.04,\n",
       " 193774.04,\n",
       " 217756.04,\n",
       " 233232.1,\n",
       " 189612.02,\n",
       " 205792.06,\n",
       " 216858.04,\n",
       " 202392.04,\n",
       " 211554.08,\n",
       " 178042.02,\n",
       " 176162.02,\n",
       " 223300.08,\n",
       " 212676.1,\n",
       " 203662.08,\n",
       " 199986.08,\n",
       " 189154.0,\n",
       " 201042.04,\n",
       " 204114.0,\n",
       " 229406.08,\n",
       " 217118.08,\n",
       " 210592.02,\n",
       " 215334.04,\n",
       " 179534.02,\n",
       " 214142.04,\n",
       " 220584.02,\n",
       " 213132.1,\n",
       " 210780.06,\n",
       " 218988.08,\n",
       " 196348.02,\n",
       " 209548.08,\n",
       " 180520.0,\n",
       " 226546.1,\n",
       " 213606.08,\n",
       " 207290.04,\n",
       " 177256.0,\n",
       " 202988.0,\n",
       " 250676.04,\n",
       " 222418.1,\n",
       " 181262.0,\n",
       " 230940.06,\n",
       " 216846.06,\n",
       " 188556.04,\n",
       " 206936.04,\n",
       " 230674.1,\n",
       " 193994.06,\n",
       " 201668.02,\n",
       " 221344.06,\n",
       " 204168.08,\n",
       " 239502.08,\n",
       " 189942.04,\n",
       " 247786.08,\n",
       " 196226.04,\n",
       " 199890.04,\n",
       " 213164.06,\n",
       " 222138.06,\n",
       " 229952.06,\n",
       " 212064.02,\n",
       " 174650.04,\n",
       " 189754.06,\n",
       " 214174.02,\n",
       " 213342.02,\n",
       " 227846.08,\n",
       " 249438.1,\n",
       " 217266.06,\n",
       " 212686.0,\n",
       " 196232.06,\n",
       " 233506.06,\n",
       " 218382.06,\n",
       " 199004.04,\n",
       " 236682.12,\n",
       " 214108.02,\n",
       " 206008.04,\n",
       " 195694.04,\n",
       " 193700.06,\n",
       " 194716.0,\n",
       " 220596.06,\n",
       " 193982.04,\n",
       " 202706.06,\n",
       " 211808.1,\n",
       " 215240.04,\n",
       " 198810.04,\n",
       " 201786.04,\n",
       " 207348.08,\n",
       " 221082.04,\n",
       " 202512.02,\n",
       " 201122.04,\n",
       " 207316.06,\n",
       " 213402.06,\n",
       " 227578.0,\n",
       " 241812.1,\n",
       " 214008.1,\n",
       " 211660.06,\n",
       " 206132.06,\n",
       " 217916.06,\n",
       " 184274.04,\n",
       " 192698.02,\n",
       " 213274.02,\n",
       " 227212.06,\n",
       " 204518.0,\n",
       " 198908.02,\n",
       " 190164.04,\n",
       " 211968.02,\n",
       " 196880.02,\n",
       " 207956.06,\n",
       " 207186.08,\n",
       " 157178.04,\n",
       " 205704.04,\n",
       " 223292.06,\n",
       " 177506.04,\n",
       " 209978.06,\n",
       " 218202.08,\n",
       " 209692.02,\n",
       " 182012.0,\n",
       " 208186.0,\n",
       " 188786.04,\n",
       " 204750.08,\n",
       " 229692.08,\n",
       " 207918.04,\n",
       " 211596.04,\n",
       " 209620.06,\n",
       " 211694.06,\n",
       " 208320.04,\n",
       " 188700.02,\n",
       " 208130.06,\n",
       " 198584.02,\n",
       " 216966.04,\n",
       " 222456.1,\n",
       " 211140.08,\n",
       " 190372.0,\n",
       " 235600.08,\n",
       " 208116.04,\n",
       " 234768.02,\n",
       " 191208.0,\n",
       " 197258.06,\n",
       " 206746.04,\n",
       " 225914.04,\n",
       " 202302.04,\n",
       " 208948.04,\n",
       " 197342.04,\n",
       " 202042.04,\n",
       " 219146.04,\n",
       " 169966.0,\n",
       " 207194.04,\n",
       " 210114.08,\n",
       " 198602.06,\n",
       " 207968.04,\n",
       " 207246.04,\n",
       " 207206.1,\n",
       " 191618.04,\n",
       " 218000.06,\n",
       " 228594.08,\n",
       " 194096.02,\n",
       " 224704.1,\n",
       " 185854.02,\n",
       " 210376.06,\n",
       " 231876.14,\n",
       " 218530.08,\n",
       " 209962.04,\n",
       " 202092.02,\n",
       " 208328.1,\n",
       " 193824.02,\n",
       " 186168.0,\n",
       " 202230.02,\n",
       " 163146.02,\n",
       " 170842.02,\n",
       " 214016.06,\n",
       " 212862.06,\n",
       " 200646.08,\n",
       " 214616.06,\n",
       " 240944.04,\n",
       " 185168.02,\n",
       " 218308.06,\n",
       " 176694.02,\n",
       " 198250.06,\n",
       " 174740.0,\n",
       " 213450.04,\n",
       " 220418.06,\n",
       " 230624.06,\n",
       " 211202.06,\n",
       " 175450.0,\n",
       " 207242.0,\n",
       " 182104.0,\n",
       " 188574.02,\n",
       " 184366.04,\n",
       " 231868.1,\n",
       " 194062.02,\n",
       " 205490.02,\n",
       " 212324.04,\n",
       " 186310.0,\n",
       " 207702.06,\n",
       " 200822.02,\n",
       " 223468.04,\n",
       " 198718.02,\n",
       " 199618.04,\n",
       " 164260.02,\n",
       " 223962.06,\n",
       " 223026.06,\n",
       " 220172.04,\n",
       " 199728.06,\n",
       " 188828.04,\n",
       " 193736.02,\n",
       " 205940.0,\n",
       " 208304.06,\n",
       " 217432.0,\n",
       " 174592.0,\n",
       " 190918.04,\n",
       " 193172.02,\n",
       " 214938.06,\n",
       " 185244.0,\n",
       " 223894.04,\n",
       " 219844.08,\n",
       " 226914.02,\n",
       " 216824.08,\n",
       " 203778.08,\n",
       " 211650.0,\n",
       " 210886.02,\n",
       " 211118.1,\n",
       " 213298.0,\n",
       " 225638.04,\n",
       " 233968.06,\n",
       " 191558.06,\n",
       " 216386.1,\n",
       " 206372.06,\n",
       " 205486.0,\n",
       " 198740.04,\n",
       " 184490.0,\n",
       " 230222.1,\n",
       " 212374.06,\n",
       " 219728.16,\n",
       " 189492.0,\n",
       " 195482.02,\n",
       " 236952.08,\n",
       " 198226.06,\n",
       " 203228.04,\n",
       " 214192.12,\n",
       " 180516.04,\n",
       " 197118.04,\n",
       " 218236.06,\n",
       " 221918.1,\n",
       " 211924.06,\n",
       " 200248.0,\n",
       " 239604.1,\n",
       " 195172.1,\n",
       " 179400.02,\n",
       " 191174.02,\n",
       " 195432.04,\n",
       " 188808.02,\n",
       " 171670.0,\n",
       " 194004.04,\n",
       " 221018.06,\n",
       " 218592.06,\n",
       " 174660.0,\n",
       " 197240.0,\n",
       " 200992.02,\n",
       " 221248.06,\n",
       " 223488.04,\n",
       " 205520.06,\n",
       " 189694.0,\n",
       " 212486.06,\n",
       " 199920.04,\n",
       " 188240.04,\n",
       " 172854.02,\n",
       " 204926.08,\n",
       " 200866.1,\n",
       " 211250.04,\n",
       " 200410.04,\n",
       " 190160.04,\n",
       " 189092.02,\n",
       " 204022.02,\n",
       " 219672.04,\n",
       " 207756.0,\n",
       " 220404.1,\n",
       " 195992.06,\n",
       " 185640.04,\n",
       " 220220.06,\n",
       " 197016.04,\n",
       " 193778.02,\n",
       " 198080.04,\n",
       " 199998.04,\n",
       " 205296.06,\n",
       " 209720.1,\n",
       " 195750.02,\n",
       " 191954.02,\n",
       " 206576.06,\n",
       " 206748.02,\n",
       " 215962.04,\n",
       " 180186.02,\n",
       " 205366.0,\n",
       " 228596.08,\n",
       " 183246.04,\n",
       " 216564.1,\n",
       " 216082.04,\n",
       " 196822.02,\n",
       " 187268.02,\n",
       " 200226.02,\n",
       " 216552.04,\n",
       " 198154.06,\n",
       " 222958.1,\n",
       " 183046.02,\n",
       " 188484.08,\n",
       " 207102.04,\n",
       " 192300.02,\n",
       " 225256.06,\n",
       " 234118.1,\n",
       " 200254.06,\n",
       " 203870.06,\n",
       " 213172.04,\n",
       " 227008.06,\n",
       " 208552.06,\n",
       " 245360.12,\n",
       " 205074.02,\n",
       " 243680.12,\n",
       " 243324.1,\n",
       " 193762.04,\n",
       " 184126.0,\n",
       " 189100.02,\n",
       " 196708.02,\n",
       " 209384.1,\n",
       " 196466.04,\n",
       " 203644.04,\n",
       " 210254.02,\n",
       " 215890.06,\n",
       " 217390.06,\n",
       " 199178.0,\n",
       " 221904.04,\n",
       " 230944.1,\n",
       " 230672.08,\n",
       " 226330.08,\n",
       " 200466.06,\n",
       " 208290.04,\n",
       " 226930.08,\n",
       " 211922.06,\n",
       " 222432.12,\n",
       " 215196.04,\n",
       " 198782.02,\n",
       " 213092.04,\n",
       " 175392.04,\n",
       " 190298.06,\n",
       " 211736.08,\n",
       " 169164.0,\n",
       " 186926.02,\n",
       " 172818.04,\n",
       " 217542.04,\n",
       " 213558.06,\n",
       " 221644.08,\n",
       " 215616.02,\n",
       " 219004.06,\n",
       " 194916.0,\n",
       " 226462.12,\n",
       " 205648.04,\n",
       " 189378.0,\n",
       " 213336.02,\n",
       " 180056.02,\n",
       " 212178.06,\n",
       " 202366.02,\n",
       " 211858.02,\n",
       " 197444.02,\n",
       " 218422.04,\n",
       " 225538.1,\n",
       " 183246.04,\n",
       " 208584.02,\n",
       " 224078.08,\n",
       " 184978.02,\n",
       " 179448.04,\n",
       " 215632.04,\n",
       " 207828.02,\n",
       " 197982.0,\n",
       " 210496.06,\n",
       " 212734.04,\n",
       " 196816.04,\n",
       " 187546.06,\n",
       " 227432.08,\n",
       " 174432.0,\n",
       " 235404.1,\n",
       " 192916.04,\n",
       " 181116.02,\n",
       " 183750.02,\n",
       " 231436.04,\n",
       " 166688.02,\n",
       " 227188.06,\n",
       " 218852.06,\n",
       " 183110.06,\n",
       " 179020.02,\n",
       " 211108.0,\n",
       " 174290.02,\n",
       " 215456.08,\n",
       " 211308.04,\n",
       " 212688.02,\n",
       " 182152.02,\n",
       " 211938.04,\n",
       " 212324.06,\n",
       " 189984.0,\n",
       " 200138.06,\n",
       " 201060.0,\n",
       " 208460.0,\n",
       " 195822.02,\n",
       " 220386.06,\n",
       " 230588.06,\n",
       " 194892.02,\n",
       " 223510.08,\n",
       " 213128.04,\n",
       " 214612.02,\n",
       " 187298.02,\n",
       " 215566.06,\n",
       " 202650.02,\n",
       " 213864.02,\n",
       " 218928.06,\n",
       " 203710.04,\n",
       " 187770.02,\n",
       " 196160.04,\n",
       " 204046.06,\n",
       " 182080.0,\n",
       " 208084.02,\n",
       " 174554.02,\n",
       " 188810.04,\n",
       " 216128.08,\n",
       " 229454.08,\n",
       " 213192.06,\n",
       " 241684.1,\n",
       " 214392.08,\n",
       " 184086.02,\n",
       " 177384.0,\n",
       " 217940.04,\n",
       " 211902.02,\n",
       " 193790.06,\n",
       " 206700.06,\n",
       " 192206.02,\n",
       " 203026.08,\n",
       " 221568.1,\n",
       " 226610.04,\n",
       " 187602.04,\n",
       " 186794.06,\n",
       " 233914.06,\n",
       " 210876.08,\n",
       " 197262.0,\n",
       " 200544.06,\n",
       " 232876.1,\n",
       " 207454.08,\n",
       " 204706.02,\n",
       " 226996.06,\n",
       " 227430.08,\n",
       " 191616.02,\n",
       " 172184.0,\n",
       " 243798.14,\n",
       " 188234.02,\n",
       " 210314.0,\n",
       " 227040.12,\n",
       " 217534.02,\n",
       " 183972.0,\n",
       " 215906.1,\n",
       " 207334.06,\n",
       " 220710.06,\n",
       " 196966.04,\n",
       " 219712.08,\n",
       " 184414.02,\n",
       " 227752.02,\n",
       " 190670.02,\n",
       " 224726.04,\n",
       " 208416.06,\n",
       " 202800.0,\n",
       " 198222.08,\n",
       " 234912.14,\n",
       " 236146.08,\n",
       " 224076.06,\n",
       " 235646.08,\n",
       " 203416.02,\n",
       " 210962.02,\n",
       " 212502.06,\n",
       " 207484.02,\n",
       " 189258.02,\n",
       " 201064.06,\n",
       " 182552.06,\n",
       " 192420.04,\n",
       " 224694.08,\n",
       " 218110.04,\n",
       " 196718.06,\n",
       " 195604.02,\n",
       " 181704.04,\n",
       " 242746.04,\n",
       " 223848.08,\n",
       " 191380.02,\n",
       " 193278.0,\n",
       " 196100.04,\n",
       " 211250.02,\n",
       " 210802.02,\n",
       " 200976.06,\n",
       " 226010.02,\n",
       " 210756.06,\n",
       " 225420.08,\n",
       " 203302.0,\n",
       " 207436.04,\n",
       " 203792.06,\n",
       " 202778.08,\n",
       " 225358.08,\n",
       " 217046.08,\n",
       " 190168.02,\n",
       " 205478.02,\n",
       " 196008.0,\n",
       " 186850.02,\n",
       " 186658.02,\n",
       " 187176.02,\n",
       " 247328.12,\n",
       " 206142.04,\n",
       " 198460.06,\n",
       " 214584.06,\n",
       " 210576.08,\n",
       " 208198.04,\n",
       " 203048.06,\n",
       " 234172.04,\n",
       " 199184.04,\n",
       " 194492.0,\n",
       " 206370.04,\n",
       " 213820.04,\n",
       " 214792.06,\n",
       " 203236.0,\n",
       " 203174.06,\n",
       " 203956.04,\n",
       " 227914.1,\n",
       " 222764.08,\n",
       " 222918.1,\n",
       " 224188.08,\n",
       " 221296.06,\n",
       " 191572.0,\n",
       " 178022.04,\n",
       " 185758.04,\n",
       " 226160.02,\n",
       " 216080.04,\n",
       " 191428.04,\n",
       " 177864.02,\n",
       " 210758.04,\n",
       " 208686.04,\n",
       " 201560.04,\n",
       " 182202.02,\n",
       " 208802.08,\n",
       " 196424.04,\n",
       " 199892.04,\n",
       " 197940.02,\n",
       " 206748.02,\n",
       " 198878.04,\n",
       " 197784.04,\n",
       " 182712.02,\n",
       " 181400.02,\n",
       " 192586.04,\n",
       " 212480.04,\n",
       " 209040.08,\n",
       " 225458.06,\n",
       " 208888.08,\n",
       " 214834.06,\n",
       " 181950.0,\n",
       " 205386.06,\n",
       " 199882.04,\n",
       " 207452.06,\n",
       " 201840.0,\n",
       " 181208.04,\n",
       " 220556.02,\n",
       " 220200.02,\n",
       " 226502.06,\n",
       " 175740.08,\n",
       " 209050.04,\n",
       " 232770.1,\n",
       " 174804.02,\n",
       " 203500.04,\n",
       " 201782.04,\n",
       " 238250.08,\n",
       " 217310.08,\n",
       " 202564.02,\n",
       " 207992.04,\n",
       " 202488.04,\n",
       " 187864.02,\n",
       " 236946.08,\n",
       " 178282.0,\n",
       " 202894.04,\n",
       " 230304.1,\n",
       " 198770.0,\n",
       " 213078.08,\n",
       " 199182.02,\n",
       " 208498.08,\n",
       " 215478.1,\n",
       " 206888.06,\n",
       " 232538.12,\n",
       " 211532.1,\n",
       " 216786.02,\n",
       " 202314.04,\n",
       " 211478.02,\n",
       " 226516.06,\n",
       " 199936.04,\n",
       " 214046.04,\n",
       " 248808.14,\n",
       " 212048.04,\n",
       " 200426.08,\n",
       " 196408.02,\n",
       " 203036.02,\n",
       " 208056.1,\n",
       " 204568.02,\n",
       " 211028.04,\n",
       " 181194.04,\n",
       " 181134.02,\n",
       " 175196.02,\n",
       " 212758.06,\n",
       " 230410.06,\n",
       " 188088.04,\n",
       " 197962.04,\n",
       " 182982.0,\n",
       " 190286.04,\n",
       " 195636.04,\n",
       " 182926.02,\n",
       " 191626.04,\n",
       " 208678.02,\n",
       " 183760.04,\n",
       " 203286.1,\n",
       " 175004.02,\n",
       " 216114.08,\n",
       " 212420.06,\n",
       " 201424.0,\n",
       " 197628.02,\n",
       " 202418.08,\n",
       " 177014.02,\n",
       " 206406.08,\n",
       " 211342.08,\n",
       " 221190.04,\n",
       " 203714.04,\n",
       " 229658.06,\n",
       " 189044.02,\n",
       " 235490.12,\n",
       " 225682.04,\n",
       " 220552.06,\n",
       " 186858.02,\n",
       " 229580.06,\n",
       " 194622.04,\n",
       " 170762.02,\n",
       " 213836.04,\n",
       " 227016.1,\n",
       " 203584.04,\n",
       " 207012.04,\n",
       " 199398.04,\n",
       " 186788.06,\n",
       " 204114.04,\n",
       " 216286.04,\n",
       " 202392.06,\n",
       " 195182.02,\n",
       " 217460.08,\n",
       " 223520.08,\n",
       " 185642.02,\n",
       " 221768.1,\n",
       " 226654.02,\n",
       " 224212.1,\n",
       " 218504.08,\n",
       " 238590.12,\n",
       " 185660.0,\n",
       " 179175.98,\n",
       " 185276.02,\n",
       " 204652.04,\n",
       " 205820.02,\n",
       " 222070.02,\n",
       " 175688.02,\n",
       " 220822.02,\n",
       " 205836.04,\n",
       " 213790.02,\n",
       " 159152.0,\n",
       " 206124.04,\n",
       " 182836.04,\n",
       " 223158.08,\n",
       " 214916.06,\n",
       " 213950.06,\n",
       " 204326.02,\n",
       " 185984.04,\n",
       " 189152.06,\n",
       " 190888.04,\n",
       " 213672.08,\n",
       " 187892.02,\n",
       " 217484.06,\n",
       " 219132.06,\n",
       " 181248.0,\n",
       " 206152.04,\n",
       " 244868.12,\n",
       " 204038.02,\n",
       " 241880.1,\n",
       " 229110.06,\n",
       " 183398.04,\n",
       " 220066.04,\n",
       " 195540.02,\n",
       " 211126.1,\n",
       " 183822.0,\n",
       " 223712.12,\n",
       " 180802.0,\n",
       " 186844.06,\n",
       " 180128.02,\n",
       " 224068.04,\n",
       " 211112.04,\n",
       " 237880.04,\n",
       " 194852.04,\n",
       " 180094.0,\n",
       " 191994.02,\n",
       " 204646.0,\n",
       " 209136.1,\n",
       " 208306.04,\n",
       " 214414.04,\n",
       " 197782.06,\n",
       " 207882.02,\n",
       " 206466.04,\n",
       " 234798.06,\n",
       " 229174.04,\n",
       " 218238.06,\n",
       " 185372.06,\n",
       " 196550.06,\n",
       " 179168.04,\n",
       " 198404.04,\n",
       " 219644.04,\n",
       " 194654.02,\n",
       " 207548.1,\n",
       " 217282.1,\n",
       " 203476.02,\n",
       " 217318.06,\n",
       " 177934.0,\n",
       " 213268.04,\n",
       " 202728.02,\n",
       " 236818.06,\n",
       " 223122.1,\n",
       " 232092.06,\n",
       " 200176.04,\n",
       " 229356.1,\n",
       " 211340.08,\n",
       " 213156.08,\n",
       " 190888.0,\n",
       " 227352.08,\n",
       " 209548.04,\n",
       " 222478.06,\n",
       " 236926.12,\n",
       " 207988.02,\n",
       " 192328.04,\n",
       " 214684.1,\n",
       " 198804.04,\n",
       " 226610.08,\n",
       " 193234.02,\n",
       " 199158.02,\n",
       " 219976.0,\n",
       " 175326.04,\n",
       " 238540.06,\n",
       " 239722.06,\n",
       " 215944.04,\n",
       " 205110.0,\n",
       " 219500.08,\n",
       " 198804.04,\n",
       " 204382.02,\n",
       " 225492.02,\n",
       " 198004.08,\n",
       " 221792.08,\n",
       " 219712.02,\n",
       " 209884.06,\n",
       " 213380.06,\n",
       " 181464.04,\n",
       " 244254.06,\n",
       " 195160.04,\n",
       " 218870.02,\n",
       " 238342.08,\n",
       " 200992.0,\n",
       " 224796.04,\n",
       " 218282.04,\n",
       " 186828.02,\n",
       " 209330.0,\n",
       " 200734.04,\n",
       " 214624.06,\n",
       " 247852.1,\n",
       " 194494.02,\n",
       " 199104.06,\n",
       " 191258.02,\n",
       " 219168.04,\n",
       " 195408.06,\n",
       " 207756.06,\n",
       " 207886.02,\n",
       " 213112.04,\n",
       " 195490.04,\n",
       " 213596.08,\n",
       " 192372.04,\n",
       " 221904.08,\n",
       " 207338.04,\n",
       " 197562.04,\n",
       " 202372.02,\n",
       " 229726.04,\n",
       " 174218.0,\n",
       " 244308.1,\n",
       " 229566.08,\n",
       " 200520.02,\n",
       " 205494.08,\n",
       " 189916.02,\n",
       " 202754.02,\n",
       " 179628.04,\n",
       " 239840.12,\n",
       " 222256.06,\n",
       " 222580.08,\n",
       " 203662.06,\n",
       " 196090.02,\n",
       " 196054.02,\n",
       " 211182.04,\n",
       " 201894.04,\n",
       " 186998.0,\n",
       " 190256.04,\n",
       " 220584.06,\n",
       " 195596.08,\n",
       " 218262.06,\n",
       " 214924.08,\n",
       " 197810.04,\n",
       " 199762.02,\n",
       " 226394.08,\n",
       " 227820.1,\n",
       " 199620.06,\n",
       " 175950.02,\n",
       " 193430.04,\n",
       " 179612.02,\n",
       " 207758.04,\n",
       " 202532.04,\n",
       " 205974.08,\n",
       " 238746.1,\n",
       " 205672.06,\n",
       " 226236.12,\n",
       " 209122.06,\n",
       " 206926.06,\n",
       " 233214.16,\n",
       " 194106.06,\n",
       " 217818.06,\n",
       " 204994.04,\n",
       " 206852.08,\n",
       " 230992.06,\n",
       " 191548.0,\n",
       " 231464.08,\n",
       " 215900.08,\n",
       " 225098.02,\n",
       " 152714.0,\n",
       " 205522.06,\n",
       " 200294.02,\n",
       " 195416.04,\n",
       " 260328.1,\n",
       " 197656.02,\n",
       " 230966.1,\n",
       " 196196.02,\n",
       " 218142.06,\n",
       " 182978.04,\n",
       " 208780.04,\n",
       " 226024.06,\n",
       " 203970.1,\n",
       " 220454.02,\n",
       " 217290.06,\n",
       " 190578.04,\n",
       " 185752.04,\n",
       " 195632.08,\n",
       " 205358.06,\n",
       " 227584.06,\n",
       " 225132.08]"
      ]
     },
     "execution_count": 19,
     "metadata": {},
     "output_type": "execute_result"
    }
   ],
   "source": [
    "house_prices = []\n",
    "for _ in range(1000):\n",
    "    mean_price = housing_data.median_house_value.sample(50, replace=True).mean()\n",
    "    house_prices.append(mean_price)\n",
    "\n",
    "house_prices"
   ]
  },
  {
   "cell_type": "code",
   "execution_count": 20,
   "metadata": {},
   "outputs": [
    {
     "data": {
      "text/plain": [
       "<matplotlib.axes._subplots.AxesSubplot at 0x1a1a506b70>"
      ]
     },
     "execution_count": 20,
     "metadata": {},
     "output_type": "execute_result"
    },
    {
     "data": {
      "image/png": "[encoded data removed]",
      "text/plain": [
       "<Figure size 432x432 with 1 Axes>"
      ]
     },
     "metadata": {
      "needs_background": "light"
     },
     "output_type": "display_data"
    }
   ],
   "source": [
    "plt.rcParams[\"figure.figsize\"] = (6, 6)\n",
    "sns.distplot(house_prices, kde=False)"
   ]
  },
  {
   "cell_type": "code",
   "execution_count": 21,
   "metadata": {},
   "outputs": [
    {
     "data": {
      "text/plain": [
       "206600.96298"
      ]
     },
     "execution_count": 21,
     "metadata": {},
     "output_type": "execute_result"
    }
   ],
   "source": [
    "np.mean(house_prices)"
   ]
  },
  {
   "cell_type": "code",
   "execution_count": 22,
   "metadata": {},
   "outputs": [
    {
     "name": "stdout",
     "output_type": "stream",
     "text": [
      "90% CI lower: 179608.11999999997\n",
      "90% CI upper: 234196.83899999998\n"
     ]
    }
   ],
   "source": [
    "# 90% confidence interval\n",
    "ci_min = np.percentile(house_prices, 5)\n",
    "ci_max = np.percentile(house_prices, 95)\n",
    "\n",
    "print('90% CI lower:', ci_min)\n",
    "print('90% CI upper:', ci_max)"
   ]
  },
  {
   "cell_type": "markdown",
   "metadata": {},
   "source": [
    "## A/B Test - Hypothesis Testing 1"
   ]
  },
  {
   "cell_type": "code",
   "execution_count": 23,
   "metadata": {},
   "outputs": [
    {
     "data": {
      "text/html": [
       "<div>\n",
       "<style scoped>\n",
       "    .dataframe tbody tr th:only-of-type {\n",
       "        vertical-align: middle;\n",
       "    }\n",
       "\n",
       "    .dataframe tbody tr th {\n",
       "        vertical-align: top;\n",
       "    }\n",
       "\n",
       "    .dataframe thead th {\n",
       "        text-align: right;\n",
       "    }\n",
       "</style>\n",
       "<table border=\"1\" class=\"dataframe\">\n",
       "  <thead>\n",
       "    <tr style=\"text-align: right;\">\n",
       "      <th></th>\n",
       "      <th>Page</th>\n",
       "      <th>Time</th>\n",
       "    </tr>\n",
       "  </thead>\n",
       "  <tbody>\n",
       "    <tr>\n",
       "      <th>0</th>\n",
       "      <td>Page A</td>\n",
       "      <td>0.21</td>\n",
       "    </tr>\n",
       "    <tr>\n",
       "      <th>1</th>\n",
       "      <td>Page B</td>\n",
       "      <td>2.53</td>\n",
       "    </tr>\n",
       "    <tr>\n",
       "      <th>2</th>\n",
       "      <td>Page A</td>\n",
       "      <td>0.35</td>\n",
       "    </tr>\n",
       "    <tr>\n",
       "      <th>3</th>\n",
       "      <td>Page B</td>\n",
       "      <td>0.71</td>\n",
       "    </tr>\n",
       "    <tr>\n",
       "      <th>4</th>\n",
       "      <td>Page A</td>\n",
       "      <td>0.67</td>\n",
       "    </tr>\n",
       "  </tbody>\n",
       "</table>\n",
       "</div>"
      ],
      "text/plain": [
       "     Page  Time\n",
       "0  Page A  0.21\n",
       "1  Page B  2.53\n",
       "2  Page A  0.35\n",
       "3  Page B  0.71\n",
       "4  Page A  0.67"
      ]
     },
     "execution_count": 23,
     "metadata": {},
     "output_type": "execute_result"
    }
   ],
   "source": [
    "import pandas as pd\n",
    "import seaborn as sns\n",
    "import numpy as np\n",
    "\n",
    "web_page_data = pd.read_csv('web_page_data.csv')\n",
    "web_page_data.head()"
   ]
  },
  {
   "cell_type": "code",
   "execution_count": 24,
   "metadata": {},
   "outputs": [
    {
     "data": {
      "text/plain": [
       "<matplotlib.axes._subplots.AxesSubplot at 0x1a1aa91c50>"
      ]
     },
     "execution_count": 24,
     "metadata": {},
     "output_type": "execute_result"
    },
    {
     "data": {
      "image/png": "[encoded data removed]",
      "text/plain": [
       "<Figure size 432x432 with 1 Axes>"
      ]
     },
     "metadata": {
      "needs_background": "light"
     },
     "output_type": "display_data"
    }
   ],
   "source": [
    "sns.boxplot(x='Page', y='Time', data=web_page_data)"
   ]
  },
  {
   "cell_type": "code",
   "execution_count": 25,
   "metadata": {},
   "outputs": [
    {
     "data": {
      "text/plain": [
       "1.263333333333333"
      ]
     },
     "metadata": {},
     "output_type": "display_data"
    },
    {
     "data": {
      "text/plain": [
       "1.62"
      ]
     },
     "metadata": {},
     "output_type": "display_data"
    }
   ],
   "source": [
    "mean_a = web_page_data[web_page_data['Page'] == 'Page A']['Time'].mean()\n",
    "mean_b = web_page_data[web_page_data['Page'] == 'Page B']['Time'].mean()\n",
    "\n",
    "display(mean_a)\n",
    "display(mean_b)"
   ]
  },
  {
   "cell_type": "code",
   "execution_count": 47,
   "metadata": {},
   "outputs": [
    {
     "data": {
      "text/plain": [
       "21.400000000000027"
      ]
     },
     "execution_count": 47,
     "metadata": {},
     "output_type": "execute_result"
    }
   ],
   "source": [
    "(mean_b - mean_a) * 60"
   ]
  },
  {
   "cell_type": "code",
   "execution_count": 37,
   "metadata": {},
   "outputs": [],
   "source": [
    "random_generator = np.random.RandomState(42)\n",
    "\n",
    "# Permutation means (difference between mean_a and mean_b)\n",
    "pm = []\n",
    "\n",
    "# group A's size\n",
    "len_a = len(web_page_data[web_page_data['Page'] == 'Page A'])\n",
    "# 전체 인덱스 크기\n",
    "total_indice = np.arange(len(web_page_data))\n",
    "\n",
    "for _ in range(1000):\n",
    "    # 인덱스를 복사\n",
    "    copy_indice = total_indice.copy()\n",
    "    # 그룹에 할당할 데이터를 랜덤하게 추출하기 위해서 섞는다.\n",
    "    random_generator.shuffle(copy_indice)\n",
    "    perm_a = web_page_data.iloc[copy_indice[:len_a]]\n",
    "    perm_b = web_page_data.iloc[copy_indice[len_a:]]\n",
    "    \n",
    "    pm.append((perm_b['Time'].mean() - perm_a['Time'].mean()) * 60)"
   ]
  },
  {
   "cell_type": "code",
   "execution_count": 44,
   "metadata": {},
   "outputs": [
    {
     "data": {
      "text/plain": [
       "<matplotlib.axes._subplots.AxesSubplot at 0x1a1ac5f630>"
      ]
     },
     "execution_count": 44,
     "metadata": {},
     "output_type": "execute_result"
    },
    {
     "data": {
      "image/png": "[encoded data removed]",
      "text/plain": [
       "<Figure size 432x432 with 1 Axes>"
      ]
     },
     "metadata": {
      "needs_background": "light"
     },
     "output_type": "display_data"
    }
   ],
   "source": [
    "sns.distplot(pm, kde=False)"
   ]
  },
  {
   "cell_type": "markdown",
   "metadata": {},
   "source": [
    "We see that 21.4 is a relatively common value when permutation is conducted, therefore, we can conclude that it happened to a mere chance"
   ]
  },
  {
   "cell_type": "markdown",
   "metadata": {},
   "source": [
    "## A/B Test - Hypothesis Testing 2"
   ]
  },
  {
   "cell_type": "code",
   "execution_count": 48,
   "metadata": {},
   "outputs": [
    {
     "data": {
      "text/html": [
       "<div>\n",
       "<style scoped>\n",
       "    .dataframe tbody tr th:only-of-type {\n",
       "        vertical-align: middle;\n",
       "    }\n",
       "\n",
       "    .dataframe tbody tr th {\n",
       "        vertical-align: top;\n",
       "    }\n",
       "\n",
       "    .dataframe thead th {\n",
       "        text-align: right;\n",
       "    }\n",
       "</style>\n",
       "<table border=\"1\" class=\"dataframe\">\n",
       "  <thead>\n",
       "    <tr style=\"text-align: right;\">\n",
       "      <th></th>\n",
       "      <th>Age</th>\n",
       "      <th>Sex</th>\n",
       "      <th>Job</th>\n",
       "      <th>Housing</th>\n",
       "      <th>Saving accounts</th>\n",
       "      <th>Checking account</th>\n",
       "      <th>Credit amount</th>\n",
       "      <th>Duration</th>\n",
       "      <th>Purpose</th>\n",
       "      <th>Risk</th>\n",
       "    </tr>\n",
       "  </thead>\n",
       "  <tbody>\n",
       "    <tr>\n",
       "      <th>0</th>\n",
       "      <td>67</td>\n",
       "      <td>male</td>\n",
       "      <td>2</td>\n",
       "      <td>own</td>\n",
       "      <td>NaN</td>\n",
       "      <td>little</td>\n",
       "      <td>1169</td>\n",
       "      <td>6</td>\n",
       "      <td>radio/TV</td>\n",
       "      <td>0</td>\n",
       "    </tr>\n",
       "    <tr>\n",
       "      <th>1</th>\n",
       "      <td>22</td>\n",
       "      <td>female</td>\n",
       "      <td>2</td>\n",
       "      <td>own</td>\n",
       "      <td>little</td>\n",
       "      <td>moderate</td>\n",
       "      <td>5951</td>\n",
       "      <td>48</td>\n",
       "      <td>radio/TV</td>\n",
       "      <td>1</td>\n",
       "    </tr>\n",
       "    <tr>\n",
       "      <th>2</th>\n",
       "      <td>49</td>\n",
       "      <td>male</td>\n",
       "      <td>1</td>\n",
       "      <td>own</td>\n",
       "      <td>little</td>\n",
       "      <td>NaN</td>\n",
       "      <td>2096</td>\n",
       "      <td>12</td>\n",
       "      <td>education</td>\n",
       "      <td>0</td>\n",
       "    </tr>\n",
       "    <tr>\n",
       "      <th>3</th>\n",
       "      <td>45</td>\n",
       "      <td>male</td>\n",
       "      <td>2</td>\n",
       "      <td>free</td>\n",
       "      <td>little</td>\n",
       "      <td>little</td>\n",
       "      <td>7882</td>\n",
       "      <td>42</td>\n",
       "      <td>furniture/equipment</td>\n",
       "      <td>0</td>\n",
       "    </tr>\n",
       "    <tr>\n",
       "      <th>4</th>\n",
       "      <td>53</td>\n",
       "      <td>male</td>\n",
       "      <td>2</td>\n",
       "      <td>free</td>\n",
       "      <td>little</td>\n",
       "      <td>little</td>\n",
       "      <td>4870</td>\n",
       "      <td>24</td>\n",
       "      <td>car</td>\n",
       "      <td>1</td>\n",
       "    </tr>\n",
       "  </tbody>\n",
       "</table>\n",
       "</div>"
      ],
      "text/plain": [
       "   Age     Sex  Job Housing Saving accounts Checking account  Credit amount  \\\n",
       "0   67    male    2     own             NaN           little           1169   \n",
       "1   22  female    2     own          little         moderate           5951   \n",
       "2   49    male    1     own          little              NaN           2096   \n",
       "3   45    male    2    free          little           little           7882   \n",
       "4   53    male    2    free          little           little           4870   \n",
       "\n",
       "   Duration              Purpose  Risk  \n",
       "0         6             radio/TV     0  \n",
       "1        48             radio/TV     1  \n",
       "2        12            education     0  \n",
       "3        42  furniture/equipment     0  \n",
       "4        24                  car     1  "
      ]
     },
     "execution_count": 48,
     "metadata": {},
     "output_type": "execute_result"
    }
   ],
   "source": [
    "german_dataset.head()"
   ]
  },
  {
   "cell_type": "code",
   "execution_count": 49,
   "metadata": {},
   "outputs": [
    {
     "name": "stdout",
     "output_type": "stream",
     "text": [
      "부채 현황 of Good: 2985.457142857143\n",
      "부채 현황 of bad: 3938.1266666666666\n"
     ]
    }
   ],
   "source": [
    "mean_good = german_dataset[german_dataset['Risk'] == 0]['Credit amount'].mean()\n",
    "mean_bad = german_dataset[german_dataset['Risk'] == 1]['Credit amount'].mean()\n",
    "\n",
    "print('부채 현황 of Good:', mean_good)\n",
    "print('부채 현황 of bad:', mean_bad)"
   ]
  },
  {
   "cell_type": "code",
   "execution_count": 62,
   "metadata": {},
   "outputs": [
    {
     "name": "stdout",
     "output_type": "stream",
     "text": [
      "700\n",
      "300\n"
     ]
    }
   ],
   "source": [
    "print(len(german_dataset[german_dataset['Risk'] == 0]))\n",
    "print(len(german_dataset[german_dataset['Risk'] == 1]))"
   ]
  },
  {
   "cell_type": "markdown",
   "metadata": {},
   "source": [
    "## p-value"
   ]
  },
  {
   "cell_type": "code",
   "execution_count": 79,
   "metadata": {},
   "outputs": [
    {
     "data": {
      "text/html": [
       "<div>\n",
       "<style scoped>\n",
       "    .dataframe tbody tr th:only-of-type {\n",
       "        vertical-align: middle;\n",
       "    }\n",
       "\n",
       "    .dataframe tbody tr th {\n",
       "        vertical-align: top;\n",
       "    }\n",
       "\n",
       "    .dataframe thead th {\n",
       "        text-align: right;\n",
       "    }\n",
       "</style>\n",
       "<table border=\"1\" class=\"dataframe\">\n",
       "  <thead>\n",
       "    <tr style=\"text-align: right;\">\n",
       "      <th></th>\n",
       "      <th>Price A</th>\n",
       "      <th>Price B</th>\n",
       "    </tr>\n",
       "  </thead>\n",
       "  <tbody>\n",
       "    <tr>\n",
       "      <th>Conversion</th>\n",
       "      <td>200</td>\n",
       "      <td>182</td>\n",
       "    </tr>\n",
       "    <tr>\n",
       "      <th>No conversion</th>\n",
       "      <td>23539</td>\n",
       "      <td>22406</td>\n",
       "    </tr>\n",
       "  </tbody>\n",
       "</table>\n",
       "</div>"
      ],
      "text/plain": [
       "               Price A  Price B\n",
       "Conversion         200      182\n",
       "No conversion    23539    22406"
      ]
     },
     "execution_count": 79,
     "metadata": {},
     "output_type": "execute_result"
    }
   ],
   "source": [
    "pd.DataFrame([[200, 182], [23539, 22406]], columns=['Price A', 'Price B'], index=['Conversion', 'No conversion'])"
   ]
  },
  {
   "cell_type": "code",
   "execution_count": 85,
   "metadata": {},
   "outputs": [
    {
     "data": {
      "text/plain": [
       "0.8424954715868402"
      ]
     },
     "execution_count": 85,
     "metadata": {},
     "output_type": "execute_result"
    }
   ],
   "source": [
    "#conversion proportion of Price A\n",
    "priceA = 200 / (200 + 23539) * 100\n",
    "priceA"
   ]
  },
  {
   "cell_type": "code",
   "execution_count": 86,
   "metadata": {},
   "outputs": [
    {
     "data": {
      "text/plain": [
       "0.8057375597662475"
      ]
     },
     "execution_count": 86,
     "metadata": {},
     "output_type": "execute_result"
    }
   ],
   "source": [
    "#conversion proportion of Price B\n",
    "priceB = 182 / (182 + 22406) * 100\n",
    "priceB"
   ]
  },
  {
   "cell_type": "code",
   "execution_count": 88,
   "metadata": {},
   "outputs": [
    {
     "data": {
      "text/plain": [
       "0.03675791182059274"
      ]
     },
     "execution_count": 88,
     "metadata": {},
     "output_type": "execute_result"
    }
   ],
   "source": [
    "priceA - priceB"
   ]
  },
  {
   "cell_type": "code",
   "execution_count": 64,
   "metadata": {},
   "outputs": [
    {
     "data": {
      "text/plain": [
       "array([1., 1., 1., ..., 0., 0., 0.])"
      ]
     },
     "execution_count": 64,
     "metadata": {},
     "output_type": "execute_result"
    }
   ],
   "source": [
    "bowl = np.concatenate([np.ones(382), np.zeros(45945)])\n",
    "bowl"
   ]
  },
  {
   "cell_type": "code",
   "execution_count": 89,
   "metadata": {},
   "outputs": [],
   "source": [
    "perm_means = []\n",
    "for _ in range(1000):\n",
    "    bowl_copy = bowl.copy()\n",
    "    random_generator.shuffle(bowl_copy)\n",
    "    \n",
    "    perm_a = bowl_copy[:23739]\n",
    "    perm_b = bowl_copy[23739:]\n",
    "    \n",
    "    conversion_a = sum(perm_a) / len(perm_a) * 100\n",
    "    conversion_b = sum(perm_b) / len(perm_b) * 100\n",
    "    \n",
    "    perm_means.append(conversion_a - conversion_b)"
   ]
  },
  {
   "cell_type": "markdown",
   "metadata": {},
   "source": [
    "Is 0.0368% difference significant?"
   ]
  },
  {
   "cell_type": "code",
   "execution_count": 66,
   "metadata": {},
   "outputs": [
    {
     "data": {
      "text/plain": [
       "<matplotlib.axes._subplots.AxesSubplot at 0x1a1b7d9a20>"
      ]
     },
     "execution_count": 66,
     "metadata": {},
     "output_type": "execute_result"
    },
    {
     "data": {
      "image/png": "[encoded data removed]",
      "text/plain": [
       "<Figure size 432x432 with 1 Axes>"
      ]
     },
     "metadata": {
      "needs_background": "light"
     },
     "output_type": "display_data"
    }
   ],
   "source": [
    "sns.distplot(perm_means, kde=False)"
   ]
  },
  {
   "cell_type": "markdown",
   "metadata": {},
   "source": [
    "where is 0.0368? It is very common value given the distribution above"
   ]
  },
  {
   "cell_type": "code",
   "execution_count": 90,
   "metadata": {},
   "outputs": [],
   "source": [
    "perm_means = np.array(perm_means)"
   ]
  },
  {
   "cell_type": "code",
   "execution_count": 91,
   "metadata": {},
   "outputs": [
    {
     "data": {
      "text/plain": [
       "0.305"
      ]
     },
     "execution_count": 91,
     "metadata": {},
     "output_type": "execute_result"
    }
   ],
   "source": [
    "sum(perm_means > 0.0368) / len(perm_means)"
   ]
  },
  {
   "cell_type": "code",
   "execution_count": 92,
   "metadata": {},
   "outputs": [
    {
     "data": {
      "text/plain": [
       "0.33094407441560325"
      ]
     },
     "execution_count": 92,
     "metadata": {},
     "output_type": "execute_result"
    }
   ],
   "source": [
    "from statsmodels.stats.proportion import proportions_ztest\n",
    "\n",
    "count = np.array([200, 182])\n",
    "nobs = np.array([23739, 22588])\n",
    "\n",
    "stat, pval = proportions_ztest(count, nobs, alternative='larger')\n",
    "pval"
   ]
  },
  {
   "cell_type": "markdown",
   "metadata": {},
   "source": [
    "## t-Test"
   ]
  },
  {
   "cell_type": "code",
   "execution_count": 93,
   "metadata": {},
   "outputs": [
    {
     "data": {
      "text/plain": [
       "Ttest_indResult(statistic=-1.1237042154424823, pvalue=0.26901024363926024)"
      ]
     },
     "execution_count": 93,
     "metadata": {},
     "output_type": "execute_result"
    }
   ],
   "source": [
    "rvs1 = web_page_data[web_page_data['Page'] == 'Page A']['Time'].values\n",
    "rvs2 = web_page_data[web_page_data['Page'] == 'Page B']['Time'].values\n",
    "\n",
    "from scipy import stats\n",
    "stats.ttest_ind(rvs1, rvs2) #이것은 two-tail"
   ]
  },
  {
   "cell_type": "code",
   "execution_count": 96,
   "metadata": {},
   "outputs": [
    {
     "data": {
      "text/html": [
       "<div>\n",
       "<style scoped>\n",
       "    .dataframe tbody tr th:only-of-type {\n",
       "        vertical-align: middle;\n",
       "    }\n",
       "\n",
       "    .dataframe tbody tr th {\n",
       "        vertical-align: top;\n",
       "    }\n",
       "\n",
       "    .dataframe thead th {\n",
       "        text-align: right;\n",
       "    }\n",
       "</style>\n",
       "<table border=\"1\" class=\"dataframe\">\n",
       "  <thead>\n",
       "    <tr style=\"text-align: right;\">\n",
       "      <th></th>\n",
       "      <th>Page</th>\n",
       "      <th>Time</th>\n",
       "    </tr>\n",
       "  </thead>\n",
       "  <tbody>\n",
       "    <tr>\n",
       "      <th>0</th>\n",
       "      <td>Page 1</td>\n",
       "      <td>164</td>\n",
       "    </tr>\n",
       "    <tr>\n",
       "      <th>1</th>\n",
       "      <td>Page 2</td>\n",
       "      <td>178</td>\n",
       "    </tr>\n",
       "    <tr>\n",
       "      <th>2</th>\n",
       "      <td>Page 3</td>\n",
       "      <td>175</td>\n",
       "    </tr>\n",
       "    <tr>\n",
       "      <th>3</th>\n",
       "      <td>Page 4</td>\n",
       "      <td>155</td>\n",
       "    </tr>\n",
       "    <tr>\n",
       "      <th>4</th>\n",
       "      <td>Page 1</td>\n",
       "      <td>172</td>\n",
       "    </tr>\n",
       "  </tbody>\n",
       "</table>\n",
       "</div>"
      ],
      "text/plain": [
       "     Page  Time\n",
       "0  Page 1   164\n",
       "1  Page 2   178\n",
       "2  Page 3   175\n",
       "3  Page 4   155\n",
       "4  Page 1   172"
      ]
     },
     "execution_count": 96,
     "metadata": {},
     "output_type": "execute_result"
    }
   ],
   "source": [
    "web_stickiness = pd.read_csv('four_sessions.csv')\n",
    "web_stickiness.head()"
   ]
  },
  {
   "cell_type": "code",
   "execution_count": 98,
   "metadata": {},
   "outputs": [
    {
     "data": {
      "text/plain": [
       "<matplotlib.axes._subplots.AxesSubplot at 0x1a1c44feb8>"
      ]
     },
     "execution_count": 98,
     "metadata": {},
     "output_type": "execute_result"
    },
    {
     "data": {
      "image/png": "[encoded data removed]",
      "text/plain": [
       "<Figure size 432x432 with 1 Axes>"
      ]
     },
     "metadata": {
      "needs_background": "light"
     },
     "output_type": "display_data"
    }
   ],
   "source": [
    "sns.boxplot(x='Page', y='Time', data=web_stickiness)"
   ]
  },
  {
   "cell_type": "code",
   "execution_count": 99,
   "metadata": {},
   "outputs": [
    {
     "data": {
      "text/html": [
       "<div>\n",
       "<style scoped>\n",
       "    .dataframe tbody tr th:only-of-type {\n",
       "        vertical-align: middle;\n",
       "    }\n",
       "\n",
       "    .dataframe tbody tr th {\n",
       "        vertical-align: top;\n",
       "    }\n",
       "\n",
       "    .dataframe thead th {\n",
       "        text-align: right;\n",
       "    }\n",
       "</style>\n",
       "<table border=\"1\" class=\"dataframe\">\n",
       "  <thead>\n",
       "    <tr style=\"text-align: right;\">\n",
       "      <th></th>\n",
       "      <th>Time</th>\n",
       "    </tr>\n",
       "    <tr>\n",
       "      <th>Page</th>\n",
       "      <th></th>\n",
       "    </tr>\n",
       "  </thead>\n",
       "  <tbody>\n",
       "    <tr>\n",
       "      <th>Page 1</th>\n",
       "      <td>172.8</td>\n",
       "    </tr>\n",
       "    <tr>\n",
       "      <th>Page 2</th>\n",
       "      <td>182.6</td>\n",
       "    </tr>\n",
       "    <tr>\n",
       "      <th>Page 3</th>\n",
       "      <td>175.6</td>\n",
       "    </tr>\n",
       "    <tr>\n",
       "      <th>Page 4</th>\n",
       "      <td>164.6</td>\n",
       "    </tr>\n",
       "  </tbody>\n",
       "</table>\n",
       "</div>"
      ],
      "text/plain": [
       "         Time\n",
       "Page         \n",
       "Page 1  172.8\n",
       "Page 2  182.6\n",
       "Page 3  175.6\n",
       "Page 4  164.6"
      ]
     },
     "execution_count": 99,
     "metadata": {},
     "output_type": "execute_result"
    }
   ],
   "source": [
    "means = web_stickiness.groupby(['Page']).agg({'Time': np.mean})\n",
    "means"
   ]
  },
  {
   "cell_type": "code",
   "execution_count": 100,
   "metadata": {},
   "outputs": [
    {
     "data": {
      "text/plain": [
       "55.426666666666655"
      ]
     },
     "execution_count": 100,
     "metadata": {},
     "output_type": "execute_result"
    }
   ],
   "source": [
    "var = means['Time'].var()\n",
    "var"
   ]
  },
  {
   "cell_type": "code",
   "execution_count": 101,
   "metadata": {},
   "outputs": [
    {
     "data": {
      "text/plain": [
       "array([164, 178, 175, 155, 172, 191, 193, 166, 177, 182, 171, 164, 156,\n",
       "       185, 163, 170, 195, 177, 176, 168])"
      ]
     },
     "execution_count": 101,
     "metadata": {},
     "output_type": "execute_result"
    }
   ],
   "source": [
    "# web_stickiness_values = web_stickiness['Time'].values\n",
    "web_stickiness['Time'].values"
   ]
  },
  {
   "cell_type": "code",
   "execution_count": 102,
   "metadata": {},
   "outputs": [],
   "source": [
    "perm_means = []\n",
    "perm_vars = []\n",
    "\n",
    "# 1. 시간을 한 상자에 모은다.\n",
    "web_stickiness_values = web_stickiness['Time'].values\n",
    "\n",
    "for _ in range(1000):    \n",
    "    web_stickiness_values_copy = web_stickiness_values.copy()\n",
    "    random_generator.shuffle(web_stickiness_values_copy)\n",
    "    \n",
    "    # 각 페이지당 5명의 방문자가 있다.\n",
    "    page_a = web_stickiness_values_copy[:5]\n",
    "    page_b = web_stickiness_values_copy[5:10]\n",
    "    page_c = web_stickiness_values_copy[10:15]\n",
    "    page_d = web_stickiness_values_copy[15:]\n",
    "    \n",
    "    # 각 페이지의 평균들을 모은후에 분산을 구하고 저장한다.\n",
    "    # 전체집단(20개)에서 sampling을 했다. anova permutaion test를 적용하기 위해서는 자유도가 n-1이다.\n",
    "    perm_vars.append(np.var([page_a.mean(), page_b.mean(), page_c.mean(), page_d.mean()], ddof=1))"
   ]
  },
  {
   "cell_type": "code",
   "execution_count": 104,
   "metadata": {},
   "outputs": [
    {
     "data": {
      "text/plain": [
       "<matplotlib.axes._subplots.AxesSubplot at 0x1a1c11ada0>"
      ]
     },
     "execution_count": 104,
     "metadata": {},
     "output_type": "execute_result"
    },
    {
     "data": {
      "image/png": "[encoded data removed]",
      "text/plain": [
       "<Figure size 432x432 with 1 Axes>"
      ]
     },
     "metadata": {
      "needs_background": "light"
     },
     "output_type": "display_data"
    }
   ],
   "source": [
    "sns.distplot(perm_vars, kde=False)"
   ]
  },
  {
   "cell_type": "code",
   "execution_count": 117,
   "metadata": {},
   "outputs": [
    {
     "name": "stdout",
     "output_type": "stream",
     "text": [
      "관찰된 변동:  55.426666666666655\n"
     ]
    },
    {
     "data": {
      "text/plain": [
       "0.071"
      ]
     },
     "execution_count": 117,
     "metadata": {},
     "output_type": "execute_result"
    }
   ],
   "source": [
    "# p value를 구하자.\n",
    "print('관찰된 변동: ', var)\n",
    "\n",
    "perm_vars = np.array(perm_vars)\n",
    "sum(perm_vars > var) / len(perm_vars)"
   ]
  },
  {
   "cell_type": "code",
   "execution_count": 118,
   "metadata": {},
   "outputs": [],
   "source": [
    "page_a_time = web_stickiness[web_stickiness['Page'] == 'Page 1']['Time'].values\n",
    "page_b_time = web_stickiness[web_stickiness['Page'] == 'Page 2']['Time'].values\n",
    "page_c_time = web_stickiness[web_stickiness['Page'] == 'Page 3']['Time'].values\n",
    "page_d_time = web_stickiness[web_stickiness['Page'] == 'Page 4']['Time'].values"
   ]
  },
  {
   "cell_type": "code",
   "execution_count": 119,
   "metadata": {},
   "outputs": [
    {
     "data": {
      "text/plain": [
       "F_onewayResult(statistic=2.739825341901467, pvalue=0.0775862152580146)"
      ]
     },
     "execution_count": 119,
     "metadata": {},
     "output_type": "execute_result"
    }
   ],
   "source": [
    "stats.f_oneway(page_a_time, page_b_time, page_c_time, page_d_time)"
   ]
  },
  {
   "cell_type": "code",
   "execution_count": 120,
   "metadata": {},
   "outputs": [
    {
     "data": {
      "text/html": [
       "<div>\n",
       "<style scoped>\n",
       "    .dataframe tbody tr th:only-of-type {\n",
       "        vertical-align: middle;\n",
       "    }\n",
       "\n",
       "    .dataframe tbody tr th {\n",
       "        vertical-align: top;\n",
       "    }\n",
       "\n",
       "    .dataframe thead th {\n",
       "        text-align: right;\n",
       "    }\n",
       "</style>\n",
       "<table border=\"1\" class=\"dataframe\">\n",
       "  <thead>\n",
       "    <tr style=\"text-align: right;\">\n",
       "      <th></th>\n",
       "      <th>df</th>\n",
       "      <th>sum_sq</th>\n",
       "      <th>mean_sq</th>\n",
       "      <th>F</th>\n",
       "      <th>PR(&gt;F)</th>\n",
       "    </tr>\n",
       "  </thead>\n",
       "  <tbody>\n",
       "    <tr>\n",
       "      <th>Page</th>\n",
       "      <td>3.0</td>\n",
       "      <td>831.4</td>\n",
       "      <td>277.133333</td>\n",
       "      <td>2.739825</td>\n",
       "      <td>0.077586</td>\n",
       "    </tr>\n",
       "    <tr>\n",
       "      <th>Residual</th>\n",
       "      <td>16.0</td>\n",
       "      <td>1618.4</td>\n",
       "      <td>101.150000</td>\n",
       "      <td>NaN</td>\n",
       "      <td>NaN</td>\n",
       "    </tr>\n",
       "  </tbody>\n",
       "</table>\n",
       "</div>"
      ],
      "text/plain": [
       "            df  sum_sq     mean_sq         F    PR(>F)\n",
       "Page       3.0   831.4  277.133333  2.739825  0.077586\n",
       "Residual  16.0  1618.4  101.150000       NaN       NaN"
      ]
     },
     "execution_count": 120,
     "metadata": {},
     "output_type": "execute_result"
    }
   ],
   "source": [
    "from statsmodels.formula.api import ols\n",
    "from statsmodels.stats.anova import anova_lm\n",
    "\n",
    "model = ols('Time ~ Page', web_stickiness).fit()\n",
    "anova_lm(model)"
   ]
  },
  {
   "cell_type": "code",
   "execution_count": 121,
   "metadata": {},
   "outputs": [
    {
     "data": {
      "text/html": [
       "<div>\n",
       "<style scoped>\n",
       "    .dataframe tbody tr th:only-of-type {\n",
       "        vertical-align: middle;\n",
       "    }\n",
       "\n",
       "    .dataframe tbody tr th {\n",
       "        vertical-align: top;\n",
       "    }\n",
       "\n",
       "    .dataframe thead th {\n",
       "        text-align: right;\n",
       "    }\n",
       "</style>\n",
       "<table border=\"1\" class=\"dataframe\">\n",
       "  <thead>\n",
       "    <tr style=\"text-align: right;\">\n",
       "      <th></th>\n",
       "      <th>Headline</th>\n",
       "      <th>Click</th>\n",
       "      <th>Rate</th>\n",
       "    </tr>\n",
       "  </thead>\n",
       "  <tbody>\n",
       "    <tr>\n",
       "      <th>0</th>\n",
       "      <td>Headline A</td>\n",
       "      <td>Click</td>\n",
       "      <td>14</td>\n",
       "    </tr>\n",
       "    <tr>\n",
       "      <th>1</th>\n",
       "      <td>Headline A</td>\n",
       "      <td>No-click</td>\n",
       "      <td>986</td>\n",
       "    </tr>\n",
       "    <tr>\n",
       "      <th>2</th>\n",
       "      <td>Headline B</td>\n",
       "      <td>Click</td>\n",
       "      <td>8</td>\n",
       "    </tr>\n",
       "    <tr>\n",
       "      <th>3</th>\n",
       "      <td>Headline B</td>\n",
       "      <td>No-click</td>\n",
       "      <td>992</td>\n",
       "    </tr>\n",
       "    <tr>\n",
       "      <th>4</th>\n",
       "      <td>Headline C</td>\n",
       "      <td>Click</td>\n",
       "      <td>12</td>\n",
       "    </tr>\n",
       "    <tr>\n",
       "      <th>5</th>\n",
       "      <td>Headline C</td>\n",
       "      <td>No-click</td>\n",
       "      <td>988</td>\n",
       "    </tr>\n",
       "  </tbody>\n",
       "</table>\n",
       "</div>"
      ],
      "text/plain": [
       "     Headline     Click  Rate\n",
       "0  Headline A     Click    14\n",
       "1  Headline A  No-click   986\n",
       "2  Headline B     Click     8\n",
       "3  Headline B  No-click   992\n",
       "4  Headline C     Click    12\n",
       "5  Headline C  No-click   988"
      ]
     },
     "execution_count": 121,
     "metadata": {},
     "output_type": "execute_result"
    }
   ],
   "source": [
    "headline = pd.read_csv('click_rates.csv')\n",
    "headline"
   ]
  },
  {
   "cell_type": "code",
   "execution_count": 122,
   "metadata": {},
   "outputs": [
    {
     "data": {
      "text/html": [
       "<div>\n",
       "<style scoped>\n",
       "    .dataframe tbody tr th:only-of-type {\n",
       "        vertical-align: middle;\n",
       "    }\n",
       "\n",
       "    .dataframe tbody tr th {\n",
       "        vertical-align: top;\n",
       "    }\n",
       "\n",
       "    .dataframe thead th {\n",
       "        text-align: right;\n",
       "    }\n",
       "</style>\n",
       "<table border=\"1\" class=\"dataframe\">\n",
       "  <thead>\n",
       "    <tr style=\"text-align: right;\">\n",
       "      <th></th>\n",
       "      <th>Click</th>\n",
       "      <th>Rate</th>\n",
       "    </tr>\n",
       "  </thead>\n",
       "  <tbody>\n",
       "    <tr>\n",
       "      <th>0</th>\n",
       "      <td>Click</td>\n",
       "      <td>11.333333</td>\n",
       "    </tr>\n",
       "    <tr>\n",
       "      <th>1</th>\n",
       "      <td>No-click</td>\n",
       "      <td>988.666667</td>\n",
       "    </tr>\n",
       "  </tbody>\n",
       "</table>\n",
       "</div>"
      ],
      "text/plain": [
       "      Click        Rate\n",
       "0     Click   11.333333\n",
       "1  No-click  988.666667"
      ]
     },
     "execution_count": 122,
     "metadata": {},
     "output_type": "execute_result"
    }
   ],
   "source": [
    "# 클릭과 no클릭의 평균값\n",
    "headline_means = headline.groupby(['Click']).agg({'Rate': np.mean})\n",
    "headline_means = headline_means.reset_index()\n",
    "headline_means"
   ]
  },
  {
   "cell_type": "code",
   "execution_count": 123,
   "metadata": {},
   "outputs": [
    {
     "data": {
      "text/html": [
       "<div>\n",
       "<style scoped>\n",
       "    .dataframe tbody tr th:only-of-type {\n",
       "        vertical-align: middle;\n",
       "    }\n",
       "\n",
       "    .dataframe tbody tr th {\n",
       "        vertical-align: top;\n",
       "    }\n",
       "\n",
       "    .dataframe thead th {\n",
       "        text-align: right;\n",
       "    }\n",
       "</style>\n",
       "<table border=\"1\" class=\"dataframe\">\n",
       "  <thead>\n",
       "    <tr style=\"text-align: right;\">\n",
       "      <th></th>\n",
       "      <th>Click</th>\n",
       "      <th>Mean</th>\n",
       "    </tr>\n",
       "  </thead>\n",
       "  <tbody>\n",
       "    <tr>\n",
       "      <th>0</th>\n",
       "      <td>Click</td>\n",
       "      <td>11.333333</td>\n",
       "    </tr>\n",
       "    <tr>\n",
       "      <th>1</th>\n",
       "      <td>No-click</td>\n",
       "      <td>988.666667</td>\n",
       "    </tr>\n",
       "  </tbody>\n",
       "</table>\n",
       "</div>"
      ],
      "text/plain": [
       "      Click        Mean\n",
       "0     Click   11.333333\n",
       "1  No-click  988.666667"
      ]
     },
     "execution_count": 123,
     "metadata": {},
     "output_type": "execute_result"
    }
   ],
   "source": [
    "# 컬럼 이름 Rename\n",
    "headline_means = headline_means.rename(columns={'Rate':'Mean'})\n",
    "headline_means"
   ]
  },
  {
   "cell_type": "code",
   "execution_count": 124,
   "metadata": {},
   "outputs": [
    {
     "data": {
      "text/html": [
       "<div>\n",
       "<style scoped>\n",
       "    .dataframe tbody tr th:only-of-type {\n",
       "        vertical-align: middle;\n",
       "    }\n",
       "\n",
       "    .dataframe tbody tr th {\n",
       "        vertical-align: top;\n",
       "    }\n",
       "\n",
       "    .dataframe thead th {\n",
       "        text-align: right;\n",
       "    }\n",
       "</style>\n",
       "<table border=\"1\" class=\"dataframe\">\n",
       "  <thead>\n",
       "    <tr style=\"text-align: right;\">\n",
       "      <th></th>\n",
       "      <th>Headline</th>\n",
       "      <th>Click</th>\n",
       "      <th>Rate</th>\n",
       "      <th>Mean</th>\n",
       "    </tr>\n",
       "  </thead>\n",
       "  <tbody>\n",
       "    <tr>\n",
       "      <th>0</th>\n",
       "      <td>Headline A</td>\n",
       "      <td>Click</td>\n",
       "      <td>14</td>\n",
       "      <td>11.333333</td>\n",
       "    </tr>\n",
       "    <tr>\n",
       "      <th>1</th>\n",
       "      <td>Headline B</td>\n",
       "      <td>Click</td>\n",
       "      <td>8</td>\n",
       "      <td>11.333333</td>\n",
       "    </tr>\n",
       "    <tr>\n",
       "      <th>2</th>\n",
       "      <td>Headline C</td>\n",
       "      <td>Click</td>\n",
       "      <td>12</td>\n",
       "      <td>11.333333</td>\n",
       "    </tr>\n",
       "    <tr>\n",
       "      <th>3</th>\n",
       "      <td>Headline A</td>\n",
       "      <td>No-click</td>\n",
       "      <td>986</td>\n",
       "      <td>988.666667</td>\n",
       "    </tr>\n",
       "    <tr>\n",
       "      <th>4</th>\n",
       "      <td>Headline B</td>\n",
       "      <td>No-click</td>\n",
       "      <td>992</td>\n",
       "      <td>988.666667</td>\n",
       "    </tr>\n",
       "    <tr>\n",
       "      <th>5</th>\n",
       "      <td>Headline C</td>\n",
       "      <td>No-click</td>\n",
       "      <td>988</td>\n",
       "      <td>988.666667</td>\n",
       "    </tr>\n",
       "  </tbody>\n",
       "</table>\n",
       "</div>"
      ],
      "text/plain": [
       "     Headline     Click  Rate        Mean\n",
       "0  Headline A     Click    14   11.333333\n",
       "1  Headline B     Click     8   11.333333\n",
       "2  Headline C     Click    12   11.333333\n",
       "3  Headline A  No-click   986  988.666667\n",
       "4  Headline B  No-click   992  988.666667\n",
       "5  Headline C  No-click   988  988.666667"
      ]
     },
     "execution_count": 124,
     "metadata": {},
     "output_type": "execute_result"
    }
   ],
   "source": [
    "merge_headline = headline.merge(headline_means, left_on='Click', right_on='Click')\n",
    "merge_headline"
   ]
  },
  {
   "cell_type": "code",
   "execution_count": 125,
   "metadata": {},
   "outputs": [
    {
     "data": {
      "text/html": [
       "<div>\n",
       "<style scoped>\n",
       "    .dataframe tbody tr th:only-of-type {\n",
       "        vertical-align: middle;\n",
       "    }\n",
       "\n",
       "    .dataframe tbody tr th {\n",
       "        vertical-align: top;\n",
       "    }\n",
       "\n",
       "    .dataframe thead th {\n",
       "        text-align: right;\n",
       "    }\n",
       "</style>\n",
       "<table border=\"1\" class=\"dataframe\">\n",
       "  <thead>\n",
       "    <tr style=\"text-align: right;\">\n",
       "      <th></th>\n",
       "      <th>Headline</th>\n",
       "      <th>Click</th>\n",
       "      <th>Rate</th>\n",
       "      <th>Mean</th>\n",
       "      <th>R</th>\n",
       "    </tr>\n",
       "  </thead>\n",
       "  <tbody>\n",
       "    <tr>\n",
       "      <th>0</th>\n",
       "      <td>Headline A</td>\n",
       "      <td>Click</td>\n",
       "      <td>14</td>\n",
       "      <td>11.333333</td>\n",
       "      <td>0.792118</td>\n",
       "    </tr>\n",
       "    <tr>\n",
       "      <th>1</th>\n",
       "      <td>Headline B</td>\n",
       "      <td>Click</td>\n",
       "      <td>8</td>\n",
       "      <td>11.333333</td>\n",
       "      <td>-0.990148</td>\n",
       "    </tr>\n",
       "    <tr>\n",
       "      <th>2</th>\n",
       "      <td>Headline C</td>\n",
       "      <td>Click</td>\n",
       "      <td>12</td>\n",
       "      <td>11.333333</td>\n",
       "      <td>0.198030</td>\n",
       "    </tr>\n",
       "    <tr>\n",
       "      <th>3</th>\n",
       "      <td>Headline A</td>\n",
       "      <td>No-click</td>\n",
       "      <td>986</td>\n",
       "      <td>988.666667</td>\n",
       "      <td>-0.084809</td>\n",
       "    </tr>\n",
       "    <tr>\n",
       "      <th>4</th>\n",
       "      <td>Headline B</td>\n",
       "      <td>No-click</td>\n",
       "      <td>992</td>\n",
       "      <td>988.666667</td>\n",
       "      <td>0.106012</td>\n",
       "    </tr>\n",
       "    <tr>\n",
       "      <th>5</th>\n",
       "      <td>Headline C</td>\n",
       "      <td>No-click</td>\n",
       "      <td>988</td>\n",
       "      <td>988.666667</td>\n",
       "      <td>-0.021202</td>\n",
       "    </tr>\n",
       "  </tbody>\n",
       "</table>\n",
       "</div>"
      ],
      "text/plain": [
       "     Headline     Click  Rate        Mean         R\n",
       "0  Headline A     Click    14   11.333333  0.792118\n",
       "1  Headline B     Click     8   11.333333 -0.990148\n",
       "2  Headline C     Click    12   11.333333  0.198030\n",
       "3  Headline A  No-click   986  988.666667 -0.084809\n",
       "4  Headline B  No-click   992  988.666667  0.106012\n",
       "5  Headline C  No-click   988  988.666667 -0.021202"
      ]
     },
     "execution_count": 125,
     "metadata": {},
     "output_type": "execute_result"
    }
   ],
   "source": [
    "merge_headline['R'] = (merge_headline['Rate'] - merge_headline['Mean']) / np.sqrt(merge_headline['Mean'])\n",
    "merge_headline"
   ]
  },
  {
   "cell_type": "code",
   "execution_count": 126,
   "metadata": {},
   "outputs": [
    {
     "data": {
      "text/plain": [
       "1.6659394708658917"
      ]
     },
     "execution_count": 126,
     "metadata": {},
     "output_type": "execute_result"
    }
   ],
   "source": [
    "ob_chi = sum(merge_headline['R'] ** 2)\n",
    "ob_chi"
   ]
  },
  {
   "cell_type": "code",
   "execution_count": 127,
   "metadata": {},
   "outputs": [],
   "source": [
    "from collections import Counter\n",
    "\n",
    "perm_chis = []\n",
    "random_generator = np.random.RandomState(42)\n",
    "\n",
    "# 1. 시간을 한 상자에 모은다.\n",
    "clicks_rate = np.concatenate([np.ones(34), np.zeros(2966)])\n",
    "\n",
    "for _ in range(2000):    \n",
    "    clicks_rate_copy = clicks_rate.copy()\n",
    "    random_generator.shuffle(clicks_rate_copy)\n",
    "    \n",
    "    # 2. 각 헤드라인을 무작위 추출하여 할당한다.\n",
    "    headline_a = clicks_rate_copy[:1000]\n",
    "    headline_b = clicks_rate_copy[1000:2000]\n",
    "    headline_c = clicks_rate_copy[2000:]\n",
    "    \n",
    "    # 3. 각 헤드라인 별로 click과 no click을 구한다.\n",
    "    \"\"\"\n",
    "    no_click_a = Counter(headline_a).most_common()[0][1]\n",
    "    click_a = Counter(headline_a).most_common()[1][1]\n",
    "    이렇게 짜는 것이 더 편하다. 이해가 어렵다면 아래의 코드로 짜자.\n",
    "    \"\"\"\n",
    "    click_a = sum(headline_a)\n",
    "    no_click_a = len(headline_a) - click_a\n",
    "    click_b = sum(headline_b)\n",
    "    no_click_b = len(headline_b) - click_b\n",
    "    click_c = sum(headline_c)\n",
    "    no_click_c = len(headline_c) - click_c\n",
    "    \n",
    "    # 4. Click, no-click의 기대값, 그리고 피어스만 residual를 구한다.\n",
    "    clicks = np.array([click_a, click_b, click_c])\n",
    "    no_clicks = np.array([no_click_a, no_click_b, no_click_c])\n",
    "    clicks_mean = clicks.mean()\n",
    "    no_clicks_mean = no_clicks.mean()\n",
    "    click_res = (clicks - clicks_mean) / np.sqrt(clicks_mean)\n",
    "    no_click_res = (no_clicks - no_clicks_mean) / np.sqrt(no_clicks_mean)\n",
    "    \n",
    "    # 5. Permutation의 카이제곱통계량을 구한다.\n",
    "    chi = sum(click_res ** 2 + no_click_res ** 2)\n",
    "    \n",
    "    # 각 페이지의 평균들을 모은후에 분산을 구하고 저장한다.\n",
    "    # 전체집단(20개)에서 sampling을 했다. anova permutaion test를 적용하기 위해서는 자유도가 n-1이다.\n",
    "    perm_chis.append(chi)"
   ]
  },
  {
   "cell_type": "code",
   "execution_count": 128,
   "metadata": {},
   "outputs": [
    {
     "data": {
      "text/plain": [
       "<matplotlib.axes._subplots.AxesSubplot at 0x1a1cba19b0>"
      ]
     },
     "execution_count": 128,
     "metadata": {},
     "output_type": "execute_result"
    },
    {
     "data": {
      "image/png": "[encoded data removed]",
      "text/plain": [
       "<Figure size 432x432 with 1 Axes>"
      ]
     },
     "metadata": {
      "needs_background": "light"
     },
     "output_type": "display_data"
    }
   ],
   "source": [
    "sns.distplot(perm_chis, kde=False)"
   ]
  },
  {
   "cell_type": "code",
   "execution_count": 129,
   "metadata": {},
   "outputs": [
    {
     "data": {
      "text/plain": [
       "0.41"
      ]
     },
     "execution_count": 129,
     "metadata": {},
     "output_type": "execute_result"
    }
   ],
   "source": [
    "sum(np.array(perm_chis) > ob_chi) / len(perm_chis)"
   ]
  }
 ],
 "metadata": {
  "kernelspec": {
   "display_name": "Python 3",
   "language": "python",
   "name": "python3"
  },
  "language_info": {
   "codemirror_mode": {
    "name": "ipython",
    "version": 3
   },
   "file_extension": ".py",
   "mimetype": "text/x-python",
   "name": "python",
   "nbconvert_exporter": "python",
   "pygments_lexer": "ipython3",
   "version": "3.7.1"
  }
 },
 "nbformat": 4,
 "nbformat_minor": 2
}
