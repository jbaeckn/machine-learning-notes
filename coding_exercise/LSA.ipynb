{
 "cells": [
  {
   "cell_type": "markdown",
   "metadata": {},
   "source": [
    "# Latent Semantic Analysis\n",
    "\n",
    "You are given the following documents and queries\n",
    "\n",
    "* $d1$ : Romeo and Juliet.\n",
    "* $d2$ : Juliet: O happy dagger!\n",
    "* $d3$ : Romeo died by dagger.\n",
    "* $d4$ : \"Live free or die\", that's the motto of New-Hampshire\n",
    "* $d5$ : Did you know, New-Hampshire is in New-England\n",
    "\n",
    "* Query : dies and dagger"
   ]
  },
  {
   "cell_type": "code",
   "execution_count": 51,
   "metadata": {},
   "outputs": [],
   "source": [
    "import numpy as np\n",
    "import warnings\n",
    "warnings.filterwarnings('ignore')"
   ]
  },
  {
   "cell_type": "code",
   "execution_count": 2,
   "metadata": {},
   "outputs": [],
   "source": [
    "# You need an ordered dictionary in order to convert each documents to matrix\n",
    "from collections import OrderedDict\n",
    "\n",
    "# Corpus (단어 전체 셋)을 생성\n",
    "corpus = OrderedDict(\n",
    "    {'romeo': 0, 'juliet': 1, 'happy': 2, 'dagger': 3, 'live': 4, 'die': 5, 'free': 6, 'new-hampshire': 7}\n",
    ")"
   ]
  },
  {
   "cell_type": "code",
   "execution_count": 3,
   "metadata": {},
   "outputs": [
    {
     "data": {
      "text/plain": [
       "['Romeo and Juliet.',\n",
       " 'Juliet: O happy dagger!',\n",
       " 'Romeo die by dagger.',\n",
       " \"'Live free or die', that's the motto of New-Hampshire\",\n",
       " 'Did you know, New-Hampshire is in New-England']"
      ]
     },
     "metadata": {},
     "output_type": "display_data"
    }
   ],
   "source": [
    "d1 = 'Romeo and Juliet.'\n",
    "d2 = 'Juliet: O happy dagger!'\n",
    "d3 = 'Romeo die by dagger.' #you technically need to use died, but just use present tense this case\n",
    "d4 = \"'Live free or die', that's the motto of New-Hampshire\"\n",
    "d5 = 'Did you know, New-Hampshire is in New-England'\n",
    "\n",
    "docs = [d1, d2, d3, d4, d5]\n",
    "\n",
    "display(docs)"
   ]
  },
  {
   "cell_type": "markdown",
   "metadata": {},
   "source": [
    "## 1. Create Document-Word Matrix"
   ]
  },
  {
   "cell_type": "markdown",
   "metadata": {},
   "source": [
    "### 1.1 Preprocessing (you can also use Konlpy for Python)"
   ]
  },
  {
   "cell_type": "code",
   "execution_count": 6,
   "metadata": {},
   "outputs": [],
   "source": [
    "# create a function\n",
    "import re\n",
    "\n",
    "def parse_document(doc):\n",
    "    tokens = doc.split(' ') #split by empty space\n",
    "    tokens = map(str.lower, tokens) #lowercase every word\n",
    "    tokens = list(tokens) #list the words\n",
    "    tokens = [re.sub(r'[^a-zA-Z0-9-]', '', token) for token in tokens] #use regex to only include words\n",
    "    \n",
    "    return tokens"
   ]
  },
  {
   "cell_type": "code",
   "execution_count": 7,
   "metadata": {},
   "outputs": [
    {
     "name": "stdout",
     "output_type": "stream",
     "text": [
      "['romeo', 'and', 'juliet']\n",
      "['juliet', 'o', 'happy', 'dagger']\n",
      "['romeo', 'die', 'by', 'dagger']\n",
      "['live', 'free', 'or', 'die', 'thats', 'the', 'motto', 'of', 'new-hampshire']\n",
      "['did', 'you', 'know', 'new-hampshire', 'is', 'in', 'new-england']\n"
     ]
    }
   ],
   "source": [
    "# Technically, you need to convert past-tense to present-tense and abbreviated words such as that's to that is,\n",
    "# but that is part of NLP preprocessing. For this case, we will ignore these\n",
    "\n",
    "d1_tokens = parse_document(d1)\n",
    "d2_tokens = parse_document(d2)\n",
    "d3_tokens = parse_document(d3)\n",
    "d4_tokens = parse_document(d4)\n",
    "d5_tokens = parse_document(d5)\n",
    "\n",
    "print(d1_tokens)\n",
    "print(d2_tokens)\n",
    "print(d3_tokens)\n",
    "print(d4_tokens)\n",
    "print(d5_tokens)"
   ]
  },
  {
   "cell_type": "markdown",
   "metadata": {},
   "source": [
    "### 1.2 Create Document Vectors"
   ]
  },
  {
   "cell_type": "code",
   "execution_count": 8,
   "metadata": {},
   "outputs": [
    {
     "name": "stdout",
     "output_type": "stream",
     "text": [
      "romeo 0\n",
      "juliet 1\n",
      "happy 2\n",
      "dagger 3\n",
      "live 4\n",
      "die 5\n",
      "free 6\n",
      "new-hampshire 7\n"
     ]
    }
   ],
   "source": [
    "#double check elements in corpus\n",
    "for v, i in corpus.items():\n",
    "    print(v, i)"
   ]
  },
  {
   "cell_type": "markdown",
   "metadata": {},
   "source": [
    "The document vector's length is equal to that of the corpus<br>\n",
    "* The first sentence, \"Romeo and Juliet\",\n",
    "* Will become romeo, juliet tokens,\n",
    "* Corresponding to romeo, juliet, happy(x), dagger(x), live(x), die(x), free(x), new-hampshire(x)\n",
    "* Which in turn, is, [1, 1, 0, 0, 0, 0, 0]"
   ]
  },
  {
   "cell_type": "code",
   "execution_count": 9,
   "metadata": {},
   "outputs": [],
   "source": [
    "# create a document vector converter function\n",
    "def get_doc_vector(tokens):\n",
    "    doc_vec = [1 if v in tokens else 0 for v, i in corpus.items()]\n",
    "    return doc_vec"
   ]
  },
  {
   "cell_type": "code",
   "execution_count": 10,
   "metadata": {},
   "outputs": [
    {
     "name": "stdout",
     "output_type": "stream",
     "text": [
      "[1, 1, 0, 0, 0, 0, 0, 0]\n",
      "[0, 1, 1, 1, 0, 0, 0, 0]\n",
      "[1, 0, 0, 1, 0, 1, 0, 0]\n",
      "[0, 0, 0, 0, 1, 1, 1, 1]\n",
      "[0, 0, 0, 0, 0, 0, 0, 1]\n"
     ]
    }
   ],
   "source": [
    "d1_vec = get_doc_vector(d1_tokens)\n",
    "d2_vec = get_doc_vector(d2_tokens)\n",
    "d3_vec = get_doc_vector(d3_tokens)\n",
    "d4_vec = get_doc_vector(d4_tokens)\n",
    "d5_vec = get_doc_vector(d5_tokens)\n",
    "\n",
    "print(d1_vec)\n",
    "print(d2_vec)\n",
    "print(d3_vec)\n",
    "print(d4_vec)\n",
    "print(d5_vec)"
   ]
  },
  {
   "cell_type": "markdown",
   "metadata": {},
   "source": [
    "### 1.3 Create Document-word Matrix"
   ]
  },
  {
   "cell_type": "code",
   "execution_count": 44,
   "metadata": {},
   "outputs": [
    {
     "data": {
      "text/plain": [
       "array([[1, 1, 0, 0, 0, 0, 0, 0],\n",
       "       [0, 1, 1, 1, 0, 0, 0, 0],\n",
       "       [1, 0, 0, 1, 0, 1, 0, 0],\n",
       "       [0, 0, 0, 0, 1, 1, 1, 1],\n",
       "       [0, 0, 0, 0, 0, 0, 0, 1]])"
      ]
     },
     "execution_count": 44,
     "metadata": {},
     "output_type": "execute_result"
    }
   ],
   "source": [
    "# final matrix word-document matrix\n",
    "A = np.array([d1_vec, d2_vec, d3_vec, d4_vec, d5_vec])\n",
    "A"
   ]
  },
  {
   "cell_type": "markdown",
   "metadata": {},
   "source": [
    "## 2. Doc-Doc Matrix and Word-Word Matrix"
   ]
  },
  {
   "cell_type": "markdown",
   "metadata": {},
   "source": [
    "### 2-1. Doc-Doc Matrix $A A^{T}$ : B[$i$, $j$] = $b$ if document $i$ and $j$ share $b$ number of common words\n",
    "\n",
    "d1 = [1, 1, 0, 0, 0, 0, 0, 0]<br>\n",
    "d2 = [0, 1, 1, 1, 0, 0, 0, 0]<br>\n",
    "d3 = [1, 0, 0, 1, 0, 1, 0, 0]<br>\n",
    "d4 = [0, 0, 0, 0, 1, 1, 1, 1]<br>\n",
    "d5 = [0, 0, 0, 0, 0, 0, 0, 1]<br>"
   ]
  },
  {
   "cell_type": "code",
   "execution_count": 30,
   "metadata": {},
   "outputs": [
    {
     "data": {
      "text/plain": [
       "array([[1, 1, 0, 0, 0, 0, 0, 0],\n",
       "       [0, 1, 1, 1, 0, 0, 0, 0],\n",
       "       [1, 0, 0, 1, 0, 1, 0, 0],\n",
       "       [0, 0, 0, 0, 1, 1, 1, 1],\n",
       "       [0, 0, 0, 0, 0, 0, 0, 1]])"
      ]
     },
     "metadata": {},
     "output_type": "display_data"
    },
    {
     "data": {
      "text/plain": [
       "array([[1, 0, 1, 0, 0],\n",
       "       [1, 1, 0, 0, 0],\n",
       "       [0, 1, 0, 0, 0],\n",
       "       [0, 1, 1, 0, 0],\n",
       "       [0, 0, 0, 1, 0],\n",
       "       [0, 0, 1, 1, 0],\n",
       "       [0, 0, 0, 1, 0],\n",
       "       [0, 0, 0, 1, 1]])"
      ]
     },
     "metadata": {},
     "output_type": "display_data"
    },
    {
     "data": {
      "text/plain": [
       "array([[2, 1, 1, 0, 0],\n",
       "       [1, 3, 1, 0, 0],\n",
       "       [1, 1, 3, 1, 0],\n",
       "       [0, 0, 1, 4, 1],\n",
       "       [0, 0, 0, 1, 1]])"
      ]
     },
     "metadata": {},
     "output_type": "display_data"
    }
   ],
   "source": [
    "display(A) #each document in row\n",
    "display(A.T) #each document in column\n",
    "\n",
    "doc_mat = np.dot(A, A.T)\n",
    "display(doc_mat)"
   ]
  },
  {
   "cell_type": "markdown",
   "metadata": {},
   "source": [
    "### 2-2. Word-Word Matrix $A^{T} A$ : C[$i$, $j$] = $c$ if words $i$ and $j$ appeared in documents $b$ times together\n",
    "\n",
    "romeo  = [1, 0, 1, 0, 0]<br>\n",
    "juliet = [1, 1, 0, 0, 0]<br>\n",
    "happy  = [0, 1, 0, 0, 0]<br>\n",
    "dagger = [0, 1, 1, 0, 0]<br>\n",
    "live   = [0, 0, 0, 1, 0]<br>\n",
    "die    = [0, 0, 1, 1, 0]<br>\n",
    "free   = [0, 0, 0, 1, 0]<br>\n",
    "new-hampshire = [0, 0, 0, 1, 1]<br>"
   ]
  },
  {
   "cell_type": "code",
   "execution_count": 31,
   "metadata": {},
   "outputs": [
    {
     "data": {
      "text/plain": [
       "array([[2, 1, 0, 1, 0, 1, 0, 0],\n",
       "       [1, 2, 1, 1, 0, 0, 0, 0],\n",
       "       [0, 1, 1, 1, 0, 0, 0, 0],\n",
       "       [1, 1, 1, 2, 0, 1, 0, 0],\n",
       "       [0, 0, 0, 0, 1, 1, 1, 1],\n",
       "       [1, 0, 0, 1, 1, 2, 1, 1],\n",
       "       [0, 0, 0, 0, 1, 1, 1, 1],\n",
       "       [0, 0, 0, 0, 1, 1, 1, 2]])"
      ]
     },
     "execution_count": 31,
     "metadata": {},
     "output_type": "execute_result"
    }
   ],
   "source": [
    "word_mat = np.dot(A.T, A)\n",
    "word_mat"
   ]
  },
  {
   "cell_type": "markdown",
   "metadata": {},
   "source": [
    "## 3. SVD (Singular Value Decomposition)\n",
    "\n",
    "$A = U \\Sigma V^{T}$"
   ]
  },
  {
   "cell_type": "code",
   "execution_count": 32,
   "metadata": {},
   "outputs": [],
   "source": [
    "U, sig, V_T = np.linalg.svd(A)"
   ]
  },
  {
   "cell_type": "markdown",
   "metadata": {},
   "source": [
    "### 3.1 Columns in $U$ Are Eigenvectors of $A A^{T}$"
   ]
  },
  {
   "cell_type": "code",
   "execution_count": 45,
   "metadata": {},
   "outputs": [
    {
     "data": {
      "text/plain": [
       "array([[-0.31086574, -0.36293322,  0.11801342, -0.860986  , -0.12813236],\n",
       "       [-0.40733041, -0.54074246, -0.67670369,  0.2873596 , -0.03429449],\n",
       "       [-0.59446137, -0.20005441,  0.659179  ,  0.35817507,  0.20925479],\n",
       "       [-0.60304575,  0.6953914 , -0.1983751 , -0.05309476, -0.3325581 ],\n",
       "       [-0.1428143 ,  0.22866156, -0.23297063, -0.21217712,  0.90995798]])"
      ]
     },
     "metadata": {},
     "output_type": "display_data"
    },
    {
     "data": {
      "text/plain": [
       "array([2.28529793, 2.01025824, 1.36069931, 1.11814038, 0.79657684])"
      ]
     },
     "metadata": {},
     "output_type": "display_data"
    }
   ],
   "source": [
    "display(U)\n",
    "display(sig)"
   ]
  },
  {
   "cell_type": "markdown",
   "metadata": {},
   "source": [
    "Eigenvectors of $A A^{T}$"
   ]
  },
  {
   "cell_type": "code",
   "execution_count": 34,
   "metadata": {},
   "outputs": [
    {
     "data": {
      "text/plain": [
       "(array([5.22258663, 4.0411382 , 0.63453466, 1.25023791, 1.85150261]),\n",
       " array([[ 0.31086574,  0.36293322,  0.12813236, -0.860986  , -0.11801342],\n",
       "        [ 0.40733041,  0.54074246,  0.03429449,  0.2873596 ,  0.67670369],\n",
       "        [ 0.59446137,  0.20005441, -0.20925479,  0.35817507, -0.659179  ],\n",
       "        [ 0.60304575, -0.6953914 ,  0.3325581 , -0.05309476,  0.1983751 ],\n",
       "        [ 0.1428143 , -0.22866156, -0.90995798, -0.21217712,  0.23297063]]))"
      ]
     },
     "execution_count": 34,
     "metadata": {},
     "output_type": "execute_result"
    }
   ],
   "source": [
    "np.linalg.eig(np.dot(A, A.T))"
   ]
  },
  {
   "cell_type": "markdown",
   "metadata": {},
   "source": [
    "### 3.2 Columns in $V$ Are Eigenvectors of $A^{T} A$"
   ]
  },
  {
   "cell_type": "code",
   "execution_count": 35,
   "metadata": {},
   "outputs": [
    {
     "data": {
      "text/plain": [
       "array([[-3.96152775e-01, -2.80057367e-01,  5.71171321e-01,\n",
       "        -4.49684978e-01,  1.01838799e-01, -4.71994358e-01,\n",
       "         2.11026570e-02, -5.08178670e-02],\n",
       "       [-3.14268061e-01, -4.49532136e-01, -4.10590545e-01,\n",
       "        -5.13018237e-01, -2.03906072e-01,  4.71994358e-01,\n",
       "        -2.11026570e-02,  5.08178670e-02],\n",
       "       [-1.78239520e-01, -2.68991539e-01, -4.97320521e-01,\n",
       "         2.56997782e-01, -4.30523318e-02, -5.02561069e-01,\n",
       "        -2.51187008e-01, -5.14764626e-01],\n",
       "       [-4.38363755e-01, -3.68508309e-01, -1.28791752e-02,\n",
       "         5.77328823e-01,  2.19640207e-01,  3.05667112e-02,\n",
       "         2.72289665e-01,  4.63946759e-01],\n",
       "       [-2.63880584e-01,  3.45921426e-01, -1.45789077e-01,\n",
       "        -4.74848765e-02, -4.17484024e-01, -2.86490527e-01,\n",
       "        -4.58594760e-01,  5.66142429e-01],\n",
       "       [-5.24004819e-01,  2.46404656e-01,  3.38652269e-01,\n",
       "         2.72846164e-01, -1.54791485e-01,  4.41427647e-01,\n",
       "        -2.93392322e-01, -4.13128892e-01],\n",
       "       [-2.63880584e-01,  3.45921426e-01, -1.45789077e-01,\n",
       "        -4.74848765e-02, -4.17484024e-01, -1.54937120e-01,\n",
       "         7.51987082e-01, -1.53013538e-01],\n",
       "       [-3.26373224e-01,  4.59668780e-01, -3.17002971e-01,\n",
       "        -2.37243804e-01,  7.24851450e-01, -2.77555756e-17,\n",
       "        -2.77555756e-17, -5.55111512e-17]])"
      ]
     },
     "execution_count": 35,
     "metadata": {},
     "output_type": "execute_result"
    }
   ],
   "source": [
    "V_T.T"
   ]
  },
  {
   "cell_type": "markdown",
   "metadata": {},
   "source": [
    "Eigenvectors of $A^{T} A$"
   ]
  },
  {
   "cell_type": "code",
   "execution_count": 36,
   "metadata": {},
   "outputs": [
    {
     "data": {
      "text/plain": [
       "(array([ 5.22258663e+00,  4.04113820e+00,  1.21171661e-15,  1.85150261e+00,\n",
       "         1.25023791e+00,  6.34534659e-01, -1.39632110e-16, -5.23163536e-18]),\n",
       " array([[-3.96152775e-01, -2.80057367e-01, -4.75190963e-01,\n",
       "          5.71171321e-01,  4.49684978e-01,  1.01838799e-01,\n",
       "          2.26739496e-02,  2.58064032e-02],\n",
       "        [-3.14268061e-01, -4.49532136e-01,  4.75190963e-01,\n",
       "         -4.10590545e-01,  5.13018237e-01, -2.03906072e-01,\n",
       "         -2.26739496e-02, -2.58064032e-02],\n",
       "        [-1.78239520e-01, -2.68991539e-01, -5.43075387e-01,\n",
       "         -4.97320521e-01, -2.56997782e-01, -4.30523318e-02,\n",
       "         -5.07894041e-01, -3.29841060e-01],\n",
       "        [-4.38363755e-01, -3.68508309e-01,  6.78844233e-02,\n",
       "         -1.28791752e-02, -5.77328823e-01,  2.19640207e-01,\n",
       "          5.30567990e-01,  3.55647464e-01],\n",
       "        [-2.63880584e-01,  3.45921426e-01, -2.03653270e-01,\n",
       "         -1.45789077e-01,  4.74848765e-02, -4.17484024e-01,\n",
       "          2.90728934e-01, -3.31349324e-01],\n",
       "        [-5.24004819e-01,  2.46404656e-01,  4.07306540e-01,\n",
       "          3.38652269e-01, -2.72846164e-01, -1.54791485e-01,\n",
       "         -5.53241940e-01, -3.81453867e-01],\n",
       "        [-2.63880584e-01,  3.45921426e-01, -2.03653270e-01,\n",
       "         -1.45789077e-01,  4.74848765e-02, -4.17484024e-01,\n",
       "          2.62513006e-01,  7.12803191e-01],\n",
       "        [-3.26373224e-01,  4.59668780e-01,  3.31596446e-16,\n",
       "         -3.17002971e-01,  2.37243804e-01,  7.24851450e-01,\n",
       "          3.16819164e-16,  1.56612760e-16]]))"
      ]
     },
     "execution_count": 36,
     "metadata": {},
     "output_type": "execute_result"
    }
   ],
   "source": [
    "np.linalg.eig(np.dot(A.T, A))"
   ]
  },
  {
   "cell_type": "markdown",
   "metadata": {},
   "source": [
    "## 4. Creating Word Vector and Document Vector\n",
    "\n",
    "In creating Word Vector and Document Vector, selecting the number of **singular values** is important. In order to illustrate the vectors in 2-dimension, we will set $k = 2$\n",
    "1. $U$'s columns are $AA^{T}$'s eigenvectors\n",
    "2. $V$'s columns are $A^{T}A$'s eigenvectors"
   ]
  },
  {
   "cell_type": "markdown",
   "metadata": {},
   "source": [
    "### 4.1 Word Vectors"
   ]
  },
  {
   "cell_type": "code",
   "execution_count": 46,
   "metadata": {},
   "outputs": [
    {
     "name": "stdout",
     "output_type": "stream",
     "text": [
      "Eigen values\n"
     ]
    },
    {
     "data": {
      "text/plain": [
       "array([ 5.22258663e+00,  4.04113820e+00,  1.21171661e-15,  1.85150261e+00,\n",
       "        1.25023791e+00,  6.34534659e-01, -1.39632110e-16, -5.23163536e-18])"
      ]
     },
     "metadata": {},
     "output_type": "display_data"
    },
    {
     "name": "stdout",
     "output_type": "stream",
     "text": [
      "========================================\n",
      "Eigen vectors\n"
     ]
    },
    {
     "data": {
      "text/plain": [
       "array([[-3.96152775e-01, -2.80057367e-01, -4.75190963e-01,\n",
       "         5.71171321e-01,  4.49684978e-01,  1.01838799e-01,\n",
       "         2.26739496e-02,  2.58064032e-02],\n",
       "       [-3.14268061e-01, -4.49532136e-01,  4.75190963e-01,\n",
       "        -4.10590545e-01,  5.13018237e-01, -2.03906072e-01,\n",
       "        -2.26739496e-02, -2.58064032e-02],\n",
       "       [-1.78239520e-01, -2.68991539e-01, -5.43075387e-01,\n",
       "        -4.97320521e-01, -2.56997782e-01, -4.30523318e-02,\n",
       "        -5.07894041e-01, -3.29841060e-01],\n",
       "       [-4.38363755e-01, -3.68508309e-01,  6.78844233e-02,\n",
       "        -1.28791752e-02, -5.77328823e-01,  2.19640207e-01,\n",
       "         5.30567990e-01,  3.55647464e-01],\n",
       "       [-2.63880584e-01,  3.45921426e-01, -2.03653270e-01,\n",
       "        -1.45789077e-01,  4.74848765e-02, -4.17484024e-01,\n",
       "         2.90728934e-01, -3.31349324e-01],\n",
       "       [-5.24004819e-01,  2.46404656e-01,  4.07306540e-01,\n",
       "         3.38652269e-01, -2.72846164e-01, -1.54791485e-01,\n",
       "        -5.53241940e-01, -3.81453867e-01],\n",
       "       [-2.63880584e-01,  3.45921426e-01, -2.03653270e-01,\n",
       "        -1.45789077e-01,  4.74848765e-02, -4.17484024e-01,\n",
       "         2.62513006e-01,  7.12803191e-01],\n",
       "       [-3.26373224e-01,  4.59668780e-01,  3.31596446e-16,\n",
       "        -3.17002971e-01,  2.37243804e-01,  7.24851450e-01,\n",
       "         3.16819164e-16,  1.56612760e-16]])"
      ]
     },
     "metadata": {},
     "output_type": "display_data"
    }
   ],
   "source": [
    "word_eigen_val, word_eigen_vec = np.linalg.eig(np.dot(A.T, A))\n",
    "print(\"Eigen values\")\n",
    "display(word_eigen_val)\n",
    "print(\"========================================\")\n",
    "print(\"Eigen vectors\")\n",
    "display(word_eigen_vec)"
   ]
  },
  {
   "cell_type": "markdown",
   "metadata": {},
   "source": [
    "Since $A^{T}A$'s eigenvalues's square root are singular values"
   ]
  },
  {
   "cell_type": "code",
   "execution_count": 58,
   "metadata": {},
   "outputs": [
    {
     "name": "stdout",
     "output_type": "stream",
     "text": [
      "Squre root of A^T * T's eigenvalues\n",
      "[2.28529793e+00 2.01025824e+00 3.48097201e-08 1.36069931e+00\n",
      " 1.11814038e+00 7.96576838e-01            nan            nan]\n",
      "================================================\n",
      "Singular values of A\n",
      "[2.28529793 2.01025824 1.36069931 1.11814038 0.79657684]\n"
     ]
    }
   ],
   "source": [
    "print(\"Squre root of A^T * T's eigenvalues\")\n",
    "print(np.sqrt(word_eigen_val))\n",
    "print(\"================================================\")\n",
    "print(\"Singular values of A\")\n",
    "print(sig)"
   ]
  },
  {
   "cell_type": "markdown",
   "metadata": {},
   "source": [
    "word vector = $\\Sigma V^{T}$"
   ]
  },
  {
   "cell_type": "code",
   "execution_count": 60,
   "metadata": {},
   "outputs": [
    {
     "data": {
      "text/plain": [
       "array([[-0.90532712, -0.71819615, -0.40733041, -1.00179178, -0.60304575,\n",
       "        -1.19750713, -0.60304575, -0.74586005],\n",
       "       [-0.56298763, -0.90367568, -0.54074246, -0.74079687,  0.6953914 ,\n",
       "         0.49533699,  0.6953914 ,  0.92405295]])"
      ]
     },
     "execution_count": 60,
     "metadata": {},
     "output_type": "execute_result"
    }
   ],
   "source": [
    "word_vec = np.dot(np.diag(sig[:2]), word_eigen_vec[:, :2].T)\n",
    "word_vec"
   ]
  },
  {
   "cell_type": "code",
   "execution_count": 61,
   "metadata": {},
   "outputs": [
    {
     "data": {
      "text/plain": [
       "array([-0.90532712, -0.71819615, -0.40733041, -1.00179178, -0.60304575,\n",
       "       -1.19750713, -0.60304575, -0.74586005])"
      ]
     },
     "metadata": {},
     "output_type": "display_data"
    },
    {
     "data": {
      "text/plain": [
       "array([-0.56298763, -0.90367568, -0.54074246, -0.74079687,  0.6953914 ,\n",
       "        0.49533699,  0.6953914 ,  0.92405295])"
      ]
     },
     "metadata": {},
     "output_type": "display_data"
    }
   ],
   "source": [
    "w_x = word_vec[0]\n",
    "w_y = word_vec[1]\n",
    "display(w_x)\n",
    "display(w_y)"
   ]
  },
  {
   "cell_type": "code",
   "execution_count": 63,
   "metadata": {},
   "outputs": [
    {
     "data": {
      "image/png": "[encoded data removed]",
      "text/plain": [
       "<Figure size 576x576 with 1 Axes>"
      ]
     },
     "metadata": {
      "needs_background": "light"
     },
     "output_type": "display_data"
    }
   ],
   "source": [
    "import seaborn as sns\n",
    "import matplotlib.pyplot as plt\n",
    "import matplotlib as mpl\n",
    "\n",
    "words = corpus.keys()\n",
    "\n",
    "mpl.rcParams['figure.figsize'] = (8, 8)\n",
    "\n",
    "fig, ax = plt.subplots()\n",
    "\n",
    "# Scatter\n",
    "ax.scatter(w_x, w_y, s=100)\n",
    "\n",
    "# Scatter에 라벨링을 한다.\n",
    "for i, txt in enumerate(words):\n",
    "    ax.annotate(txt, (w_x[i], w_y[i]), fontsize=20)  # free와 live가 겹쳐지는 위치"
   ]
  },
  {
   "cell_type": "code",
   "execution_count": null,
   "metadata": {},
   "outputs": [],
   "source": []
  }
 ],
 "metadata": {
  "kernelspec": {
   "display_name": "Python 3",
   "language": "python",
   "name": "python3"
  },
  "language_info": {
   "codemirror_mode": {
    "name": "ipython",
    "version": 3
   },
   "file_extension": ".py",
   "mimetype": "text/x-python",
   "name": "python",
   "nbconvert_exporter": "python",
   "pygments_lexer": "ipython3",
   "version": "3.7.1"
  }
 },
 "nbformat": 4,
 "nbformat_minor": 2
}
