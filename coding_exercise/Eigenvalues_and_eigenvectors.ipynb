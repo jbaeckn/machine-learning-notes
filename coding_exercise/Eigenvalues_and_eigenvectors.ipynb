{
 "cells": [
  {
   "cell_type": "code",
   "execution_count": 2,
   "metadata": {},
   "outputs": [],
   "source": [
    "import numpy as np"
   ]
  },
  {
   "cell_type": "markdown",
   "metadata": {},
   "source": [
    "## Eigenvalue and Eigenvectors\n",
    "\n",
    "* For a n by n matrix, if there exists a scala $\\lambda$ and a non-zero vector $\\vec{v}$ such at $A\\vec{x}$ = $\\lambda\\vec{x}$, then $\\lambda$ is $A$'s eigenvalue and $\\vec{v}$ is the corresponding eigenvectors\n",
    "* If $\\lambda$ is $A$'s eigenvalue, then there are infinitely many eigenvectors"
   ]
  },
  {
   "cell_type": "markdown",
   "metadata": {},
   "source": [
    "## Calculating Eigenvalue\n",
    "\n",
    "* For a 2 by 2 matrix, det($A$ - $\\lambda{I_2}$) = 0\n",
    "* det($A$ - $\\lambda{I_2}$) = $\\lambda^2$ - $tr(A)\\lambda$ + $det(A)$ = 0"
   ]
  },
  {
   "cell_type": "markdown",
   "metadata": {},
   "source": [
    "## Similar Matrices\n",
    "\n",
    "* For an invertible matrix $S$, if $S^{-1} A S$ = $B$, then square matrices A and B are called **similar**\n",
    "* Similar matrices share same eigenvalues"
   ]
  },
  {
   "cell_type": "markdown",
   "metadata": {},
   "source": [
    "## Matrix Diagonalization\n",
    "\n",
    "* If a square matrix $A$ is similar to a diagonal matrix $D$, which means $S^{-1} A S$ = $D$, then $A$ is said to be **diagonalizable**\n",
    "* This means that a n by n matrix $A$ has to have n linearly independent eigenvectors in order to be diagonalizable\n",
    "* Diagonalizing a n by n matrix $A$ with n linearly independent eigenvectors:\n",
    "    * Find $A$'s n linearly independent eigenvectors $\\vec{s_1}$, $\\vec{s_2}$, ..., $\\vec{s_n}$\n",
    "    * Form matrix $S$ = [$\\vec{s_1}$,, $\\vec{s_2}$, ..., $\\vec{s_n}$]\n",
    "    * The resulting matrix of $S^{-1} A S$ will be a diagonal matrix whose diagonal elements will be the corresponding eigenvalues"
   ]
  },
  {
   "cell_type": "markdown",
   "metadata": {},
   "source": [
    "## Practice with Codes\n",
    "\n",
    "Use Python's NumPy to find the followings:<br>\n",
    "1. Handle numpy.linalg library \n",
    "2. Find eigenvectors"
   ]
  },
  {
   "cell_type": "markdown",
   "metadata": {},
   "source": [
    "### 1. Finding Eigenvector\n",
    "\n",
    "This is also refered to as **eigen decomposition**, which is the process of finding eigenvalues and eigenvectors"
   ]
  },
  {
   "cell_type": "code",
   "execution_count": 3,
   "metadata": {},
   "outputs": [
    {
     "data": {
      "text/plain": [
       "array([[1, 2, 3],\n",
       "       [4, 5, 6],\n",
       "       [7, 8, 9]])"
      ]
     },
     "execution_count": 3,
     "metadata": {},
     "output_type": "execute_result"
    }
   ],
   "source": [
    "#create a 3x3 array\n",
    "A = np.array([[1,2,3], [4,5,6], [7,8,9]])\n",
    "A"
   ]
  },
  {
   "cell_type": "code",
   "execution_count": 4,
   "metadata": {},
   "outputs": [
    {
     "data": {
      "text/plain": [
       "(array([ 1.61168440e+01, -1.11684397e+00, -1.30367773e-15]),\n",
       " array([[-0.23197069, -0.78583024,  0.40824829],\n",
       "        [-0.52532209, -0.08675134, -0.81649658],\n",
       "        [-0.8186735 ,  0.61232756,  0.40824829]]))"
      ]
     },
     "execution_count": 4,
     "metadata": {},
     "output_type": "execute_result"
    }
   ],
   "source": [
    "np.linalg.eig(A)"
   ]
  },
  {
   "cell_type": "markdown",
   "metadata": {},
   "source": [
    "* In ndarray, the columns are eigenvectors, not the rows. For example column (-0.23197069, -0.52532209, -0.8186735) is one eigenvector"
   ]
  },
  {
   "cell_type": "code",
   "execution_count": 17,
   "metadata": {},
   "outputs": [
    {
     "name": "stdout",
     "output_type": "stream",
     "text": [
      "1st eigenvector : [-0.23197069 -0.52532209 -0.8186735 ]\n",
      "1st eigenvalue : 16.116843969807043\n",
      "Dot product of matrix A and 1st eigenvector : [ -3.73863537  -8.46653421 -13.19443305]\n",
      "Product of 1st eigenvalue and 1st eigenvector : [ -3.73863537  -8.46653421 -13.19443305]\n"
     ]
    }
   ],
   "source": [
    "eigen_vec1 = eigen_vec[:, 0]\n",
    "print(\"1st eigenvector : \" + str(eigen_vec1))\n",
    "\n",
    "eigen_value1=eigen_val[0]\n",
    "eigen_value1\n",
    "print(\"1st eigenvalue : \" + str(eigen_value1))\n",
    "\n",
    "print(\"Dot product of matrix A and 1st eigenvector : \" + str(A.dot(eigen_vec1)))\n",
    "print(\"Product of 1st eigenvalue and 1st eigenvector : \" + str(eigen_value1 * eigen_vec1))"
   ]
  },
  {
   "cell_type": "markdown",
   "metadata": {},
   "source": [
    "* Here we confirmed that there exists a eigenvector such that $A\\vec{x} = \\lambda\\vec{x}$"
   ]
  },
  {
   "cell_type": "markdown",
   "metadata": {},
   "source": [
    "### 2. Eigenvectors Are Unit Vectors (Size is 1)"
   ]
  },
  {
   "cell_type": "code",
   "execution_count": 5,
   "metadata": {},
   "outputs": [
    {
     "data": {
      "text/plain": [
       "array([[0.0538104 , 0.61752916, 0.16666667],\n",
       "       [0.2759633 , 0.00752579, 0.66666667],\n",
       "       [0.6702263 , 0.37494504, 0.16666667]])"
      ]
     },
     "execution_count": 5,
     "metadata": {},
     "output_type": "execute_result"
    }
   ],
   "source": [
    "eigen_val, eigen_vec = np.linalg.eig(A)\n",
    "eigen_vec ** 2"
   ]
  },
  {
   "cell_type": "code",
   "execution_count": 6,
   "metadata": {},
   "outputs": [
    {
     "data": {
      "text/plain": [
       "array([1., 1., 1.])"
      ]
     },
     "execution_count": 6,
     "metadata": {},
     "output_type": "execute_result"
    }
   ],
   "source": [
    "#each eigenvectors' length is 1\n",
    "np.sum(eigen_vec ** 2, axis=0)"
   ]
  },
  {
   "cell_type": "markdown",
   "metadata": {},
   "source": [
    "### 3. Eigenvectors Are Orthogonal ONLY for Symmetric Matrix"
   ]
  },
  {
   "cell_type": "code",
   "execution_count": 27,
   "metadata": {},
   "outputs": [
    {
     "name": "stdout",
     "output_type": "stream",
     "text": [
      "Matrix A is NOT symmetric\n"
     ]
    },
    {
     "data": {
      "text/plain": [
       "array([[1, 2, 3],\n",
       "       [4, 5, 6],\n",
       "       [7, 8, 9]])"
      ]
     },
     "metadata": {},
     "output_type": "display_data"
    },
    {
     "name": "stdout",
     "output_type": "stream",
     "text": [
      "========================\n",
      "Therefore, A's eigenvectors are NOT orthogonal : -0.27343437080986494\n"
     ]
    }
   ],
   "source": [
    "# A는 symmetric이 아니다.\n",
    "print(\"Matrix A is NOT symmetric\")\n",
    "display(A)\n",
    "print(\"========================\")\n",
    "print(\"Therefore, A's eigenvectors are NOT orthogonal : \" + str(np.dot(eigen_vec[:,0], eigen_vec[:,1])))"
   ]
  },
  {
   "cell_type": "code",
   "execution_count": 29,
   "metadata": {},
   "outputs": [
    {
     "name": "stdout",
     "output_type": "stream",
     "text": [
      "Matrix B IS symmetric\n"
     ]
    },
    {
     "data": {
      "text/plain": [
       "array([[ 1, -2],\n",
       "       [-2,  1]])"
      ]
     },
     "metadata": {},
     "output_type": "display_data"
    },
    {
     "name": "stdout",
     "output_type": "stream",
     "text": [
      "========================\n",
      "Therefore, B's eigenvectors ARE orthogonal : 0.0\n"
     ]
    }
   ],
   "source": [
    "# B는 symmetric 이다.\n",
    "B = np.array([[1, -2], [-2, 1]])\n",
    "print(\"Matrix B IS symmetric\")\n",
    "display(B)\n",
    "print(\"========================\")\n",
    "b1, b2 = np.linalg.eig(B)\n",
    "\n",
    "print(\"Therefore, B's eigenvectors ARE orthogonal : \" + str(np.dot(b2[:,0], b2[:,1])))"
   ]
  },
  {
   "cell_type": "markdown",
   "metadata": {},
   "source": [
    "### 4. Diagonalization\n",
    "\n",
    "* If a square matrix $A$ and a diagonal matrix $D$ are similar matrices such that $S^{-1}AS = D$, then $A$ is said to be **diagonalizable**.\n",
    "* Requirement is that a n by n matrix must have n linearly independent eigenvectors\n",
    "* How to diagonalize a n by n matrix with n linearly independent eigenvectors:<br>\n",
    "    1. Find $A$'s $n$ linearly independent eigenvectors $\\vec{s_1}, \\vec{s_2}, ..., \\vec{s_n}$\n",
    "    2. Matrix $S$ = [$\\vec{s_1} \\dots \\vec{s_n}$]\n",
    "    3. The product matrix of $S^{-1}AS$ will be a diagonal matrix whose diagonal elements are corresponding eigenvalues of $\\vec{s_1} \\dots \\vec{s_n}$\n",
    "\n",
    "\n",
    "* Because this is so important, **remember**\n",
    "    1. Diagonalization only exists for **square** matrices\n",
    "    2. Eigenvectors must be linearly independent in order for the matrix to be diagonalized\n",
    "    3. **Symmetric matrices** are diagonalizable"
   ]
  },
  {
   "cell_type": "code",
   "execution_count": 45,
   "metadata": {},
   "outputs": [
    {
     "name": "stdout",
     "output_type": "stream",
     "text": [
      "Symmetric matrix C\n"
     ]
    },
    {
     "data": {
      "text/plain": [
       "array([[1, 2, 3],\n",
       "       [2, 4, 5],\n",
       "       [3, 5, 6]])"
      ]
     },
     "metadata": {},
     "output_type": "display_data"
    }
   ],
   "source": [
    "#create a symmetric matrix\n",
    "c = np.array([[1, 2, 3], [2, 4, 5], [3, 5, 6]])\n",
    "\n",
    "print(\"Symmetric matrix C\")\n",
    "display(c)"
   ]
  },
  {
   "cell_type": "code",
   "execution_count": 46,
   "metadata": {},
   "outputs": [
    {
     "name": "stdout",
     "output_type": "stream",
     "text": [
      "Eigen Values\n",
      "[11.34481428 -0.51572947  0.17091519]\n",
      "========================================\n",
      "Eigen Vectors\n",
      "[[-0.32798528 -0.73697623  0.59100905]\n",
      " [-0.59100905 -0.32798528 -0.73697623]\n",
      " [-0.73697623  0.59100905  0.32798528]]\n"
     ]
    }
   ],
   "source": [
    "#find eigenvalue and eigenvectors of matrix c\n",
    "eigen_val, eigen_vec = np.linalg.eig(c)\n",
    "\n",
    "print(\"Eigen Values\")\n",
    "print(eigen_val)\n",
    "print(\"========================================\")\n",
    "print(\"Eigen Vectors\")\n",
    "print(eigen_vec)"
   ]
  },
  {
   "cell_type": "markdown",
   "metadata": {},
   "source": [
    "* For symmetric matrices, $S^{-1}AS = D$, where the diagonal elements of $D$ are the eigenvalues of $A$<br>\n",
    "* Put it differently, $A = SDS^{-1}$<br>\n",
    "* Let's check if this is true"
   ]
  },
  {
   "cell_type": "code",
   "execution_count": 54,
   "metadata": {},
   "outputs": [
    {
     "data": {
      "text/plain": [
       "array([[1., 2., 3.],\n",
       "       [2., 4., 5.],\n",
       "       [3., 5., 6.]])"
      ]
     },
     "execution_count": 54,
     "metadata": {},
     "output_type": "execute_result"
    }
   ],
   "source": [
    "eigen_vec.dot(np.diag(eigen_val).dot(np.linalg.inv(eigen_vec)))"
   ]
  }
 ],
 "metadata": {
  "kernelspec": {
   "display_name": "Python 3",
   "language": "python",
   "name": "python3"
  },
  "language_info": {
   "codemirror_mode": {
    "name": "ipython",
    "version": 3
   },
   "file_extension": ".py",
   "mimetype": "text/x-python",
   "name": "python",
   "nbconvert_exporter": "python",
   "pygments_lexer": "ipython3",
   "version": "3.7.1"
  }
 },
 "nbformat": 4,
 "nbformat_minor": 2
}
